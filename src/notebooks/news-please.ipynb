{
 "cells": [
  {
   "cell_type": "code",
   "execution_count": 8,
   "metadata": {},
   "outputs": [],
   "source": [
    "from newsplease import NewsPlease"
   ]
  },
  {
   "cell_type": "code",
   "execution_count": 12,
   "metadata": {},
   "outputs": [],
   "source": [
    "article = NewsPlease.from_urls([\"https://www.reuters.com/article/idUSL4N35312D\",\n",
    "                               \"https://www.reuters.com/article/idUSKBN2UI0HR\"])"
   ]
  },
  {
   "cell_type": "code",
   "execution_count": 13,
   "metadata": {},
   "outputs": [
    {
     "data": {
      "text/plain": [
       "dict_items([('https://www.reuters.com/article/idUSL4N35312D', <NewsArticle.NewsArticle object at 0x0000022A26560F08>), ('https://www.reuters.com/article/idUSKBN2UI0HR', <NewsArticle.NewsArticle object at 0x0000022A265603C8>)])"
      ]
     },
     "execution_count": 13,
     "metadata": {},
     "output_type": "execute_result"
    }
   ],
   "source": [
    "article.items()"
   ]
  },
  {
   "cell_type": "code",
   "execution_count": 19,
   "metadata": {},
   "outputs": [
    {
     "data": {
      "text/plain": [
       "defaultdict(list,\n",
       "            {'authors': [[], []],\n",
       "             'date_download': [datetime.datetime(2023, 11, 17, 9, 5, 52),\n",
       "              datetime.datetime(2023, 11, 17, 9, 5, 52)],\n",
       "             'date_modify': [None, None],\n",
       "             'date_publish': [datetime.datetime(2023, 3, 14, 6, 44, 32),\n",
       "              datetime.datetime(2023, 2, 8, 7, 33, 58)],\n",
       "             'description': [\"China is planning to raise its retirement age gradually and in phases to cope with the country's rapidly aging population, the state-backed Global Times said on Tuesday, citing a senior expert from China's Ministry of Human Resources.\",\n",
       "              'Rating agency Fitch has revised its forecast for China\\'s economic growth in 2023 to 5.0% from 4.1% previously as consumption and broader activity are recovering faster than initially anticipated after the end of the \"zero-COVID\" regime.'],\n",
       "             'filename': ['https%3A%2F%2Fwww.reuters.com%2Farticle%2FidUSL4N35312D.json',\n",
       "              'https%3A%2F%2Fwww.reuters.com%2Farticle%2FidUSKBN2UI0HR.json'],\n",
       "             'image_url': ['https://www.reuters.com/resizer/d4N84cX6aLVPtWelRLiRmHGSiWc=/1200x628/smart/filters:quality(80)/cloudfront-us-east-2.images.arcpublishing.com/reuters/FCHVOFYLBRJWJM46D2SP5FBBB4.jpg',\n",
       "              'https://www.reuters.com/resizer/FnxNqbeCIIrlbc6gvAf4FezpXB0=/1200x628/smart/filters:quality(80)/cloudfront-us-east-2.images.arcpublishing.com/reuters/7CB2ISESZ5J3DNPPTCN667H7LM.jpg'],\n",
       "             'language': ['en', 'en'],\n",
       "             'localpath': [None, None],\n",
       "             'maintext': ['HONG KONG, March 14 (Reuters) - China is planning to raise its retirement age gradually and in phases to cope with the country\\'s rapidly aging population, the state-backed Global Times said on Tuesday, citing a senior expert from China\\'s Ministry of Human Resources.\\nJin Weigang, president of the Chinese Academy of Labor and Social Security Sciences, said China was eyeing a \"progressive, flexible and differentiated path to raising the retirement age\", meaning that it would be delayed initially by a few months, which would be subsequently increased.\\n\"People nearing retirement age will only have to delay retirement for several months,\" the Global Times said, citing Jin. Young people may have to work a few years longer but will have a long adaptation and transition period, he said.\\n\"The most important feature of the reform is allowing people to choose when to retire according to their circumstances and conditions.\"\\nChina has yet to formally announce a change to its retirement age, which is among the lowest in the world at 60 for men, 55 for white-collar women and 50 for women who work in factories.\\nLi Qiang, the country\\'s new premier, said on Monday that the government would conduct rigorous studies and analyses to roll out a policy prudently in discourse.\\nAs China\\'s 1.4 billion population declines and ages, in part because of a policy that limited couples to one child from 1980 to 2015, pressure on pension budgets is escalating, creating more urgency for policymakers to address the situation.\\nChina\\'s National Health Commission expects the cohort of people aged 60 and over to rise from 280 million to more than 400 million by 2035 - equal to the entire current populations of Britain and the United States combined.\\nLife expectancy has risen from around 44 years in 1960 to 78 years as of 2021, higher than in the United States, and is projected to exceed 80 years by 2050.\\nAt present, each retiree is supported by the contributions of five workers. The ratio is half what it was a decade ago and is trending towards 4-to-1 in 2030 and 2-to-1 in 2050.\\nDemographers and economists say that the current pension system, which relies on a shrinking active workforce to pay the pensions of a growing number of retirees, is unsustainable and needs to be reformed.\\nEleven of China\\'s 31 provincial-level jurisdictions are running pension budget deficits, finance ministry data show. The state-run Chinese Academy of Sciences sees the pension system running out of money by 2035.\\nReporting by Farah Master in Hong Kong and the Beijing newsroom; Editing by Raju Gopalakrishnan\\nOur Standards: The Thomson Reuters Trust Principles.',\n",
       "              'Feb 8 (Reuters) - Rating agency Fitch has revised its forecast for China\\'s economic growth in 2023 to 5.0% from 4.1% previously as consumption and broader activity are recovering faster than initially anticipated after the end of the \"zero-COVID\" regime.\\nFitch said the recovery will be primarily led by consumption, noting that many high-frequency indicators have recently rebounded though still remain below pre-pandemic\\nnorms.\\nDespite the forecast upgrade, the rating agency expected the economic rebound this year to be less vigorous than that in 2021, when the economy posted GDP growth of 8.4%.\\nFitch was the first major rating agency to upgrade China\\'s 2023 economic growth forecast. S&P Global expected the economy to remain on track for 4.8% GDP growth in 2023, in line with its November baseline while Moody\\'s has retained its November forecast of 4.0% expansion.\\n\"This reflects in part ongoing weakness in the property\\nmarket, which showed little evidence of an improvement in sales or housing starts in late 2022, despite a build-up of incremental policy support,\" Fitch said in a statement.\\nIn addition, net trade may become a drag on economic growth in 2023, Fitch added, with export demand being depressed by economic slowdowns in the United States and the Europe.\\nThe direction of fiscal policy would remain uncertain ahead of the a parliament meeting in March, Fitch said.\\nPremier Li Keqiang pledged last week that the government will work to consolidate and expand the economic recovery momentum despite facing difficulties and challenges.\\nFitch does not expect aggressive macro-policy easing, and is forecasting a budget deficit of around 7% of GDP in 2023, down from an estimated 8% in 2022.\\nPolicymakers plan to step up support for domestic demand this year but are likely to stop short of splashing out big on direct consumer subsidies, keeping their focus mainly on investment, Reuters previously reported.\\nReporting by Shivani Tanna in Bengaluru and Ellen Zhang in Beijing Editing by Shri Navaratnam\\nOur Standards: The Thomson Reuters Trust Principles.'],\n",
       "             'source_domain': ['www.reuters.com', 'www.reuters.com'],\n",
       "             'text': [None, None],\n",
       "             'title': ['China to raise retirement age to deal with aging population - media',\n",
       "              \"Fitch raises China's growth forecast to 5% for 2023\"],\n",
       "             'title_page': [None, None],\n",
       "             'title_rss': [None, None],\n",
       "             'url': ['https://www.reuters.com/article/idUSL4N35312D',\n",
       "              'https://www.reuters.com/article/idUSKBN2UI0HR']})"
      ]
     },
     "execution_count": 19,
     "metadata": {},
     "output_type": "execute_result"
    }
   ],
   "source": [
    "from collections import defaultdict\n",
    "dict = defaultdict(list)\n",
    "            \n",
    "for data in article.values():\n",
    "    for key, value in data.get_dict().items():\n",
    "        dict[key].append(value)\n",
    "        \n",
    "dict"
   ]
  },
  {
   "cell_type": "code",
   "execution_count": 1,
   "metadata": {},
   "outputs": [],
   "source": [
    "import pandas as pd"
   ]
  },
  {
   "cell_type": "code",
   "execution_count": 2,
   "metadata": {},
   "outputs": [],
   "source": [
    "df = pd.read_csv(r\"D:\\Studying\\UoR\\1. Data Mining\\Final_Project\\data\\reuters_url_china.csv\")"
   ]
  },
  {
   "cell_type": "code",
   "execution_count": 3,
   "metadata": {},
   "outputs": [],
   "source": [
    "from datetime import datetime"
   ]
  },
  {
   "cell_type": "code",
   "execution_count": 4,
   "metadata": {},
   "outputs": [
    {
     "data": {
      "text/plain": [
       "5502    2023-03-07 09:48:20\n",
       "4971    2023-07-18 02:25:48\n",
       "4026    2023-09-28 06:07:30\n",
       "2210    2023-07-19 08:34:25\n",
       "2471    2023-07-20 08:01:55\n",
       "387     2023-09-20 04:57:54\n",
       "3028    2023-09-28 03:08:18\n",
       "4121    2023-06-09 08:06:00\n",
       "2697    2023-07-26 09:16:32\n",
       "5125    2023-11-17 11:13:20\n",
       "Name: date_publish, dtype: object"
      ]
     },
     "execution_count": 4,
     "metadata": {},
     "output_type": "execute_result"
    }
   ],
   "source": [
    "df.date_publish.sample(10)"
   ]
  },
  {
   "cell_type": "code",
   "execution_count": 5,
   "metadata": {},
   "outputs": [],
   "source": [
    "time = df.date_publish.apply(lambda x: datetime.strptime(x, \"%Y-%m-%d %H:%M:%S\"))"
   ]
  },
  {
   "cell_type": "code",
   "execution_count": 6,
   "metadata": {},
   "outputs": [
    {
     "data": {
      "text/plain": [
       "2023    5578\n",
       "2022       3\n",
       "Name: date_publish, dtype: int64"
      ]
     },
     "execution_count": 6,
     "metadata": {},
     "output_type": "execute_result"
    }
   ],
   "source": [
    "time.apply(lambda x: x.year).value_counts()"
   ]
  },
  {
   "cell_type": "code",
   "execution_count": 7,
   "metadata": {},
   "outputs": [
    {
     "data": {
      "text/html": [
       "<div>\n",
       "<style scoped>\n",
       "    .dataframe tbody tr th:only-of-type {\n",
       "        vertical-align: middle;\n",
       "    }\n",
       "\n",
       "    .dataframe tbody tr th {\n",
       "        vertical-align: top;\n",
       "    }\n",
       "\n",
       "    .dataframe thead th {\n",
       "        text-align: right;\n",
       "    }\n",
       "</style>\n",
       "<table border=\"1\" class=\"dataframe\">\n",
       "  <thead>\n",
       "    <tr style=\"text-align: right;\">\n",
       "      <th></th>\n",
       "      <th>authors</th>\n",
       "      <th>date_download</th>\n",
       "      <th>date_modify</th>\n",
       "      <th>date_publish</th>\n",
       "      <th>description</th>\n",
       "      <th>filename</th>\n",
       "      <th>image_url</th>\n",
       "      <th>language</th>\n",
       "      <th>localpath</th>\n",
       "      <th>maintext</th>\n",
       "      <th>source_domain</th>\n",
       "      <th>text</th>\n",
       "      <th>title</th>\n",
       "      <th>title_page</th>\n",
       "      <th>title_rss</th>\n",
       "      <th>url</th>\n",
       "    </tr>\n",
       "  </thead>\n",
       "  <tbody>\n",
       "    <tr>\n",
       "      <th>4785</th>\n",
       "      <td>[]</td>\n",
       "      <td>2023-11-17 07:14:54</td>\n",
       "      <td>NaN</td>\n",
       "      <td>2023-02-08 07:33:58</td>\n",
       "      <td>Rating agency Fitch has revised its forecast f...</td>\n",
       "      <td>https%3A%2F%2Fwww.reuters.com%2Farticle%2FidUS...</td>\n",
       "      <td>https://www.reuters.com/resizer/FnxNqbeCIIrlbc...</td>\n",
       "      <td>en</td>\n",
       "      <td>NaN</td>\n",
       "      <td>Feb 8 (Reuters) - Rating agency Fitch has revi...</td>\n",
       "      <td>www.reuters.com</td>\n",
       "      <td>NaN</td>\n",
       "      <td>Fitch raises China's growth forecast to 5% for...</td>\n",
       "      <td>NaN</td>\n",
       "      <td>NaN</td>\n",
       "      <td>https://www.reuters.com/article/idUSKBN2UI0HR</td>\n",
       "    </tr>\n",
       "    <tr>\n",
       "      <th>2888</th>\n",
       "      <td>[]</td>\n",
       "      <td>2023-11-17 03:25:17</td>\n",
       "      <td>NaN</td>\n",
       "      <td>2023-08-28 02:09:20</td>\n",
       "      <td>China stocks surged on Monday after authoritie...</td>\n",
       "      <td>https%3A%2F%2Fwww.reuters.com%2Farticle%2FidUS...</td>\n",
       "      <td>https://www.reuters.com/pf/resources/images/re...</td>\n",
       "      <td>en</td>\n",
       "      <td>NaN</td>\n",
       "      <td>SHANGHAI, Aug 28 (Reuters) - China stocks surg...</td>\n",
       "      <td>www.reuters.com</td>\n",
       "      <td>NaN</td>\n",
       "      <td>China stocks soar after measures to boost inve...</td>\n",
       "      <td>NaN</td>\n",
       "      <td>NaN</td>\n",
       "      <td>https://www.reuters.com/article/idUSL1N3A901Q</td>\n",
       "    </tr>\n",
       "    <tr>\n",
       "      <th>4864</th>\n",
       "      <td>[]</td>\n",
       "      <td>2023-11-17 07:24:41</td>\n",
       "      <td>NaN</td>\n",
       "      <td>2023-03-14 06:44:32</td>\n",
       "      <td>China is planning to raise its retirement age ...</td>\n",
       "      <td>https%3A%2F%2Fwww.reuters.com%2Farticle%2FidUS...</td>\n",
       "      <td>https://www.reuters.com/resizer/d4N84cX6aLVPtW...</td>\n",
       "      <td>en</td>\n",
       "      <td>NaN</td>\n",
       "      <td>HONG KONG, March 14 (Reuters) - China is plann...</td>\n",
       "      <td>www.reuters.com</td>\n",
       "      <td>NaN</td>\n",
       "      <td>China to raise retirement age to deal with agi...</td>\n",
       "      <td>NaN</td>\n",
       "      <td>NaN</td>\n",
       "      <td>https://www.reuters.com/article/idUSL4N35312D</td>\n",
       "    </tr>\n",
       "  </tbody>\n",
       "</table>\n",
       "</div>"
      ],
      "text/plain": [
       "     authors        date_download  date_modify         date_publish  \\\n",
       "4785      []  2023-11-17 07:14:54          NaN  2023-02-08 07:33:58   \n",
       "2888      []  2023-11-17 03:25:17          NaN  2023-08-28 02:09:20   \n",
       "4864      []  2023-11-17 07:24:41          NaN  2023-03-14 06:44:32   \n",
       "\n",
       "                                            description  \\\n",
       "4785  Rating agency Fitch has revised its forecast f...   \n",
       "2888  China stocks surged on Monday after authoritie...   \n",
       "4864  China is planning to raise its retirement age ...   \n",
       "\n",
       "                                               filename  \\\n",
       "4785  https%3A%2F%2Fwww.reuters.com%2Farticle%2FidUS...   \n",
       "2888  https%3A%2F%2Fwww.reuters.com%2Farticle%2FidUS...   \n",
       "4864  https%3A%2F%2Fwww.reuters.com%2Farticle%2FidUS...   \n",
       "\n",
       "                                              image_url language  localpath  \\\n",
       "4785  https://www.reuters.com/resizer/FnxNqbeCIIrlbc...       en        NaN   \n",
       "2888  https://www.reuters.com/pf/resources/images/re...       en        NaN   \n",
       "4864  https://www.reuters.com/resizer/d4N84cX6aLVPtW...       en        NaN   \n",
       "\n",
       "                                               maintext    source_domain  \\\n",
       "4785  Feb 8 (Reuters) - Rating agency Fitch has revi...  www.reuters.com   \n",
       "2888  SHANGHAI, Aug 28 (Reuters) - China stocks surg...  www.reuters.com   \n",
       "4864  HONG KONG, March 14 (Reuters) - China is plann...  www.reuters.com   \n",
       "\n",
       "      text                                              title  title_page  \\\n",
       "4785   NaN  Fitch raises China's growth forecast to 5% for...         NaN   \n",
       "2888   NaN  China stocks soar after measures to boost inve...         NaN   \n",
       "4864   NaN  China to raise retirement age to deal with agi...         NaN   \n",
       "\n",
       "      title_rss                                            url  \n",
       "4785        NaN  https://www.reuters.com/article/idUSKBN2UI0HR  \n",
       "2888        NaN  https://www.reuters.com/article/idUSL1N3A901Q  \n",
       "4864        NaN  https://www.reuters.com/article/idUSL4N35312D  "
      ]
     },
     "execution_count": 7,
     "metadata": {},
     "output_type": "execute_result"
    }
   ],
   "source": [
    "df.sample(3)"
   ]
  }
 ],
 "metadata": {
  "kernelspec": {
   "display_name": "venv",
   "language": "python",
   "name": "python3"
  },
  "language_info": {
   "codemirror_mode": {
    "name": "ipython",
    "version": 3
   },
   "file_extension": ".py",
   "mimetype": "text/x-python",
   "name": "python",
   "nbconvert_exporter": "python",
   "pygments_lexer": "ipython3",
   "version": "3.7.9"
  }
 },
 "nbformat": 4,
 "nbformat_minor": 2
}
