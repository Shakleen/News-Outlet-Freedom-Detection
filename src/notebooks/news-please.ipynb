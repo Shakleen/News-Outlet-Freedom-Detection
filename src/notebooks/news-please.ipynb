{
 "cells": [
  {
   "cell_type": "code",
   "execution_count": 2,
   "metadata": {},
   "outputs": [],
   "source": [
    "from newsplease import NewsPlease"
   ]
  },
  {
   "cell_type": "code",
   "execution_count": 3,
   "metadata": {},
   "outputs": [],
   "source": [
    "article = NewsPlease.from_url(\"https://www.reuters.com/world/china-urges-estonia-abide-by-one-china-principle-2023-11-08/\")"
   ]
  },
  {
   "cell_type": "code",
   "execution_count": 10,
   "metadata": {},
   "outputs": [
    {
     "data": {
      "text/plain": [
       "{'authors': [],\n",
       " 'date_download': datetime.datetime(2023, 11, 13, 7, 36, 25),\n",
       " 'date_modify': None,\n",
       " 'date_publish': datetime.datetime(2023, 11, 8, 8, 8, 1),\n",
       " 'description': \"China's foreign ministry on Wednesday urged Estonia not to allow Taiwan to open any official organisations in the country, after the Chinese ambassador reportedly threatened to leave Estonia if Taiwan opens a representative office in the Baltic nation.\",\n",
       " 'filename': 'https%3A%2F%2Fwww.reuters.com%2Fworld%2Fchina-urges-estonia-abide-by-one-china-principle-2023-11-08%2F.json',\n",
       " 'image_url': 'https://www.reuters.com/resizer/MK76d2rUmy4EY_9O5enMm_shmGc=/1200x628/smart/filters:quality(80)/cloudfront-us-east-2.images.arcpublishing.com/reuters/LLI5POPQTVJATK4ISTV5Y3PPCI.jpg',\n",
       " 'language': 'en',\n",
       " 'localpath': None,\n",
       " 'maintext': 'Chinese Foreign Ministry spokesperson Wang Wenbin takes a question from a journalist during a news briefing following a phone call between Chinese President Xi Jinping and Ukrainian President Volodymyr Zelensky, in Beijing, China April 26, 2023. REUTERS/Florence Lo/File Photo Acquire Licensing Rights\\nBEIJING, Nov 8 (Reuters) - China\\'s foreign ministry on Wednesday urged Estonia not to allow Taiwan to open any official organisations in the country, after the Chinese ambassador reportedly threatened to leave Estonia if Taiwan opens a representative office in the Baltic nation.\\nEstonian media reported on Tuesday that China\\'s ambassador to Estonia, Guo Xiaomei, told a meeting with chairman of the Estonia-China parliamentary group Toomas Kivimagi that she may leave the country if Taiwan opens such an office.\\n\"China urges the Estonian side to abide by its solemn commitment to the one-China principle, refrain from allowing Taiwan to set up any official organisations and effectively safeguard the political basis of bilateral relations,\" ministry spokesperson Wang Wenbin told a regular press briefing.\\nTaiwan\\'s Foreign Ministry said last week that it was still in the discussion phase about setting up a representative office in Estonia and that the two sides had not yet reached consensus on the matter.\\nTaiwan Foreign Minister Joseph Wu is visiting the three Baltic states of Estonia, Lithuania and Latvia this week. Taiwan already has representative offices in Latvia and Lithuania.\\nChina claims democratically-governed Taiwan as its own territory, which Taiwan\\'s government rejects.\\nReporting by Ethan Wang, Ella Cao and Ryan Woo; Additional reporting by Ben Blanchard in Taipei; Editing by Christian Schmollinger and Tomasz Janowski\\nOur Standards: The Thomson Reuters Trust Principles.',\n",
       " 'source_domain': 'www.reuters.com',\n",
       " 'text': None,\n",
       " 'title': 'China urges Estonia not to allow opening of Taiwan office',\n",
       " 'title_page': None,\n",
       " 'title_rss': None,\n",
       " 'url': 'https://www.reuters.com/world/china-urges-estonia-abide-by-one-china-principle-2023-11-08/'}"
      ]
     },
     "execution_count": 10,
     "metadata": {},
     "output_type": "execute_result"
    }
   ],
   "source": [
    "article.get_dict()"
   ]
  }
 ],
 "metadata": {
  "kernelspec": {
   "display_name": "venv",
   "language": "python",
   "name": "python3"
  },
  "language_info": {
   "codemirror_mode": {
    "name": "ipython",
    "version": 3
   },
   "file_extension": ".py",
   "mimetype": "text/x-python",
   "name": "python",
   "nbconvert_exporter": "python",
   "pygments_lexer": "ipython3",
   "version": "3.7.9"
  }
 },
 "nbformat": 4,
 "nbformat_minor": 2
}
