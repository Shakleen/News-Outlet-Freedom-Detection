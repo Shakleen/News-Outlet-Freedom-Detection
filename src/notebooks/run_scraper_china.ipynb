{
 "cells": [
  {
   "cell_type": "code",
   "execution_count": 1,
   "metadata": {},
   "outputs": [],
   "source": [
    "import os\n",
    "os.chdir(r\"D:\\Studying\\UoR\\1. Data Mining\\Final_Project\")"
   ]
  },
  {
   "cell_type": "markdown",
   "metadata": {},
   "source": [
    "# Reuters Scraper"
   ]
  },
  {
   "cell_type": "code",
   "execution_count": 2,
   "metadata": {},
   "outputs": [],
   "source": [
    "from src.scrapers.reuters_scraper import ReutersScraper"
   ]
  },
  {
   "cell_type": "code",
   "execution_count": null,
   "metadata": {},
   "outputs": [
    {
     "name": "stdout",
     "output_type": "stream",
     "text": [
      "[00h 00m 15s] Total saved so far: 2889\n",
      "[00h 00m 27s] Total saved so far: 2889\n",
      "[00h 00m 38s] Total saved so far: 2889\n",
      "[00h 00m 45s] Total saved so far: 2889\n",
      "[00h 00m 52s] Total saved so far: 2889\n",
      "[00h 01m 02s] Total saved so far: 2889\n",
      "[00h 01m 10s] Total saved so far: 2889\n",
      "[00h 01m 19s] Total saved so far: 2889\n",
      "[00h 01m 27s] Total saved so far: 2889\n",
      "[00h 01m 33s] Total saved so far: 2889\n",
      "[00h 01m 40s] Total saved so far: 2889\n",
      "[00h 01m 51s] Total saved so far: 2889\n",
      "[00h 02m 02s] Total saved so far: 2889\n",
      "[00h 02m 12s] Total saved so far: 2889\n",
      "[00h 02m 20s] Total saved so far: 2889\n",
      "[00h 02m 29s] Total saved so far: 2889\n",
      "[00h 02m 35s] Total saved so far: 2889\n",
      "[00h 02m 42s] Total saved so far: 2889\n",
      "[00h 02m 53s] Total saved so far: 2889\n",
      "[00h 02m 59s] Total saved so far: 2889\n",
      "[00h 03m 09s] Total saved so far: 2889\n",
      "[00h 03m 18s] Total saved so far: 2889\n",
      "[00h 03m 28s] Total saved so far: 2889\n",
      "[00h 03m 36s] Total saved so far: 2889\n",
      "[00h 03m 42s] Total saved so far: 2889\n",
      "[00h 03m 53s] Total saved so far: 2889\n",
      "[00h 04m 04s] Total saved so far: 2889\n",
      "[00h 04m 13s] Total saved so far: 2889\n",
      "[00h 04m 21s] Total saved so far: 2889\n",
      "[00h 04m 28s] Total saved so far: 2889\n",
      "[00h 04m 34s] Total saved so far: 2889\n",
      "[00h 04m 45s] Total saved so far: 2889\n",
      "[00h 04m 54s] Total saved so far: 2889\n",
      "[00h 05m 05s] Total saved so far: 2889\n",
      "[00h 05m 12s] Total saved so far: 2889\n",
      "[00h 05m 23s] Total saved so far: 2889\n",
      "[00h 05m 34s] Total saved so far: 2889\n",
      "[00h 05m 45s] Total saved so far: 2889\n",
      "[00h 05m 54s] Total saved so far: 2889\n",
      "[00h 06m 00s] Total saved so far: 2889\n",
      "[00h 06m 08s] Total saved so far: 2889\n",
      "[00h 06m 15s] Total saved so far: 2889\n",
      "[00h 06m 24s] Total saved so far: 2889\n",
      "[00h 06m 33s] Total saved so far: 2889\n",
      "[00h 06m 43s] Total saved so far: 2889\n",
      "[00h 06m 52s] Total saved so far: 2889\n",
      "[00h 06m 58s] Total saved so far: 2889\n",
      "[00h 07m 07s] Total saved so far: 2889\n",
      "[00h 07m 14s] Total saved so far: 2889\n",
      "[00h 07m 23s] Total saved so far: 2889\n",
      "[00h 07m 29s] Total saved so far: 2889\n",
      "[00h 07m 37s] Total saved so far: 2889\n",
      "[00h 07m 49s] Total saved so far: 2889\n",
      "[00h 07m 55s] Total saved so far: 2889\n",
      "[00h 08m 05s] Total saved so far: 2889\n",
      "[00h 08m 15s] Total saved so far: 2889\n",
      "[00h 08m 22s] Total saved so far: 2889\n",
      "[00h 08m 29s] Total saved so far: 2889\n",
      "[00h 08m 38s] Total saved so far: 2889\n",
      "[00h 08m 44s] Total saved so far: 2889\n",
      "[00h 08m 55s] Total saved so far: 2889\n",
      "[00h 09m 04s] Total saved so far: 2889\n",
      "[00h 09m 15s] Total saved so far: 2889\n",
      "[00h 09m 22s] Total saved so far: 2889\n",
      "[00h 09m 31s] Total saved so far: 2889\n",
      "[00h 09m 41s] Total saved so far: 2889\n",
      "[00h 09m 49s] Total saved so far: 2889\n",
      "[00h 09m 57s] Total saved so far: 2889\n"
     ]
    }
   ],
   "source": [
    "url_scraper = ReutersScraper(search_term=\"china\", pause_min=5, pause_max=10)\n",
    "url_scraper.get_urls()"
   ]
  },
  {
   "cell_type": "code",
   "execution_count": null,
   "metadata": {},
   "outputs": [],
   "source": []
  }
 ],
 "metadata": {
  "kernelspec": {
   "display_name": "Python 3 (ipykernel)",
   "language": "python",
   "name": "python3"
  },
  "language_info": {
   "codemirror_mode": {
    "name": "ipython",
    "version": 3
   },
   "file_extension": ".py",
   "mimetype": "text/x-python",
   "name": "python",
   "nbconvert_exporter": "python",
   "pygments_lexer": "ipython3",
   "version": "3.7.9"
  }
 },
 "nbformat": 4,
 "nbformat_minor": 2
}
