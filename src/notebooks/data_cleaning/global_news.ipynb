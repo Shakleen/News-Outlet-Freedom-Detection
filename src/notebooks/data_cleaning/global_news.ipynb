{
 "cells": [
  {
   "cell_type": "code",
   "execution_count": 1,
   "metadata": {},
   "outputs": [],
   "source": [
    "import os\n",
    "os.chdir(\"../../../\")"
   ]
  },
  {
   "cell_type": "markdown",
   "metadata": {},
   "source": [
    "# Global News"
   ]
  },
  {
   "cell_type": "code",
   "execution_count": 2,
   "metadata": {},
   "outputs": [],
   "source": [
    "from src.data_cleaners.global_news_cleaner import GlobalNewsCleaner"
   ]
  },
  {
   "cell_type": "code",
   "execution_count": 3,
   "metadata": {},
   "outputs": [
    {
     "name": "stdout",
     "output_type": "stream",
     "text": [
      "Loaded file: data\\global-news.csv\n",
      "Data shape: (11072, 3)\n",
      "<class 'pandas.core.frame.DataFrame'>\n",
      "RangeIndex: 11072 entries, 0 to 11071\n",
      "Data columns (total 3 columns):\n",
      " #   Column        Non-Null Count  Dtype \n",
      "---  ------        --------------  ----- \n",
      " 0   date_publish  11072 non-null  object\n",
      " 1   maintext      11072 non-null  object\n",
      " 2   title         11072 non-null  object\n",
      "dtypes: object(3)\n",
      "memory usage: 259.6+ KB\n",
      "None\n",
      "Started text processing\n",
      "remove_emails done\n",
      "discard_initial_share_sentence done\n",
      "remove_links done\n",
      "discard_postfix_editorial done\n",
      "discard_initial_share_sentences done\n",
      "discard_story_continues done\n",
      "discard_writers_section done\n",
      "<lambda> done\n",
      "<lambda> done\n",
      "finished text processing\n",
      "Started row processing\n",
      "drop_zero_lengths done\n",
      "Data shape: (11071, 3)\n",
      "drop_unrelated_geo_news done\n",
      "Data shape: (9859, 3)\n",
      "drop_short_news done\n",
      "Data shape: (9855, 3)\n",
      "Finished row processing\n",
      "<class 'pandas.core.frame.DataFrame'>\n",
      "Int64Index: 9855 entries, 0 to 11071\n",
      "Data columns (total 3 columns):\n",
      " #   Column        Non-Null Count  Dtype \n",
      "---  ------        --------------  ----- \n",
      " 0   date_publish  9855 non-null   object\n",
      " 1   maintext      9855 non-null   object\n",
      " 2   title         9855 non-null   object\n",
      "dtypes: object(3)\n",
      "memory usage: 308.0+ KB\n",
      "None\n"
     ]
    }
   ],
   "source": [
    "file_path = r\"data\\global-news.csv\"\n",
    "save_path = r\"data\\cleaned\\global-news.csv\"\n",
    "\n",
    "cleaner = GlobalNewsCleaner(file_path, save_path, \n",
    "                         usecols=[\"maintext\", \"title\", \"date_publish\"])\n",
    "cleaner()"
   ]
  }
 ],
 "metadata": {
  "kernelspec": {
   "display_name": "venv",
   "language": "python",
   "name": "python3"
  },
  "language_info": {
   "codemirror_mode": {
    "name": "ipython",
    "version": 3
   },
   "file_extension": ".py",
   "mimetype": "text/x-python",
   "name": "python",
   "nbconvert_exporter": "python",
   "pygments_lexer": "ipython3",
   "version": "3.7.9"
  }
 },
 "nbformat": 4,
 "nbformat_minor": 2
}
