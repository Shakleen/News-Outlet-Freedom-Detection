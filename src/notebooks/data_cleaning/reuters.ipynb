{
 "cells": [
  {
   "cell_type": "code",
   "execution_count": 1,
   "metadata": {},
   "outputs": [],
   "source": [
    "import os\n",
    "os.chdir(\"../../../\")"
   ]
  },
  {
   "cell_type": "markdown",
   "metadata": {},
   "source": [
    "# Reuters"
   ]
  },
  {
   "cell_type": "markdown",
   "metadata": {},
   "source": [
    "## Canada"
   ]
  },
  {
   "cell_type": "code",
   "execution_count": 2,
   "metadata": {},
   "outputs": [],
   "source": [
    "from src.data_cleaners.reuters_cleaner import ReutersCanada"
   ]
  },
  {
   "cell_type": "code",
   "execution_count": 3,
   "metadata": {},
   "outputs": [
    {
     "name": "stdout",
     "output_type": "stream",
     "text": [
      "Loaded file: data\\raw\\reuters_canada.csv\n",
      "Data shape: (4365, 3)\n",
      "<class 'pandas.core.frame.DataFrame'>\n",
      "RangeIndex: 4365 entries, 0 to 4364\n",
      "Data columns (total 3 columns):\n",
      " #   Column        Non-Null Count  Dtype \n",
      "---  ------        --------------  ----- \n",
      " 0   date_publish  4365 non-null   object\n",
      " 1   maintext      4365 non-null   object\n",
      " 2   title         4365 non-null   object\n",
      "dtypes: object(3)\n",
      "memory usage: 102.4+ KB\n",
      "None\n",
      "Started text processing\n",
      "discard_reporting_by done\n",
      "remove_links done\n",
      "remove_read_more done\n",
      "discard_initial_location_and_date done\n",
      "discard_initial_breaking_news done\n",
      "<lambda> done\n",
      "finished text processing\n",
      "Started row processing\n",
      "drop_annual_inflation_rate_news done\n",
      "Data shape: (2665, 3)\n",
      "drop_zero_lengths done\n",
      "Data shape: (2665, 3)\n",
      "drop_unrelated_geo_news done\n",
      "Data shape: (2559, 3)\n",
      "drop_short_news done\n",
      "Data shape: (2282, 3)\n",
      "Finished row processing\n",
      "<class 'pandas.core.frame.DataFrame'>\n",
      "Int64Index: 2282 entries, 0 to 4360\n",
      "Data columns (total 3 columns):\n",
      " #   Column        Non-Null Count  Dtype \n",
      "---  ------        --------------  ----- \n",
      " 0   date_publish  2282 non-null   object\n",
      " 1   maintext      2282 non-null   object\n",
      " 2   title         2282 non-null   object\n",
      "dtypes: object(3)\n",
      "memory usage: 71.3+ KB\n",
      "None\n"
     ]
    }
   ],
   "source": [
    "file_path = r\"data\\raw\\reuters_canada.csv\"\n",
    "save_path = r\"data\\cleaned\\reuters_canada.csv\"\n",
    "\n",
    "cleaner = ReutersCanada(file_path, save_path, \n",
    "                         usecols=[\"maintext\", \"title\", \"date_publish\"])\n",
    "cleaner()"
   ]
  },
  {
   "cell_type": "markdown",
   "metadata": {},
   "source": [
    "## China"
   ]
  },
  {
   "cell_type": "code",
   "execution_count": 4,
   "metadata": {},
   "outputs": [],
   "source": [
    "from src.data_cleaners.reuters_cleaner import ReutersChina"
   ]
  },
  {
   "cell_type": "code",
   "execution_count": 5,
   "metadata": {},
   "outputs": [
    {
     "name": "stdout",
     "output_type": "stream",
     "text": [
      "Loaded file: data\\raw\\reuters_china.csv\n",
      "Data shape: (15287, 3)\n",
      "<class 'pandas.core.frame.DataFrame'>\n",
      "RangeIndex: 15287 entries, 0 to 15286\n",
      "Data columns (total 3 columns):\n",
      " #   Column        Non-Null Count  Dtype \n",
      "---  ------        --------------  ----- \n",
      " 0   date_publish  15287 non-null  object\n",
      " 1   maintext      15287 non-null  object\n",
      " 2   title         15287 non-null  object\n",
      "dtypes: object(3)\n",
      "memory usage: 358.4+ KB\n",
      "None\n",
      "Started text processing\n",
      "discard_reporting_by done\n",
      "remove_links done\n",
      "remove_read_more done\n",
      "discard_initial_location_and_date done\n",
      "discard_initial_breaking_news done\n",
      "<lambda> done\n",
      "finished text processing\n",
      "Started row processing\n",
      "drop_annual_inflation_rate_news done\n",
      "Data shape: (2289, 3)\n",
      "drop_zero_lengths done\n",
      "Data shape: (2289, 3)\n",
      "drop_unrelated_geo_news done\n",
      "Data shape: (2120, 3)\n",
      "drop_short_news done\n",
      "Data shape: (2043, 3)\n",
      "Finished row processing\n",
      "<class 'pandas.core.frame.DataFrame'>\n",
      "Int64Index: 2043 entries, 0 to 12675\n",
      "Data columns (total 3 columns):\n",
      " #   Column        Non-Null Count  Dtype \n",
      "---  ------        --------------  ----- \n",
      " 0   date_publish  2043 non-null   object\n",
      " 1   maintext      2043 non-null   object\n",
      " 2   title         2043 non-null   object\n",
      "dtypes: object(3)\n",
      "memory usage: 63.8+ KB\n",
      "None\n"
     ]
    }
   ],
   "source": [
    "file_path = r\"data\\raw\\reuters_china.csv\"\n",
    "save_path = r\"data\\cleaned\\reuters_china.csv\"\n",
    "\n",
    "cleaner = ReutersChina(file_path, save_path,\n",
    "                       usecols=[\"maintext\", \"title\", \"date_publish\"])\n",
    "cleaner()"
   ]
  },
  {
   "cell_type": "markdown",
   "metadata": {},
   "source": [
    "## Russia"
   ]
  },
  {
   "cell_type": "code",
   "execution_count": 6,
   "metadata": {},
   "outputs": [],
   "source": [
    "from src.data_cleaners.reuters_cleaner import ReutersRussia"
   ]
  },
  {
   "cell_type": "code",
   "execution_count": 7,
   "metadata": {},
   "outputs": [
    {
     "name": "stdout",
     "output_type": "stream",
     "text": [
      "Loaded file: data\\raw\\reuters_russia.csv\n",
      "Data shape: (5845, 3)\n",
      "<class 'pandas.core.frame.DataFrame'>\n",
      "RangeIndex: 5845 entries, 0 to 5844\n",
      "Data columns (total 3 columns):\n",
      " #   Column        Non-Null Count  Dtype \n",
      "---  ------        --------------  ----- \n",
      " 0   date_publish  5845 non-null   object\n",
      " 1   maintext      5845 non-null   object\n",
      " 2   title         5845 non-null   object\n",
      "dtypes: object(3)\n",
      "memory usage: 137.1+ KB\n",
      "None\n",
      "Started text processing\n",
      "discard_reporting_by done\n",
      "remove_links done\n",
      "remove_read_more done\n",
      "discard_initial_location_and_date done\n",
      "discard_initial_breaking_news done\n",
      "<lambda> done\n",
      "finished text processing\n",
      "Started row processing\n",
      "drop_annual_inflation_rate_news done\n",
      "Data shape: (3817, 3)\n",
      "drop_zero_lengths done\n",
      "Data shape: (3814, 3)\n",
      "drop_unrelated_geo_news done\n",
      "Data shape: (3614, 3)\n",
      "drop_short_news done\n",
      "Data shape: (3604, 3)\n",
      "Finished row processing\n",
      "<class 'pandas.core.frame.DataFrame'>\n",
      "Int64Index: 3604 entries, 0 to 5844\n",
      "Data columns (total 3 columns):\n",
      " #   Column        Non-Null Count  Dtype \n",
      "---  ------        --------------  ----- \n",
      " 0   date_publish  3604 non-null   object\n",
      " 1   maintext      3604 non-null   object\n",
      " 2   title         3604 non-null   object\n",
      "dtypes: object(3)\n",
      "memory usage: 112.6+ KB\n",
      "None\n"
     ]
    }
   ],
   "source": [
    "file_path = r\"data\\raw\\reuters_russia.csv\"\n",
    "save_path = r\"data\\cleaned\\reuters_russia.csv\"\n",
    "\n",
    "cleaner = ReutersRussia(file_path, save_path,\n",
    "                       usecols=[\"maintext\", \"title\", \"date_publish\"])\n",
    "cleaner()"
   ]
  }
 ],
 "metadata": {
  "kernelspec": {
   "display_name": "venv",
   "language": "python",
   "name": "python3"
  },
  "language_info": {
   "codemirror_mode": {
    "name": "ipython",
    "version": 3
   },
   "file_extension": ".py",
   "mimetype": "text/x-python",
   "name": "python",
   "nbconvert_exporter": "python",
   "pygments_lexer": "ipython3",
   "version": "3.7.9"
  }
 },
 "nbformat": 4,
 "nbformat_minor": 2
}
