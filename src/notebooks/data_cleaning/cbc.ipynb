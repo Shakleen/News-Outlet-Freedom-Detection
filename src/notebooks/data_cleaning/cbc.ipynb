{
 "cells": [
  {
   "cell_type": "code",
   "execution_count": 1,
   "metadata": {},
   "outputs": [],
   "source": [
    "import os\n",
    "os.chdir(\"../../../\")"
   ]
  },
  {
   "cell_type": "markdown",
   "metadata": {},
   "source": [
    "# CBC"
   ]
  },
  {
   "cell_type": "code",
   "execution_count": 2,
   "metadata": {},
   "outputs": [],
   "source": [
    "from src.data_cleaners.cbc_cleaner import CBCCleaner"
   ]
  },
  {
   "cell_type": "code",
   "execution_count": 3,
   "metadata": {},
   "outputs": [
    {
     "name": "stdout",
     "output_type": "stream",
     "text": [
      "Loaded file: data\\raw\\cbc.csv\n",
      "Data shape: (1546, 3)\n",
      "<class 'pandas.core.frame.DataFrame'>\n",
      "RangeIndex: 1546 entries, 0 to 1545\n",
      "Data columns (total 3 columns):\n",
      " #   Column        Non-Null Count  Dtype \n",
      "---  ------        --------------  ----- \n",
      " 0   date_publish  1546 non-null   object\n",
      " 1   maintext      1546 non-null   object\n",
      " 2   title         1546 non-null   object\n",
      "dtypes: object(3)\n",
      "memory usage: 36.4+ KB\n",
      "None\n",
      "Started text processing\n",
      "remove_emails done\n",
      "discard_photo_by done\n",
      "remove_links done\n",
      "discard_warning_text done\n",
      "<lambda> done\n",
      "<lambda> done\n",
      "finished text processing\n",
      "Started row processing\n",
      "drop_zero_lengths done\n",
      "Data shape: (1521, 3)\n",
      "drop_unrelated_geo_news done\n",
      "Data shape: (1262, 3)\n",
      "drop_short_news done\n",
      "Data shape: (1262, 3)\n",
      "Finished row processing\n",
      "<class 'pandas.core.frame.DataFrame'>\n",
      "Int64Index: 1262 entries, 0 to 1544\n",
      "Data columns (total 3 columns):\n",
      " #   Column        Non-Null Count  Dtype \n",
      "---  ------        --------------  ----- \n",
      " 0   date_publish  1262 non-null   object\n",
      " 1   maintext      1262 non-null   object\n",
      " 2   title         1262 non-null   object\n",
      "dtypes: object(3)\n",
      "memory usage: 71.7+ KB\n",
      "None\n"
     ]
    }
   ],
   "source": [
    "file_path = r\"data\\raw\\cbc.csv\"\n",
    "save_path = r\"data\\cleaned\\cbc.csv\"\n",
    "\n",
    "cleaner = CBCCleaner(file_path, save_path, \n",
    "                         usecols=[\"maintext\", \"title\", \"date_publish\"])\n",
    "cleaner()"
   ]
  }
 ],
 "metadata": {
  "kernelspec": {
   "display_name": "venv",
   "language": "python",
   "name": "python3"
  },
  "language_info": {
   "codemirror_mode": {
    "name": "ipython",
    "version": 3
   },
   "file_extension": ".py",
   "mimetype": "text/x-python",
   "name": "python",
   "nbconvert_exporter": "python",
   "pygments_lexer": "ipython3",
   "version": "3.7.9"
  }
 },
 "nbformat": 4,
 "nbformat_minor": 2
}
