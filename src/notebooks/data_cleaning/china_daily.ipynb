{
 "cells": [
  {
   "cell_type": "code",
   "execution_count": 1,
   "metadata": {},
   "outputs": [],
   "source": [
    "import os\n",
    "os.chdir(\"../../../\")"
   ]
  },
  {
   "cell_type": "markdown",
   "metadata": {},
   "source": [
    "# China Daily"
   ]
  },
  {
   "cell_type": "code",
   "execution_count": 2,
   "metadata": {},
   "outputs": [],
   "source": [
    "from src.data_cleaners.china_daily_cleaner import ChinaDailyCleaner"
   ]
  },
  {
   "cell_type": "code",
   "execution_count": 3,
   "metadata": {},
   "outputs": [
    {
     "name": "stdout",
     "output_type": "stream",
     "text": [
      "Loaded file: data\\raw\\china_daily.csv\n",
      "Data shape: (8728, 3)\n",
      "<class 'pandas.core.frame.DataFrame'>\n",
      "RangeIndex: 8728 entries, 0 to 8727\n",
      "Data columns (total 3 columns):\n",
      " #   Column        Non-Null Count  Dtype \n",
      "---  ------        --------------  ----- \n",
      " 0   date_publish  8728 non-null   object\n",
      " 1   maintext      8728 non-null   object\n",
      " 2   title         8728 non-null   object\n",
      "dtypes: object(3)\n",
      "memory usage: 204.7+ KB\n",
      "None\n",
      "Started text processing\n",
      "remove_emails done\n",
      "discard_china_daily_stamp done\n",
      "discard_photo_by done\n",
      "remove_links done\n",
      "remove_read_more done\n",
      "discard_initial_beijing done\n",
      "discard_initial_reporter_name done\n",
      "discard_initial_reporting_details done\n",
      "<lambda> done\n",
      "finished text processing\n",
      "Started row processing\n",
      "drop_publish_media_online done\n",
      "Data shape: (8325, 3)\n",
      "drop_zero_lengths done\n",
      "Data shape: (8317, 3)\n",
      "drop_unrelated_geo_news done\n",
      "Data shape: (7425, 3)\n",
      "drop_short_news done\n",
      "Data shape: (7354, 3)\n",
      "Finished row processing\n",
      "<class 'pandas.core.frame.DataFrame'>\n",
      "Int64Index: 7354 entries, 0 to 8727\n",
      "Data columns (total 3 columns):\n",
      " #   Column        Non-Null Count  Dtype \n",
      "---  ------        --------------  ----- \n",
      " 0   date_publish  7354 non-null   object\n",
      " 1   maintext      7354 non-null   object\n",
      " 2   title         7354 non-null   object\n",
      "dtypes: object(3)\n",
      "memory usage: 229.8+ KB\n",
      "None\n"
     ]
    }
   ],
   "source": [
    "file_path = r\"data\\raw\\china_daily.csv\"\n",
    "save_path = r\"data\\cleaned\\china_daily.csv\"\n",
    "\n",
    "cleaner = ChinaDailyCleaner(file_path, save_path, \n",
    "                         usecols=[\"maintext\", \"title\", \"date_publish\"])\n",
    "cleaner()"
   ]
  }
 ],
 "metadata": {
  "kernelspec": {
   "display_name": "venv",
   "language": "python",
   "name": "python3"
  },
  "language_info": {
   "codemirror_mode": {
    "name": "ipython",
    "version": 3
   },
   "file_extension": ".py",
   "mimetype": "text/x-python",
   "name": "python",
   "nbconvert_exporter": "python",
   "pygments_lexer": "ipython3",
   "version": "3.7.9"
  }
 },
 "nbformat": 4,
 "nbformat_minor": 2
}
