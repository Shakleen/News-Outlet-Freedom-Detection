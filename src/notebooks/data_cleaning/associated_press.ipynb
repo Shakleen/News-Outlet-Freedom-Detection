{
 "cells": [
  {
   "cell_type": "code",
   "execution_count": 1,
   "metadata": {},
   "outputs": [],
   "source": [
    "import os\n",
    "os.chdir(\"../../../\")"
   ]
  },
  {
   "cell_type": "markdown",
   "metadata": {},
   "source": [
    "# Associated Press"
   ]
  },
  {
   "cell_type": "markdown",
   "metadata": {},
   "source": [
    "## Canada"
   ]
  },
  {
   "cell_type": "code",
   "execution_count": 2,
   "metadata": {},
   "outputs": [],
   "source": [
    "from src.data_cleaners.ap_cleaner import APCanada"
   ]
  },
  {
   "cell_type": "code",
   "execution_count": 3,
   "metadata": {},
   "outputs": [
    {
     "name": "stdout",
     "output_type": "stream",
     "text": [
      "Loaded file: data\\raw\\ap_canada.csv\n",
      "Data shape: (599, 3)\n",
      "<class 'pandas.core.frame.DataFrame'>\n",
      "RangeIndex: 599 entries, 0 to 598\n",
      "Data columns (total 3 columns):\n",
      " #   Column        Non-Null Count  Dtype \n",
      "---  ------        --------------  ----- \n",
      " 0   date_publish  599 non-null    object\n",
      " 1   maintext      599 non-null    object\n",
      " 2   title         599 non-null    object\n",
      "dtypes: object(3)\n",
      "memory usage: 14.2+ KB\n",
      "None\n",
      "Started text processing\n",
      "remove_links done\n",
      "discard_initial_location_and_date done\n",
      "discard_postfix_refs done\n",
      "discard_photo_by done\n",
      "discard_postfix_editorial done\n",
      "discard_postfix_reported_from done\n",
      "discard_postfix_socials done\n",
      "discard_postfix_credits done\n",
      "<lambda> done\n",
      "<lambda> done\n",
      "finished text processing\n",
      "Started row processing\n",
      "drop_zero_lengths done\n",
      "Data shape: (599, 3)\n",
      "drop_unrelated_geo_news done\n",
      "Data shape: (537, 3)\n",
      "drop_short_news done\n",
      "Data shape: (537, 3)\n",
      "Finished row processing\n",
      "<class 'pandas.core.frame.DataFrame'>\n",
      "Int64Index: 537 entries, 0 to 598\n",
      "Data columns (total 3 columns):\n",
      " #   Column        Non-Null Count  Dtype \n",
      "---  ------        --------------  ----- \n",
      " 0   date_publish  537 non-null    object\n",
      " 1   maintext      537 non-null    object\n",
      " 2   title         537 non-null    object\n",
      "dtypes: object(3)\n",
      "memory usage: 32.9+ KB\n",
      "None\n"
     ]
    }
   ],
   "source": [
    "file_path = r\"data\\raw\\ap_canada.csv\"\n",
    "save_path = r\"data\\cleaned\\ap_canada.csv\"\n",
    "\n",
    "cleaner = APCanada(file_path, save_path, \n",
    "                   usecols=[\"maintext\", \"title\", \"date_publish\"])\n",
    "cleaner()"
   ]
  },
  {
   "cell_type": "markdown",
   "metadata": {},
   "source": [
    "## China"
   ]
  },
  {
   "cell_type": "code",
   "execution_count": 4,
   "metadata": {},
   "outputs": [],
   "source": [
    "from src.data_cleaners.ap_cleaner import APChina"
   ]
  },
  {
   "cell_type": "code",
   "execution_count": 5,
   "metadata": {},
   "outputs": [
    {
     "name": "stdout",
     "output_type": "stream",
     "text": [
      "Loaded file: data\\raw\\ap_china.csv\n",
      "Data shape: (600, 3)\n",
      "<class 'pandas.core.frame.DataFrame'>\n",
      "RangeIndex: 600 entries, 0 to 599\n",
      "Data columns (total 3 columns):\n",
      " #   Column        Non-Null Count  Dtype \n",
      "---  ------        --------------  ----- \n",
      " 0   date_publish  600 non-null    object\n",
      " 1   maintext      600 non-null    object\n",
      " 2   title         600 non-null    object\n",
      "dtypes: object(3)\n",
      "memory usage: 14.2+ KB\n",
      "None\n",
      "Started text processing\n",
      "remove_links done\n",
      "discard_initial_location_and_date done\n",
      "discard_postfix_refs done\n",
      "discard_photo_by done\n",
      "discard_postfix_editorial done\n",
      "discard_postfix_reported_from done\n",
      "discard_postfix_socials done\n",
      "discard_postfix_credits done\n",
      "<lambda> done\n",
      "<lambda> done\n",
      "finished text processing\n",
      "Started row processing\n",
      "drop_zero_lengths done\n",
      "Data shape: (600, 3)\n",
      "drop_unrelated_geo_news done\n",
      "Data shape: (587, 3)\n",
      "drop_short_news done\n",
      "Data shape: (587, 3)\n",
      "Finished row processing\n",
      "<class 'pandas.core.frame.DataFrame'>\n",
      "Int64Index: 587 entries, 0 to 599\n",
      "Data columns (total 3 columns):\n",
      " #   Column        Non-Null Count  Dtype \n",
      "---  ------        --------------  ----- \n",
      " 0   date_publish  587 non-null    object\n",
      " 1   maintext      587 non-null    object\n",
      " 2   title         587 non-null    object\n",
      "dtypes: object(3)\n",
      "memory usage: 34.5+ KB\n",
      "None\n"
     ]
    }
   ],
   "source": [
    "file_path = r\"data\\raw\\ap_china.csv\"\n",
    "save_path = r\"data\\cleaned\\ap_china.csv\"\n",
    "\n",
    "cleaner = APChina(file_path, save_path,\n",
    "                       usecols=[\"maintext\", \"title\", \"date_publish\"])\n",
    "cleaner()"
   ]
  },
  {
   "cell_type": "markdown",
   "metadata": {},
   "source": [
    "## Russia"
   ]
  },
  {
   "cell_type": "code",
   "execution_count": 6,
   "metadata": {},
   "outputs": [],
   "source": [
    "from src.data_cleaners.ap_cleaner import APRussia"
   ]
  },
  {
   "cell_type": "code",
   "execution_count": 8,
   "metadata": {},
   "outputs": [
    {
     "name": "stdout",
     "output_type": "stream",
     "text": [
      "Loaded file: data\\raw\\ap_russia.csv\n",
      "Data shape: (600, 3)\n",
      "<class 'pandas.core.frame.DataFrame'>\n",
      "RangeIndex: 600 entries, 0 to 599\n",
      "Data columns (total 3 columns):\n",
      " #   Column        Non-Null Count  Dtype \n",
      "---  ------        --------------  ----- \n",
      " 0   date_publish  600 non-null    object\n",
      " 1   maintext      600 non-null    object\n",
      " 2   title         600 non-null    object\n",
      "dtypes: object(3)\n",
      "memory usage: 14.2+ KB\n",
      "None\n",
      "Started text processing\n",
      "remove_links done\n",
      "discard_initial_location_and_date done\n",
      "discard_postfix_refs done\n",
      "discard_photo_by done\n",
      "discard_postfix_editorial done\n",
      "discard_postfix_reported_from done\n",
      "discard_postfix_socials done\n",
      "discard_postfix_credits done\n",
      "<lambda> done\n",
      "<lambda> done\n",
      "finished text processing\n",
      "Started row processing\n",
      "drop_zero_lengths done\n",
      "Data shape: (600, 3)\n",
      "drop_unrelated_geo_news done\n",
      "Data shape: (593, 3)\n",
      "drop_short_news done\n",
      "Data shape: (592, 3)\n",
      "Finished row processing\n",
      "<class 'pandas.core.frame.DataFrame'>\n",
      "Int64Index: 592 entries, 0 to 599\n",
      "Data columns (total 3 columns):\n",
      " #   Column        Non-Null Count  Dtype \n",
      "---  ------        --------------  ----- \n",
      " 0   date_publish  592 non-null    object\n",
      " 1   maintext      592 non-null    object\n",
      " 2   title         592 non-null    object\n",
      "dtypes: object(3)\n",
      "memory usage: 18.5+ KB\n",
      "None\n"
     ]
    }
   ],
   "source": [
    "file_path = r\"data\\raw\\ap_russia.csv\"\n",
    "save_path = r\"data\\cleaned\\ap_russia.csv\"\n",
    "\n",
    "cleaner = APRussia(file_path, save_path,\n",
    "                       usecols=[\"maintext\", \"title\", \"date_publish\"])\n",
    "cleaner()"
   ]
  }
 ],
 "metadata": {
  "kernelspec": {
   "display_name": "venv",
   "language": "python",
   "name": "python3"
  },
  "language_info": {
   "codemirror_mode": {
    "name": "ipython",
    "version": 3
   },
   "file_extension": ".py",
   "mimetype": "text/x-python",
   "name": "python",
   "nbconvert_exporter": "python",
   "pygments_lexer": "ipython3",
   "version": "3.7.9"
  }
 },
 "nbformat": 4,
 "nbformat_minor": 2
}
