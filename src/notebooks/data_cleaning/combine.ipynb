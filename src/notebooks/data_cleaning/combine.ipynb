{
 "cells": [
  {
   "cell_type": "code",
   "execution_count": 1,
   "metadata": {},
   "outputs": [],
   "source": [
    "import os\n",
    "import pandas as pd"
   ]
  },
  {
   "cell_type": "code",
   "execution_count": 2,
   "metadata": {},
   "outputs": [],
   "source": [
    "ROOT_PATH = r\"D:\\Studying\\UoR\\1. Data Mining\\Final_Project\\data\\cleaned\""
   ]
  },
  {
   "cell_type": "markdown",
   "metadata": {},
   "source": [
    "## Canada"
   ]
  },
  {
   "cell_type": "code",
   "execution_count": 3,
   "metadata": {},
   "outputs": [],
   "source": [
    "NATIONAL_CANADA = [\"cbc.csv\", \"global-news.csv\"]\n",
    "INTERNATIONAL_CANADA = [\"reuters_canada.csv\", \"ap_canada.csv\"]\n",
    "OUTPUT_CANADA = os.path.join(ROOT_PATH, \"canada.csv\")"
   ]
  },
  {
   "cell_type": "code",
   "execution_count": 4,
   "metadata": {},
   "outputs": [],
   "source": [
    "for file_name in NATIONAL_CANADA:\n",
    "    path = os.path.join(ROOT_PATH, file_name)\n",
    "    df = pd.read_csv(path)\n",
    "    df[\"source_type\"] = [\"local\"] * df.shape[0]\n",
    "    df[\"source_name\"] = file_name.split(\".\")[0]\n",
    "    df.to_csv(OUTPUT_CANADA, index=None)\n",
    "    del df"
   ]
  },
  {
   "cell_type": "code",
   "execution_count": 5,
   "metadata": {},
   "outputs": [],
   "source": [
    "for file_name in INTERNATIONAL_CANADA:\n",
    "    path = os.path.join(ROOT_PATH, file_name)\n",
    "    df = pd.read_csv(path)\n",
    "    df[\"source_type\"] = [\"international\"] * df.shape[0]\n",
    "    df[\"source_name\"] = file_name.split(\".\")[0].split(\"_\")[0]\n",
    "    df.to_csv(OUTPUT_CANADA, index=None, mode=\"a\", header=None)\n",
    "    del df"
   ]
  },
  {
   "cell_type": "code",
   "execution_count": 6,
   "metadata": {},
   "outputs": [],
   "source": [
    "df = pd.read_csv(OUTPUT_CANADA)\n",
    "df = df.sample(frac=1)\n",
    "df.to_csv(OUTPUT_CANADA, index=None)\n",
    "del df\n",
    "# df.groupby(\"source_type\").count()"
   ]
  },
  {
   "cell_type": "markdown",
   "metadata": {},
   "source": [
    "## Russia"
   ]
  },
  {
   "cell_type": "code",
   "execution_count": 7,
   "metadata": {},
   "outputs": [],
   "source": [
    "NATIONAL_RUSSIA = [\"moscow_times.csv\"]\n",
    "INTERNATIONAL_RUSSIA = [\"reuters_russia.csv\", \"ap_russia.csv\"]\n",
    "OUTPUT_RUSSIA = os.path.join(ROOT_PATH, \"russia.csv\")"
   ]
  },
  {
   "cell_type": "code",
   "execution_count": 8,
   "metadata": {},
   "outputs": [],
   "source": [
    "for file_name in NATIONAL_RUSSIA:\n",
    "    path = os.path.join(ROOT_PATH, file_name)\n",
    "    df = pd.read_csv(path)\n",
    "    df[\"source_type\"] = [\"local\"] * df.shape[0]\n",
    "    df[\"source_name\"] = file_name.split(\".\")[0]\n",
    "    df.to_csv(OUTPUT_RUSSIA, index=None)\n",
    "    del df"
   ]
  },
  {
   "cell_type": "code",
   "execution_count": 9,
   "metadata": {},
   "outputs": [],
   "source": [
    "for file_name in INTERNATIONAL_RUSSIA:\n",
    "    path = os.path.join(ROOT_PATH, file_name)\n",
    "    df = pd.read_csv(path)\n",
    "    df[\"source_type\"] = [\"international\"] * df.shape[0]\n",
    "    df[\"source_name\"] = file_name.split(\".\")[0].split(\"_\")[0]\n",
    "    df.to_csv(OUTPUT_RUSSIA, index=None, mode=\"a\", header=None)\n",
    "    del df"
   ]
  },
  {
   "cell_type": "code",
   "execution_count": 10,
   "metadata": {},
   "outputs": [],
   "source": [
    "df = pd.read_csv(OUTPUT_RUSSIA)\n",
    "df = df.sample(frac=1)\n",
    "df.to_csv(OUTPUT_RUSSIA, index=None)\n",
    "del df\n",
    "# df.groupby(\"source_type\").count()"
   ]
  },
  {
   "cell_type": "markdown",
   "metadata": {},
   "source": [
    "## China"
   ]
  },
  {
   "cell_type": "code",
   "execution_count": 11,
   "metadata": {},
   "outputs": [],
   "source": [
    "NATIONAL_CHINA = [\"china_daily.csv\"]\n",
    "INTERNATIONAL_CHINA = [\"reuters_china.csv\", \"ap_china.csv\"]\n",
    "OUTPUT_CHINA = os.path.join(ROOT_PATH, \"china.csv\")"
   ]
  },
  {
   "cell_type": "code",
   "execution_count": 12,
   "metadata": {},
   "outputs": [],
   "source": [
    "for file_name in NATIONAL_CHINA:\n",
    "    path = os.path.join(ROOT_PATH, file_name)\n",
    "    df = pd.read_csv(path)\n",
    "    df[\"source_type\"] = [\"local\"] * df.shape[0]\n",
    "    df[\"source_name\"] = file_name.split(\".\")[0]\n",
    "    df.to_csv(OUTPUT_CHINA, index=None)\n",
    "    del df"
   ]
  },
  {
   "cell_type": "code",
   "execution_count": 13,
   "metadata": {},
   "outputs": [],
   "source": [
    "for file_name in INTERNATIONAL_CHINA:\n",
    "    path = os.path.join(ROOT_PATH, file_name)\n",
    "    df = pd.read_csv(path)\n",
    "    df[\"source_type\"] = [\"international\"] * df.shape[0]\n",
    "    df[\"source_name\"] = file_name.split(\".\")[0].split(\"_\")[0]\n",
    "    df.to_csv(OUTPUT_CHINA, index=None, mode=\"a\", header=None)\n",
    "    del df"
   ]
  },
  {
   "cell_type": "code",
   "execution_count": 14,
   "metadata": {},
   "outputs": [],
   "source": [
    "df = pd.read_csv(OUTPUT_CHINA)\n",
    "df = df.sample(frac=1)\n",
    "df.to_csv(OUTPUT_CHINA, index=None)\n",
    "del df\n",
    "# df.groupby(\"source_type\").count()"
   ]
  }
 ],
 "metadata": {
  "kernelspec": {
   "display_name": "venv",
   "language": "python",
   "name": "python3"
  },
  "language_info": {
   "codemirror_mode": {
    "name": "ipython",
    "version": 3
   },
   "file_extension": ".py",
   "mimetype": "text/x-python",
   "name": "python",
   "nbconvert_exporter": "python",
   "pygments_lexer": "ipython3",
   "version": "3.7.9"
  }
 },
 "nbformat": 4,
 "nbformat_minor": 2
}
