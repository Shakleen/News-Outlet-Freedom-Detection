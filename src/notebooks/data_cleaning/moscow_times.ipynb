{
 "cells": [
  {
   "cell_type": "code",
   "execution_count": 1,
   "metadata": {},
   "outputs": [],
   "source": [
    "import os\n",
    "os.chdir(\"../../../\")"
   ]
  },
  {
   "cell_type": "markdown",
   "metadata": {},
   "source": [
    "# Moscow Times"
   ]
  },
  {
   "cell_type": "code",
   "execution_count": 2,
   "metadata": {},
   "outputs": [],
   "source": [
    "from src.data_cleaners.moscow_times_cleaner import MoscowTimesCleaner"
   ]
  },
  {
   "cell_type": "code",
   "execution_count": 3,
   "metadata": {},
   "outputs": [
    {
     "name": "stdout",
     "output_type": "stream",
     "text": [
      "Loaded file: data\\raw\\moscow_times.csv\n",
      "Data shape: (13572, 3)\n",
      "<class 'pandas.core.frame.DataFrame'>\n",
      "RangeIndex: 13572 entries, 0 to 13571\n",
      "Data columns (total 3 columns):\n",
      " #   Column        Non-Null Count  Dtype \n",
      "---  ------        --------------  ----- \n",
      " 0   date_publish  13572 non-null  object\n",
      " 1   maintext      13572 non-null  object\n",
      " 2   title         13572 non-null  object\n",
      "dtypes: object(3)\n",
      "memory usage: 318.2+ KB\n",
      "None\n",
      "<class 'pandas.core.frame.DataFrame'>\n",
      "Int64Index: 11876 entries, 0 to 13571\n",
      "Data columns (total 3 columns):\n",
      " #   Column        Non-Null Count  Dtype \n",
      "---  ------        --------------  ----- \n",
      " 0   date_publish  11876 non-null  object\n",
      " 1   maintext      11876 non-null  object\n",
      " 2   title         11876 non-null  object\n",
      "dtypes: object(3)\n",
      "memory usage: 371.1+ KB\n",
      "None\n"
     ]
    }
   ],
   "source": [
    "file_path = r\"data\\raw\\moscow_times.csv\"\n",
    "save_path = r\"data\\cleaned\\moscow_times.csv\"\n",
    "\n",
    "cleaner = MoscowTimesCleaner(file_path, save_path, \n",
    "                         usecols=[\"maintext\", \"title\", \"date_publish\"])\n",
    "cleaner()"
   ]
  }
 ],
 "metadata": {
  "kernelspec": {
   "display_name": "venv",
   "language": "python",
   "name": "python3"
  },
  "language_info": {
   "codemirror_mode": {
    "name": "ipython",
    "version": 3
   },
   "file_extension": ".py",
   "mimetype": "text/x-python",
   "name": "python",
   "nbconvert_exporter": "python",
   "pygments_lexer": "ipython3",
   "version": "3.7.9"
  }
 },
 "nbformat": 4,
 "nbformat_minor": 2
}
