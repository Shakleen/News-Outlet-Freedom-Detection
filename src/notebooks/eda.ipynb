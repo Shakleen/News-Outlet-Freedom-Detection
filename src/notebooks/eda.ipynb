{
 "cells": [
  {
   "cell_type": "code",
   "execution_count": 1,
   "metadata": {},
   "outputs": [],
   "source": [
    "import os\n",
    "import pandas as pd\n",
    "import numpy as np\n",
    "import matplotlib.pyplot as plt"
   ]
  },
  {
   "cell_type": "code",
   "execution_count": 2,
   "metadata": {},
   "outputs": [],
   "source": [
    "root_dir = r\"D:\\Studying\\UoR\\1. Data Mining\\Final_Project\\data\""
   ]
  },
  {
   "cell_type": "code",
   "execution_count": 5,
   "metadata": {},
   "outputs": [
    {
     "name": "stdout",
     "output_type": "stream",
     "text": [
      "ap_canada.csv has 599 examples\n",
      "ap_china.csv has 600 examples\n",
      "ap_russia.csv has 600 examples\n",
      "cbc.csv has 1546 examples\n",
      "china_daily.csv has 8728 examples\n",
      "global-news.csv has 11072 examples\n",
      "moscow_times.csv has 13572 examples\n",
      "reuters_canada.csv has 4365 examples\n",
      "reuters_china.csv has 2736 examples\n",
      "reuters_russia.csv has 5845 examples\n"
     ]
    }
   ],
   "source": [
    "for file_name in os.listdir(root_dir):\n",
    "    file_path = os.path.join(root_dir, file_name)\n",
    "    \n",
    "    if os.path.isdir(file_path):\n",
    "        continue\n",
    "    \n",
    "    df = pd.read_csv(file_path)\n",
    "    df.drop_duplicates(\"url\", inplace=True)\n",
    "    df.to_csv(file_path, index=None)\n",
    "    print(f\"{file_name} has {df.shape[0]} examples\")"
   ]
  },
  {
   "cell_type": "markdown",
   "metadata": {},
   "source": [
    "## Reuters News"
   ]
  },
  {
   "cell_type": "markdown",
   "metadata": {},
   "source": [
    "### Canada"
   ]
  },
  {
   "cell_type": "code",
   "execution_count": 3,
   "metadata": {},
   "outputs": [
    {
     "data": {
      "text/plain": [
       "(4233, 16)"
      ]
     },
     "execution_count": 3,
     "metadata": {},
     "output_type": "execute_result"
    }
   ],
   "source": [
    "file_path = os.path.join(root_dir, \"reuters_canada.csv\")\n",
    "df = pd.read_csv(file_path)\n",
    "df.shape"
   ]
  },
  {
   "cell_type": "code",
   "execution_count": 4,
   "metadata": {},
   "outputs": [
    {
     "data": {
      "text/plain": [
       "Index(['authors', 'date_download', 'date_modify', 'date_publish',\n",
       "       'description', 'filename', 'image_url', 'language', 'localpath',\n",
       "       'maintext', 'source_domain', 'text', 'title', 'title_page', 'title_rss',\n",
       "       'url'],\n",
       "      dtype='object')"
      ]
     },
     "execution_count": 4,
     "metadata": {},
     "output_type": "execute_result"
    }
   ],
   "source": [
    "df.columns"
   ]
  },
  {
   "cell_type": "code",
   "execution_count": 5,
   "metadata": {},
   "outputs": [],
   "source": [
    "df.fillna(\"\", inplace=True)"
   ]
  },
  {
   "cell_type": "markdown",
   "metadata": {},
   "source": [
    "#### Cleaning"
   ]
  },
  {
   "cell_type": "markdown",
   "metadata": {},
   "source": [
    "#### Reporting By\n",
    "\n",
    "Reuters `maintext` column always contains the section **Reporting by**. Which isn't a part of the news maintext. Instead it should be a part of a separate column."
   ]
  },
  {
   "cell_type": "code",
   "execution_count": 6,
   "metadata": {},
   "outputs": [],
   "source": [
    "import re\n",
    "\n",
    "def find_last_instance(text, phrase):\n",
    "    matches = [match for match in re.finditer(phrase, text)]\n",
    "    \n",
    "    if matches:\n",
    "        last_match = matches[-1]\n",
    "        return last_match.start(), last_match.end()\n",
    "    else:\n",
    "        return None\n",
    "    \n",
    "def discard_reporting_by(text):\n",
    "    position = find_last_instance(text, \"Reporting by\")\n",
    "    \n",
    "    if position is None:\n",
    "        return text\n",
    "    \n",
    "    return text[:position[0]]"
   ]
  },
  {
   "cell_type": "code",
   "execution_count": 7,
   "metadata": {},
   "outputs": [],
   "source": [
    "df.maintext = df.maintext.apply(discard_reporting_by)"
   ]
  },
  {
   "cell_type": "code",
   "execution_count": 8,
   "metadata": {},
   "outputs": [
    {
     "data": {
      "text/plain": [
       "'A mural features the image of late Sikh leader Hardeep Singh Nijjar, who was slain on the grounds of the Guru Nanak Sikh Gurdwara temple in June 2023, in Surrey, British Columbia, Canada September 18, 2023. REUTERS/Chris Helgren/file photo Acquire Licensing Rights\\nNEW DELHI, Sept 19 (Reuters) - Trade talks between India and Canada have taken a hit as tension rises after Prime Minister Justin Trudeau said authorities were investigating \"credible allegations\" linking New Delhi\\'s agents to the murder of Sikh separatist leader, Hardeep Singh Nijjar.\\nOn Tuesday, New Delhi dismissed the allegations as \"absurd\", and asked Canada instead to crack down on anti-India elements operating in its territory.\\nHere is what is at stake for both countries:\\nHOW ARE TRADE TALKS AFFECTED?\\nCanada said this month it had paused talks on the proposed treaty with India, just three months after both said they aimed to seal an initial pact this year.\\nIndustry estimates show the Comprehensive Economic Partnership Agreement (CEPA) between Canada and India could boost two-way trade by as much as $6.5 billion, yielding a GDP gain of $3.8 billion to $5.9 billion for Canada by 2035.\\nWHAT ARE THE KEY ITEMS OF TRADE?\\nSteady growth has seen goods trade rising to $8 billion in 2022, with Indian exports to Canada touching $4 billion and imports from Canada also worth $4 billion.\\nMajor imports from Canada include energy products such as coal, coke and briquettes, besides fertilizers, while India exports consumer goods, garments, engineering products such as auto parts, aircraft equipment and electronic items.\\nCanada\\'s top export to India in 2022 were fossil fuels and related products worth nearly $1 billion, followed by fertilizers worth nearly $748 million, and wood pulp and plant fibres worth about $384 million, according to Trading Economics/UN Comtrade data.\\nCanada\\'s Canpotex is also among the biggest suppliers of fertilizer ingredient potash. Three companies from India, which relies solely on the import of the fertilizer, signed an MoU with Canpotex in September 2022 to import about 1.5 million metric tonnes annually for three years.\\nPharmaceutical products, worth about $418 million, made up the bulk of Indian exports last year, followed by iron and steel products worth about $328 million and machinery, nuclear reactors and boilers worth about $287 million.\\nIndia\\'s growing demand for imported lentils has benefited Canadian farmers, while Indian pharmaceutical and software companies have expanded their presence in the Canadian market.\\nWHAT IS THE INVESTMENT POSITION?\\nCanada is India\\'s 17th largest foreign investor, pouring in more than $3.6 billion since 2000, while Canadian portfolio investors have invested billions of dollars in Indian stock and debt markets.\\nThe Canadian pension fund, CPP, had increased its investment in Indian markets to about $15 billion, in areas such as real estate, renewables and the financial sector by the end of last fiscal year in March 2023.\\nOther big pension funds with sizeable exposure to India include Caisse de dépôt et placement du Québec (CDPQ), which has investments worth C$8 billion ($6 billion) as of Dec. 31, 2022, and Ontario Teachers\\' Pension Plan (OTPP), which had investments of more than $3 billion as of last year.\\nHOW HAVE CORPORATES BENEFITED?\\nMore than 600 Canadian companies, including Bombardier and SNC Lavalin, have a strong presence in India, while more than 30 Indian companies, such as infotech majors TCS, Infosys, Wipro have invested billion of dollars in Canada, creating thousands of jobs.\\nWHAT IS THE ROLE OF INDIAN STUDENTS IN CANADA?\\nSince 2018, India has been the largest source country for international students in Canada.\\nIn 2022, their number rose 47% to nearly 320,000, accounting for about 40% of total overseas students, the Canadian Bureau of International Education says, which also helps universities and colleges provide a subsidised education to domestic students.\\nWHAT ARE THE IMPLICATIONS FOR SIKHS?\\nMany analysts say the worsening ties could affect the economic interests of thousands of Sikh families in India\\'s Sikh-majority state of Punjab in the north, since they have relatives in Canada, who remit millions of dollars back home.\\nThe share of Canada\\'s Sikh population has more than doubled in 20 years to 2.1%, according to the country\\'s 2021 census, as large number of Sikhs migrated from India in search of higher education and jobs.\\n'"
      ]
     },
     "execution_count": 8,
     "metadata": {},
     "output_type": "execute_result"
    }
   ],
   "source": [
    "df.maintext.iloc[0]"
   ]
  },
  {
   "cell_type": "markdown",
   "metadata": {},
   "source": [
    "#### Links\n",
    "\n",
    "Remove hyperlinks from maintext."
   ]
  },
  {
   "cell_type": "code",
   "execution_count": 9,
   "metadata": {},
   "outputs": [
    {
     "name": "stdout",
     "output_type": "stream",
     "text": [
      "Your text goes here... \n"
     ]
    }
   ],
   "source": [
    "def remove_links(text):\n",
    "    return re.sub(r'http\\S+|www.\\S+', '', text)\n",
    "\n",
    "text = \"Your text goes here... https://www.bing.com/search?q=Bing+AI&showconv=1&FORM=hpcodx\"\n",
    "text_without_links = remove_links(text)\n",
    "print(text_without_links)"
   ]
  },
  {
   "cell_type": "code",
   "execution_count": 10,
   "metadata": {},
   "outputs": [],
   "source": [
    "df.maintext = df.maintext.apply(remove_links)"
   ]
  },
  {
   "cell_type": "markdown",
   "metadata": {},
   "source": [
    "#### Removing **Stories Read More**"
   ]
  },
  {
   "cell_type": "code",
   "execution_count": 11,
   "metadata": {},
   "outputs": [
    {
     "data": {
      "text/plain": [
       "'Before words\\n\\nAfter words'"
      ]
     },
     "execution_count": 11,
     "metadata": {},
     "output_type": "execute_result"
    }
   ],
   "source": [
    "re.sub(\"STORIES: read more\", \"\", \"Before words\\nSTORIES: read more\\nAfter words\")"
   ]
  },
  {
   "cell_type": "code",
   "execution_count": 12,
   "metadata": {},
   "outputs": [],
   "source": [
    "df.maintext = df.maintext.apply(lambda x: re.sub(\"STORIES: read more\\n\", \"\", x))"
   ]
  },
  {
   "cell_type": "markdown",
   "metadata": {},
   "source": [
    "#### Removing Initial Location and Date Info"
   ]
  },
  {
   "cell_type": "code",
   "execution_count": 13,
   "metadata": {},
   "outputs": [
    {
     "data": {
      "text/plain": [
       "'Trade talks between India and Canada have taken a hit as tension rises after Prime Minister Justin Trudeau said authorities were investigating \"credible allegations\" linking New Delhi\\'s agents to the murder of Sikh separatist leader, Hardeep Singh Nijjar.\\nOn Tuesday, New Delhi dismissed the allegations as \"absurd\", and asked Canada instead to crack down on anti-India elements operating in its territory.\\nHere is what is at stake for both countries:\\nHOW ARE TRADE TALKS AFFECTED?\\nCanada said this month it had paused talks on the proposed treaty with India, just three months after both said they aimed to seal an initial pact this year.\\nIndustry estimates show the Comprehensive Economic Partnership Agreement (CEPA) between Canada and India could boost two-way trade by as much as $6.5 billion, yielding a GDP gain of $3.8 billion to $5.9 billion for Canada by 2035.\\nWHAT ARE THE KEY ITEMS OF TRADE?\\nSteady growth has seen goods trade rising to $8 billion in 2022, with Indian exports to Canada touching $4 billion and imports from Canada also worth $4 billion.\\nMajor imports from Canada include energy products such as coal, coke and briquettes, besides fertilizers, while India exports consumer goods, garments, engineering products such as auto parts, aircraft equipment and electronic items.\\nCanada\\'s top export to India in 2022 were fossil fuels and related products worth nearly $1 billion, followed by fertilizers worth nearly $748 million, and wood pulp and plant fibres worth about $384 million, according to Trading Economics/UN Comtrade data.\\nCanada\\'s Canpotex is also among the biggest suppliers of fertilizer ingredient potash. Three companies from India, which relies solely on the import of the fertilizer, signed an MoU with Canpotex in September 2022 to import about 1.5 million metric tonnes annually for three years.\\nPharmaceutical products, worth about $418 million, made up the bulk of Indian exports last year, followed by iron and steel products worth about $328 million and machinery, nuclear reactors and boilers worth about $287 million.\\nIndia\\'s growing demand for imported lentils has benefited Canadian farmers, while Indian pharmaceutical and software companies have expanded their presence in the Canadian market.\\nWHAT IS THE INVESTMENT POSITION?\\nCanada is India\\'s 17th largest foreign investor, pouring in more than $3.6 billion since 2000, while Canadian portfolio investors have invested billions of dollars in Indian stock and debt markets.\\nThe Canadian pension fund, CPP, had increased its investment in Indian markets to about $15 billion, in areas such as real estate, renewables and the financial sector by the end of last fiscal year in March 2023.\\nOther big pension funds with sizeable exposure to India include Caisse de dépôt et placement du Québec (CDPQ), which has investments worth C$8 billion ($6 billion) as of Dec. 31, 2022, and Ontario Teachers\\' Pension Plan (OTPP), which had investments of more than $3 billion as of last year.\\nHOW HAVE CORPORATES BENEFITED?\\nMore than 600 Canadian companies, including Bombardier and SNC Lavalin, have a strong presence in India, while more than 30 Indian companies, such as infotech majors TCS, Infosys, Wipro have invested billion of dollars in Canada, creating thousands of jobs.\\nWHAT IS THE ROLE OF INDIAN STUDENTS IN CANADA?\\nSince 2018, India has been the largest source country for international students in Canada.\\nIn 2022, their number rose 47% to nearly 320,000, accounting for about 40% of total overseas students, the Canadian Bureau of International Education says, which also helps universities and colleges provide a subsidised education to domestic students.\\nWHAT ARE THE IMPLICATIONS FOR SIKHS?\\nMany analysts say the worsening ties could affect the economic interests of thousands of Sikh families in India\\'s Sikh-majority state of Punjab in the north, since they have relatives in Canada, who remit millions of dollars back home.\\nThe share of Canada\\'s Sikh population has more than doubled in 20 years to 2.1%, according to the country\\'s 2021 census, as large number of Sikhs migrated from India in search of higher education and jobs.\\n'"
      ]
     },
     "execution_count": 13,
     "metadata": {},
     "output_type": "execute_result"
    }
   ],
   "source": [
    "def find_first_instance(text, phrase):\n",
    "    matches = [match for match in re.finditer(phrase, text)]\n",
    "    \n",
    "    if matches:\n",
    "        last_match = matches[-1]\n",
    "        return last_match.start(), last_match.end()\n",
    "    else:\n",
    "        return None\n",
    "    \n",
    "def discard_initial_location_and_date(text):\n",
    "    position = find_last_instance(text, \"\\(Reuters\\) - \")\n",
    "    \n",
    "    if position is None:\n",
    "        return text\n",
    "    \n",
    "    return text[position[1]:]\n",
    "\n",
    "discard_initial_location_and_date(df.maintext.iloc[0])"
   ]
  },
  {
   "cell_type": "code",
   "execution_count": 14,
   "metadata": {},
   "outputs": [],
   "source": [
    "df.maintext = df.maintext.apply(discard_initial_location_and_date)"
   ]
  },
  {
   "cell_type": "markdown",
   "metadata": {},
   "source": [
    "#### Removing **Annual Inflation Rate** news\n",
    "\n",
    "These news contain very little textual information."
   ]
  },
  {
   "cell_type": "code",
   "execution_count": 15,
   "metadata": {},
   "outputs": [
    {
     "data": {
      "text/plain": [
       "(4233, 16)"
      ]
     },
     "execution_count": 15,
     "metadata": {},
     "output_type": "execute_result"
    }
   ],
   "source": [
    "df.shape"
   ]
  },
  {
   "cell_type": "code",
   "execution_count": 17,
   "metadata": {},
   "outputs": [],
   "source": [
    "temp = df.title.apply(lambda x: x.find(\"annual inflation rate\") != -1)\n",
    "df.drop(df[temp].index, inplace=True)"
   ]
  },
  {
   "cell_type": "markdown",
   "metadata": {},
   "source": [
    "#### Contains At Least One Geographic Name"
   ]
  },
  {
   "cell_type": "code",
   "execution_count": 19,
   "metadata": {},
   "outputs": [],
   "source": [
    "frequent_words = [\"Canada\", \"Alberta\", \"Montreal\", \"Toronto\", \"British Columbia\", \n",
    "                \"Saskatchewan\", \"Quebec\", \"Ontario\", \"Manitoba\", \"Newfoundland\", \n",
    "                \"Yukon\", \"Canadian\"]"
   ]
  },
  {
   "cell_type": "code",
   "execution_count": 20,
   "metadata": {},
   "outputs": [],
   "source": [
    "def includes_words(text):\n",
    "    for word in frequent_words:\n",
    "        if word in text.split():\n",
    "            return True\n",
    "        \n",
    "    return False"
   ]
  },
  {
   "cell_type": "code",
   "execution_count": 21,
   "metadata": {},
   "outputs": [],
   "source": [
    "temp = df.maintext.apply(includes_words)\n",
    "df.drop(df[~temp].index, inplace=True)"
   ]
  },
  {
   "cell_type": "markdown",
   "metadata": {},
   "source": [
    "#### Count"
   ]
  },
  {
   "cell_type": "markdown",
   "metadata": {},
   "source": [
    "##### Letters"
   ]
  },
  {
   "cell_type": "code",
   "execution_count": 22,
   "metadata": {},
   "outputs": [
    {
     "data": {
      "text/html": [
       "<div>\n",
       "<style scoped>\n",
       "    .dataframe tbody tr th:only-of-type {\n",
       "        vertical-align: middle;\n",
       "    }\n",
       "\n",
       "    .dataframe tbody tr th {\n",
       "        vertical-align: top;\n",
       "    }\n",
       "\n",
       "    .dataframe thead th {\n",
       "        text-align: right;\n",
       "    }\n",
       "</style>\n",
       "<table border=\"1\" class=\"dataframe\">\n",
       "  <thead>\n",
       "    <tr style=\"text-align: right;\">\n",
       "      <th></th>\n",
       "      <th>maintext</th>\n",
       "      <th>title</th>\n",
       "    </tr>\n",
       "  </thead>\n",
       "  <tbody>\n",
       "    <tr>\n",
       "      <th>count</th>\n",
       "      <td>4044.000000</td>\n",
       "      <td>4044.00000</td>\n",
       "    </tr>\n",
       "    <tr>\n",
       "      <th>mean</th>\n",
       "      <td>1921.374876</td>\n",
       "      <td>63.19634</td>\n",
       "    </tr>\n",
       "    <tr>\n",
       "      <th>std</th>\n",
       "      <td>995.002823</td>\n",
       "      <td>11.31137</td>\n",
       "    </tr>\n",
       "    <tr>\n",
       "      <th>min</th>\n",
       "      <td>214.000000</td>\n",
       "      <td>28.00000</td>\n",
       "    </tr>\n",
       "    <tr>\n",
       "      <th>25%</th>\n",
       "      <td>1419.750000</td>\n",
       "      <td>55.00000</td>\n",
       "    </tr>\n",
       "    <tr>\n",
       "      <th>50%</th>\n",
       "      <td>1765.000000</td>\n",
       "      <td>63.00000</td>\n",
       "    </tr>\n",
       "    <tr>\n",
       "      <th>75%</th>\n",
       "      <td>2310.250000</td>\n",
       "      <td>71.00000</td>\n",
       "    </tr>\n",
       "    <tr>\n",
       "      <th>max</th>\n",
       "      <td>9527.000000</td>\n",
       "      <td>110.00000</td>\n",
       "    </tr>\n",
       "  </tbody>\n",
       "</table>\n",
       "</div>"
      ],
      "text/plain": [
       "          maintext       title\n",
       "count  4044.000000  4044.00000\n",
       "mean   1921.374876    63.19634\n",
       "std     995.002823    11.31137\n",
       "min     214.000000    28.00000\n",
       "25%    1419.750000    55.00000\n",
       "50%    1765.000000    63.00000\n",
       "75%    2310.250000    71.00000\n",
       "max    9527.000000   110.00000"
      ]
     },
     "execution_count": 22,
     "metadata": {},
     "output_type": "execute_result"
    }
   ],
   "source": [
    "temp = df.loc[:, [\"maintext\", \"title\"]]\\\n",
    "    .apply(lambda row: [len(col) for col in row])\n",
    "temp.describe()"
   ]
  },
  {
   "cell_type": "markdown",
   "metadata": {},
   "source": [
    "Number of examples that have zero length main and title text"
   ]
  },
  {
   "cell_type": "code",
   "execution_count": 23,
   "metadata": {},
   "outputs": [
    {
     "data": {
      "text/plain": [
       "maintext    0\n",
       "title       0\n",
       "dtype: int64"
      ]
     },
     "execution_count": 23,
     "metadata": {},
     "output_type": "execute_result"
    }
   ],
   "source": [
    "temp.apply(lambda row: [col == 0 for col in row]).sum()"
   ]
  },
  {
   "cell_type": "markdown",
   "metadata": {},
   "source": [
    "Drop the zero length maintext and title rows from dataframe."
   ]
  },
  {
   "cell_type": "code",
   "execution_count": 24,
   "metadata": {},
   "outputs": [],
   "source": [
    "cond = (temp.title <= 0) | (temp.maintext <= 0)\n",
    "df.drop(temp[cond].index, inplace=True)"
   ]
  },
  {
   "cell_type": "markdown",
   "metadata": {},
   "source": [
    "##### Words"
   ]
  },
  {
   "cell_type": "code",
   "execution_count": 25,
   "metadata": {},
   "outputs": [
    {
     "data": {
      "text/html": [
       "<div>\n",
       "<style scoped>\n",
       "    .dataframe tbody tr th:only-of-type {\n",
       "        vertical-align: middle;\n",
       "    }\n",
       "\n",
       "    .dataframe tbody tr th {\n",
       "        vertical-align: top;\n",
       "    }\n",
       "\n",
       "    .dataframe thead th {\n",
       "        text-align: right;\n",
       "    }\n",
       "</style>\n",
       "<table border=\"1\" class=\"dataframe\">\n",
       "  <thead>\n",
       "    <tr style=\"text-align: right;\">\n",
       "      <th></th>\n",
       "      <th>maintext</th>\n",
       "      <th>title</th>\n",
       "    </tr>\n",
       "  </thead>\n",
       "  <tbody>\n",
       "    <tr>\n",
       "      <th>count</th>\n",
       "      <td>4044.000000</td>\n",
       "      <td>4044.000000</td>\n",
       "    </tr>\n",
       "    <tr>\n",
       "      <th>mean</th>\n",
       "      <td>310.064293</td>\n",
       "      <td>10.011375</td>\n",
       "    </tr>\n",
       "    <tr>\n",
       "      <th>std</th>\n",
       "      <td>161.078574</td>\n",
       "      <td>1.865598</td>\n",
       "    </tr>\n",
       "    <tr>\n",
       "      <th>min</th>\n",
       "      <td>32.000000</td>\n",
       "      <td>4.000000</td>\n",
       "    </tr>\n",
       "    <tr>\n",
       "      <th>25%</th>\n",
       "      <td>229.000000</td>\n",
       "      <td>9.000000</td>\n",
       "    </tr>\n",
       "    <tr>\n",
       "      <th>50%</th>\n",
       "      <td>288.000000</td>\n",
       "      <td>10.000000</td>\n",
       "    </tr>\n",
       "    <tr>\n",
       "      <th>75%</th>\n",
       "      <td>370.250000</td>\n",
       "      <td>11.000000</td>\n",
       "    </tr>\n",
       "    <tr>\n",
       "      <th>max</th>\n",
       "      <td>1550.000000</td>\n",
       "      <td>17.000000</td>\n",
       "    </tr>\n",
       "  </tbody>\n",
       "</table>\n",
       "</div>"
      ],
      "text/plain": [
       "          maintext        title\n",
       "count  4044.000000  4044.000000\n",
       "mean    310.064293    10.011375\n",
       "std     161.078574     1.865598\n",
       "min      32.000000     4.000000\n",
       "25%     229.000000     9.000000\n",
       "50%     288.000000    10.000000\n",
       "75%     370.250000    11.000000\n",
       "max    1550.000000    17.000000"
      ]
     },
     "execution_count": 25,
     "metadata": {},
     "output_type": "execute_result"
    }
   ],
   "source": [
    "temp = df.loc[:, [\"maintext\", \"title\"]]\\\n",
    "    .apply(lambda row: [len(col.split()) for col in row])\n",
    "temp.describe()"
   ]
  },
  {
   "cell_type": "markdown",
   "metadata": {},
   "source": [
    "Drop rows where number of words are either too low or too high. These are outliers."
   ]
  },
  {
   "cell_type": "code",
   "execution_count": 26,
   "metadata": {},
   "outputs": [
    {
     "data": {
      "text/plain": [
       "(3745, 16)"
      ]
     },
     "execution_count": 26,
     "metadata": {},
     "output_type": "execute_result"
    }
   ],
   "source": [
    "def outliers(temp):\n",
    "    q1 = np.quantile(temp, 0.25)\n",
    "    q3 = np.quantile(temp, 0.75)\n",
    "    iqr = q3 - q1\n",
    "    span = 1.5 * iqr\n",
    "    low = np.floor(q1 - span)\n",
    "    high = np.ceil(q3 + span)\n",
    "    return (temp < low) | (temp > high)\n",
    "\n",
    "main_to_drop = outliers(temp.maintext)\n",
    "title_to_drop = outliers(temp.title)\n",
    "cond = main_to_drop | title_to_drop\n",
    "df.drop(temp[cond].index, inplace=True)\n",
    "df.shape"
   ]
  },
  {
   "cell_type": "code",
   "execution_count": 27,
   "metadata": {},
   "outputs": [
    {
     "data": {
      "image/png": "[encoded data removed]",
      "text/plain": [
       "<Figure size 600x300 with 2 Axes>"
      ]
     },
     "metadata": {},
     "output_type": "display_data"
    }
   ],
   "source": [
    "plt.figure(figsize=(6, 3))\n",
    "\n",
    "plt.subplot(1, 2, 1)\n",
    "temp[~cond].maintext.hist()\n",
    "plt.title(\"Maintext Word Count histogram\")\n",
    "plt.xlabel(\"Number of Words\")\n",
    "plt.ylabel(\"Count\")\n",
    "\n",
    "plt.subplot(1, 2, 2)\n",
    "temp[~cond].title.hist()\n",
    "plt.title(\"Title Word Count Histogram\")\n",
    "plt.xlabel(\"Number of Words\")\n",
    "plt.ylabel(\"Count\")\n",
    "\n",
    "plt.show()"
   ]
  },
  {
   "cell_type": "markdown",
   "metadata": {},
   "source": [
    "#### Save Cleaned Data"
   ]
  },
  {
   "cell_type": "code",
   "execution_count": 28,
   "metadata": {},
   "outputs": [],
   "source": [
    "CLEANED_ROOT_PATH = os.path.join(root_dir, \"cleaned\")\n",
    "df.to_csv(os.path.join(CLEANED_ROOT_PATH, \"reuters_canada.csv\"), index=False)"
   ]
  },
  {
   "cell_type": "markdown",
   "metadata": {},
   "source": [
    "## Moscow Times"
   ]
  },
  {
   "cell_type": "code",
   "execution_count": 5,
   "metadata": {},
   "outputs": [
    {
     "data": {
      "text/plain": [
       "(13572, 3)"
      ]
     },
     "execution_count": 5,
     "metadata": {},
     "output_type": "execute_result"
    }
   ],
   "source": [
    "file_path = os.path.join(root_dir, \"moscow_times.csv\")\n",
    "df = pd.read_csv(file_path, usecols=[\"title\", \"maintext\", \"date_publish\"])\n",
    "df.shape"
   ]
  },
  {
   "cell_type": "code",
   "execution_count": 6,
   "metadata": {},
   "outputs": [
    {
     "name": "stdout",
     "output_type": "stream",
     "text": [
      "<class 'pandas.core.frame.DataFrame'>\n",
      "RangeIndex: 13572 entries, 0 to 13571\n",
      "Data columns (total 3 columns):\n",
      " #   Column        Non-Null Count  Dtype \n",
      "---  ------        --------------  ----- \n",
      " 0   date_publish  13572 non-null  object\n",
      " 1   maintext      13572 non-null  object\n",
      " 2   title         13572 non-null  object\n",
      "dtypes: object(3)\n",
      "memory usage: 318.2+ KB\n"
     ]
    }
   ],
   "source": [
    "df.info()"
   ]
  },
  {
   "cell_type": "code",
   "execution_count": null,
   "metadata": {},
   "outputs": [],
   "source": []
  },
  {
   "cell_type": "code",
   "execution_count": 29,
   "metadata": {},
   "outputs": [],
   "source": [
    "from datetime import datetime\n",
    "from collections import defaultdict"
   ]
  },
  {
   "cell_type": "code",
   "execution_count": 30,
   "metadata": {},
   "outputs": [
    {
     "name": "stdout",
     "output_type": "stream",
     "text": [
      "ap_canada\n",
      "2023    459\n",
      "2022    140\n",
      "Name: date_publish, dtype: int64\n",
      "ap_china\n",
      "2023    600\n",
      "Name: date_publish, dtype: int64\n",
      "ap_russia\n",
      "2023    599\n",
      "2022      1\n",
      "Name: date_publish, dtype: int64\n"
     ]
    },
    {
     "name": "stderr",
     "output_type": "stream",
     "text": [
      "d:\\Studying\\UoR\\1. Data Mining\\Final_Project\\venv\\lib\\site-packages\\ipykernel_launcher.py:9: FutureWarning: Inferring datetime64[ns] from data containing strings is deprecated and will be removed in a future version. To retain the old behavior explicitly pass Series(data, dtype={value.dtype})\n",
      "  if __name__ == \"__main__\":\n"
     ]
    },
    {
     "name": "stdout",
     "output_type": "stream",
     "text": [
      "cbc\n",
      "2023.0    514\n",
      "2021.0    339\n",
      "2022.0    166\n",
      "2019.0    146\n",
      "2020.0     80\n",
      "2015.0     22\n",
      "2017.0     10\n",
      "2016.0      9\n",
      "2018.0      8\n",
      "2014.0      4\n",
      "2013.0      2\n",
      "2011.0      1\n",
      "2007.0      1\n",
      "Name: date_publish, dtype: int64\n",
      "china_daily\n",
      "2017.0    2023\n",
      "2018.0    1833\n",
      "2019.0    1239\n",
      "2021.0    1066\n",
      "2020.0     921\n",
      "2023.0     861\n",
      "2022.0     770\n",
      "2014.0       1\n",
      "Name: date_publish, dtype: int64\n"
     ]
    },
    {
     "ename": "PermissionError",
     "evalue": "[Errno 13] Permission denied: 'D:\\\\Studying\\\\UoR\\\\1. Data Mining\\\\Final_Project\\\\data\\\\cleaned'",
     "output_type": "error",
     "traceback": [
      "\u001b[1;31m---------------------------------------------------------------------------\u001b[0m",
      "\u001b[1;31mPermissionError\u001b[0m                           Traceback (most recent call last)",
      "\u001b[1;32m~\\AppData\\Local\\Temp\\ipykernel_11948\\2499678549.py\u001b[0m in \u001b[0;36m<module>\u001b[1;34m\u001b[0m\n\u001b[0;32m      3\u001b[0m \u001b[1;32mfor\u001b[0m \u001b[0mfile_name\u001b[0m \u001b[1;32min\u001b[0m \u001b[0mos\u001b[0m\u001b[1;33m.\u001b[0m\u001b[0mlistdir\u001b[0m\u001b[1;33m(\u001b[0m\u001b[0mroot_dir\u001b[0m\u001b[1;33m)\u001b[0m\u001b[1;33m:\u001b[0m\u001b[1;33m\u001b[0m\u001b[1;33m\u001b[0m\u001b[0m\n\u001b[0;32m      4\u001b[0m     \u001b[0mfile_path\u001b[0m \u001b[1;33m=\u001b[0m \u001b[0mos\u001b[0m\u001b[1;33m.\u001b[0m\u001b[0mpath\u001b[0m\u001b[1;33m.\u001b[0m\u001b[0mjoin\u001b[0m\u001b[1;33m(\u001b[0m\u001b[0mroot_dir\u001b[0m\u001b[1;33m,\u001b[0m \u001b[0mfile_name\u001b[0m\u001b[1;33m)\u001b[0m\u001b[1;33m\u001b[0m\u001b[1;33m\u001b[0m\u001b[0m\n\u001b[1;32m----> 5\u001b[1;33m     \u001b[0mdf\u001b[0m \u001b[1;33m=\u001b[0m \u001b[0mpd\u001b[0m\u001b[1;33m.\u001b[0m\u001b[0mread_csv\u001b[0m\u001b[1;33m(\u001b[0m\u001b[0mfile_path\u001b[0m\u001b[1;33m)\u001b[0m\u001b[1;33m\u001b[0m\u001b[1;33m\u001b[0m\u001b[0m\n\u001b[0m\u001b[0;32m      6\u001b[0m     \u001b[0mroot_name\u001b[0m \u001b[1;33m=\u001b[0m \u001b[0mfile_name\u001b[0m\u001b[1;33m.\u001b[0m\u001b[0msplit\u001b[0m\u001b[1;33m(\u001b[0m\u001b[1;34m\".\"\u001b[0m\u001b[1;33m)\u001b[0m\u001b[1;33m[\u001b[0m\u001b[1;36m0\u001b[0m\u001b[1;33m]\u001b[0m\u001b[1;33m\u001b[0m\u001b[1;33m\u001b[0m\u001b[0m\n\u001b[0;32m      7\u001b[0m \u001b[1;33m\u001b[0m\u001b[0m\n",
      "\u001b[1;32md:\\Studying\\UoR\\1. Data Mining\\Final_Project\\venv\\lib\\site-packages\\pandas\\util\\_decorators.py\u001b[0m in \u001b[0;36mwrapper\u001b[1;34m(*args, **kwargs)\u001b[0m\n\u001b[0;32m    309\u001b[0m                     \u001b[0mstacklevel\u001b[0m\u001b[1;33m=\u001b[0m\u001b[0mstacklevel\u001b[0m\u001b[1;33m,\u001b[0m\u001b[1;33m\u001b[0m\u001b[1;33m\u001b[0m\u001b[0m\n\u001b[0;32m    310\u001b[0m                 )\n\u001b[1;32m--> 311\u001b[1;33m             \u001b[1;32mreturn\u001b[0m \u001b[0mfunc\u001b[0m\u001b[1;33m(\u001b[0m\u001b[1;33m*\u001b[0m\u001b[0margs\u001b[0m\u001b[1;33m,\u001b[0m \u001b[1;33m**\u001b[0m\u001b[0mkwargs\u001b[0m\u001b[1;33m)\u001b[0m\u001b[1;33m\u001b[0m\u001b[1;33m\u001b[0m\u001b[0m\n\u001b[0m\u001b[0;32m    312\u001b[0m \u001b[1;33m\u001b[0m\u001b[0m\n\u001b[0;32m    313\u001b[0m         \u001b[1;32mreturn\u001b[0m \u001b[0mwrapper\u001b[0m\u001b[1;33m\u001b[0m\u001b[1;33m\u001b[0m\u001b[0m\n",
      "\u001b[1;32md:\\Studying\\UoR\\1. Data Mining\\Final_Project\\venv\\lib\\site-packages\\pandas\\io\\parsers\\readers.py\u001b[0m in \u001b[0;36mread_csv\u001b[1;34m(filepath_or_buffer, sep, delimiter, header, names, index_col, usecols, squeeze, prefix, mangle_dupe_cols, dtype, engine, converters, true_values, false_values, skipinitialspace, skiprows, skipfooter, nrows, na_values, keep_default_na, na_filter, verbose, skip_blank_lines, parse_dates, infer_datetime_format, keep_date_col, date_parser, dayfirst, cache_dates, iterator, chunksize, compression, thousands, decimal, lineterminator, quotechar, quoting, doublequote, escapechar, comment, encoding, encoding_errors, dialect, error_bad_lines, warn_bad_lines, on_bad_lines, delim_whitespace, low_memory, memory_map, float_precision, storage_options)\u001b[0m\n\u001b[0;32m    584\u001b[0m     \u001b[0mkwds\u001b[0m\u001b[1;33m.\u001b[0m\u001b[0mupdate\u001b[0m\u001b[1;33m(\u001b[0m\u001b[0mkwds_defaults\u001b[0m\u001b[1;33m)\u001b[0m\u001b[1;33m\u001b[0m\u001b[1;33m\u001b[0m\u001b[0m\n\u001b[0;32m    585\u001b[0m \u001b[1;33m\u001b[0m\u001b[0m\n\u001b[1;32m--> 586\u001b[1;33m     \u001b[1;32mreturn\u001b[0m \u001b[0m_read\u001b[0m\u001b[1;33m(\u001b[0m\u001b[0mfilepath_or_buffer\u001b[0m\u001b[1;33m,\u001b[0m \u001b[0mkwds\u001b[0m\u001b[1;33m)\u001b[0m\u001b[1;33m\u001b[0m\u001b[1;33m\u001b[0m\u001b[0m\n\u001b[0m\u001b[0;32m    587\u001b[0m \u001b[1;33m\u001b[0m\u001b[0m\n\u001b[0;32m    588\u001b[0m \u001b[1;33m\u001b[0m\u001b[0m\n",
      "\u001b[1;32md:\\Studying\\UoR\\1. Data Mining\\Final_Project\\venv\\lib\\site-packages\\pandas\\io\\parsers\\readers.py\u001b[0m in \u001b[0;36m_read\u001b[1;34m(filepath_or_buffer, kwds)\u001b[0m\n\u001b[0;32m    480\u001b[0m \u001b[1;33m\u001b[0m\u001b[0m\n\u001b[0;32m    481\u001b[0m     \u001b[1;31m# Create the parser.\u001b[0m\u001b[1;33m\u001b[0m\u001b[1;33m\u001b[0m\u001b[1;33m\u001b[0m\u001b[0m\n\u001b[1;32m--> 482\u001b[1;33m     \u001b[0mparser\u001b[0m \u001b[1;33m=\u001b[0m \u001b[0mTextFileReader\u001b[0m\u001b[1;33m(\u001b[0m\u001b[0mfilepath_or_buffer\u001b[0m\u001b[1;33m,\u001b[0m \u001b[1;33m**\u001b[0m\u001b[0mkwds\u001b[0m\u001b[1;33m)\u001b[0m\u001b[1;33m\u001b[0m\u001b[1;33m\u001b[0m\u001b[0m\n\u001b[0m\u001b[0;32m    483\u001b[0m \u001b[1;33m\u001b[0m\u001b[0m\n\u001b[0;32m    484\u001b[0m     \u001b[1;32mif\u001b[0m \u001b[0mchunksize\u001b[0m \u001b[1;32mor\u001b[0m \u001b[0miterator\u001b[0m\u001b[1;33m:\u001b[0m\u001b[1;33m\u001b[0m\u001b[1;33m\u001b[0m\u001b[0m\n",
      "\u001b[1;32md:\\Studying\\UoR\\1. Data Mining\\Final_Project\\venv\\lib\\site-packages\\pandas\\io\\parsers\\readers.py\u001b[0m in \u001b[0;36m__init__\u001b[1;34m(self, f, engine, **kwds)\u001b[0m\n\u001b[0;32m    809\u001b[0m             \u001b[0mself\u001b[0m\u001b[1;33m.\u001b[0m\u001b[0moptions\u001b[0m\u001b[1;33m[\u001b[0m\u001b[1;34m\"has_index_names\"\u001b[0m\u001b[1;33m]\u001b[0m \u001b[1;33m=\u001b[0m \u001b[0mkwds\u001b[0m\u001b[1;33m[\u001b[0m\u001b[1;34m\"has_index_names\"\u001b[0m\u001b[1;33m]\u001b[0m\u001b[1;33m\u001b[0m\u001b[1;33m\u001b[0m\u001b[0m\n\u001b[0;32m    810\u001b[0m \u001b[1;33m\u001b[0m\u001b[0m\n\u001b[1;32m--> 811\u001b[1;33m         \u001b[0mself\u001b[0m\u001b[1;33m.\u001b[0m\u001b[0m_engine\u001b[0m \u001b[1;33m=\u001b[0m \u001b[0mself\u001b[0m\u001b[1;33m.\u001b[0m\u001b[0m_make_engine\u001b[0m\u001b[1;33m(\u001b[0m\u001b[0mself\u001b[0m\u001b[1;33m.\u001b[0m\u001b[0mengine\u001b[0m\u001b[1;33m)\u001b[0m\u001b[1;33m\u001b[0m\u001b[1;33m\u001b[0m\u001b[0m\n\u001b[0m\u001b[0;32m    812\u001b[0m \u001b[1;33m\u001b[0m\u001b[0m\n\u001b[0;32m    813\u001b[0m     \u001b[1;32mdef\u001b[0m \u001b[0mclose\u001b[0m\u001b[1;33m(\u001b[0m\u001b[0mself\u001b[0m\u001b[1;33m)\u001b[0m\u001b[1;33m:\u001b[0m\u001b[1;33m\u001b[0m\u001b[1;33m\u001b[0m\u001b[0m\n",
      "\u001b[1;32md:\\Studying\\UoR\\1. Data Mining\\Final_Project\\venv\\lib\\site-packages\\pandas\\io\\parsers\\readers.py\u001b[0m in \u001b[0;36m_make_engine\u001b[1;34m(self, engine)\u001b[0m\n\u001b[0;32m   1038\u001b[0m             )\n\u001b[0;32m   1039\u001b[0m         \u001b[1;31m# error: Too many arguments for \"ParserBase\"\u001b[0m\u001b[1;33m\u001b[0m\u001b[1;33m\u001b[0m\u001b[1;33m\u001b[0m\u001b[0m\n\u001b[1;32m-> 1040\u001b[1;33m         \u001b[1;32mreturn\u001b[0m \u001b[0mmapping\u001b[0m\u001b[1;33m[\u001b[0m\u001b[0mengine\u001b[0m\u001b[1;33m]\u001b[0m\u001b[1;33m(\u001b[0m\u001b[0mself\u001b[0m\u001b[1;33m.\u001b[0m\u001b[0mf\u001b[0m\u001b[1;33m,\u001b[0m \u001b[1;33m**\u001b[0m\u001b[0mself\u001b[0m\u001b[1;33m.\u001b[0m\u001b[0moptions\u001b[0m\u001b[1;33m)\u001b[0m  \u001b[1;31m# type: ignore[call-arg]\u001b[0m\u001b[1;33m\u001b[0m\u001b[1;33m\u001b[0m\u001b[0m\n\u001b[0m\u001b[0;32m   1041\u001b[0m \u001b[1;33m\u001b[0m\u001b[0m\n\u001b[0;32m   1042\u001b[0m     \u001b[1;32mdef\u001b[0m \u001b[0m_failover_to_python\u001b[0m\u001b[1;33m(\u001b[0m\u001b[0mself\u001b[0m\u001b[1;33m)\u001b[0m\u001b[1;33m:\u001b[0m\u001b[1;33m\u001b[0m\u001b[1;33m\u001b[0m\u001b[0m\n",
      "\u001b[1;32md:\\Studying\\UoR\\1. Data Mining\\Final_Project\\venv\\lib\\site-packages\\pandas\\io\\parsers\\c_parser_wrapper.py\u001b[0m in \u001b[0;36m__init__\u001b[1;34m(self, src, **kwds)\u001b[0m\n\u001b[0;32m     49\u001b[0m \u001b[1;33m\u001b[0m\u001b[0m\n\u001b[0;32m     50\u001b[0m         \u001b[1;31m# open handles\u001b[0m\u001b[1;33m\u001b[0m\u001b[1;33m\u001b[0m\u001b[1;33m\u001b[0m\u001b[0m\n\u001b[1;32m---> 51\u001b[1;33m         \u001b[0mself\u001b[0m\u001b[1;33m.\u001b[0m\u001b[0m_open_handles\u001b[0m\u001b[1;33m(\u001b[0m\u001b[0msrc\u001b[0m\u001b[1;33m,\u001b[0m \u001b[0mkwds\u001b[0m\u001b[1;33m)\u001b[0m\u001b[1;33m\u001b[0m\u001b[1;33m\u001b[0m\u001b[0m\n\u001b[0m\u001b[0;32m     52\u001b[0m         \u001b[1;32massert\u001b[0m \u001b[0mself\u001b[0m\u001b[1;33m.\u001b[0m\u001b[0mhandles\u001b[0m \u001b[1;32mis\u001b[0m \u001b[1;32mnot\u001b[0m \u001b[1;32mNone\u001b[0m\u001b[1;33m\u001b[0m\u001b[1;33m\u001b[0m\u001b[0m\n\u001b[0;32m     53\u001b[0m \u001b[1;33m\u001b[0m\u001b[0m\n",
      "\u001b[1;32md:\\Studying\\UoR\\1. Data Mining\\Final_Project\\venv\\lib\\site-packages\\pandas\\io\\parsers\\base_parser.py\u001b[0m in \u001b[0;36m_open_handles\u001b[1;34m(self, src, kwds)\u001b[0m\n\u001b[0;32m    227\u001b[0m             \u001b[0mmemory_map\u001b[0m\u001b[1;33m=\u001b[0m\u001b[0mkwds\u001b[0m\u001b[1;33m.\u001b[0m\u001b[0mget\u001b[0m\u001b[1;33m(\u001b[0m\u001b[1;34m\"memory_map\"\u001b[0m\u001b[1;33m,\u001b[0m \u001b[1;32mFalse\u001b[0m\u001b[1;33m)\u001b[0m\u001b[1;33m,\u001b[0m\u001b[1;33m\u001b[0m\u001b[1;33m\u001b[0m\u001b[0m\n\u001b[0;32m    228\u001b[0m             \u001b[0mstorage_options\u001b[0m\u001b[1;33m=\u001b[0m\u001b[0mkwds\u001b[0m\u001b[1;33m.\u001b[0m\u001b[0mget\u001b[0m\u001b[1;33m(\u001b[0m\u001b[1;34m\"storage_options\"\u001b[0m\u001b[1;33m,\u001b[0m \u001b[1;32mNone\u001b[0m\u001b[1;33m)\u001b[0m\u001b[1;33m,\u001b[0m\u001b[1;33m\u001b[0m\u001b[1;33m\u001b[0m\u001b[0m\n\u001b[1;32m--> 229\u001b[1;33m             \u001b[0merrors\u001b[0m\u001b[1;33m=\u001b[0m\u001b[0mkwds\u001b[0m\u001b[1;33m.\u001b[0m\u001b[0mget\u001b[0m\u001b[1;33m(\u001b[0m\u001b[1;34m\"encoding_errors\"\u001b[0m\u001b[1;33m,\u001b[0m \u001b[1;34m\"strict\"\u001b[0m\u001b[1;33m)\u001b[0m\u001b[1;33m,\u001b[0m\u001b[1;33m\u001b[0m\u001b[1;33m\u001b[0m\u001b[0m\n\u001b[0m\u001b[0;32m    230\u001b[0m         )\n\u001b[0;32m    231\u001b[0m \u001b[1;33m\u001b[0m\u001b[0m\n",
      "\u001b[1;32md:\\Studying\\UoR\\1. Data Mining\\Final_Project\\venv\\lib\\site-packages\\pandas\\io\\common.py\u001b[0m in \u001b[0;36mget_handle\u001b[1;34m(path_or_buf, mode, encoding, compression, memory_map, is_text, errors, storage_options)\u001b[0m\n\u001b[0;32m    705\u001b[0m                 \u001b[0mencoding\u001b[0m\u001b[1;33m=\u001b[0m\u001b[0mioargs\u001b[0m\u001b[1;33m.\u001b[0m\u001b[0mencoding\u001b[0m\u001b[1;33m,\u001b[0m\u001b[1;33m\u001b[0m\u001b[1;33m\u001b[0m\u001b[0m\n\u001b[0;32m    706\u001b[0m                 \u001b[0merrors\u001b[0m\u001b[1;33m=\u001b[0m\u001b[0merrors\u001b[0m\u001b[1;33m,\u001b[0m\u001b[1;33m\u001b[0m\u001b[1;33m\u001b[0m\u001b[0m\n\u001b[1;32m--> 707\u001b[1;33m                 \u001b[0mnewline\u001b[0m\u001b[1;33m=\u001b[0m\u001b[1;34m\"\"\u001b[0m\u001b[1;33m,\u001b[0m\u001b[1;33m\u001b[0m\u001b[1;33m\u001b[0m\u001b[0m\n\u001b[0m\u001b[0;32m    708\u001b[0m             )\n\u001b[0;32m    709\u001b[0m         \u001b[1;32melse\u001b[0m\u001b[1;33m:\u001b[0m\u001b[1;33m\u001b[0m\u001b[1;33m\u001b[0m\u001b[0m\n",
      "\u001b[1;31mPermissionError\u001b[0m: [Errno 13] Permission denied: 'D:\\\\Studying\\\\UoR\\\\1. Data Mining\\\\Final_Project\\\\data\\\\cleaned'"
     ]
    }
   ],
   "source": [
    "dict = defaultdict(list)\n",
    "\n",
    "for file_name in os.listdir(root_dir):\n",
    "    file_path = os.path.join(root_dir, file_name)\n",
    "    df = pd.read_csv(file_path)\n",
    "    root_name = file_name.split(\".\")[0]\n",
    "    \n",
    "    df.date_publish.fillna(\"\", inplace=True)\n",
    "    time = df.date_publish.apply(lambda x: datetime.strptime(x, \"%Y-%m-%d %H:%M:%S\") if x else \"\")\n",
    "    time = time.apply(lambda x: x.year).value_counts()\n",
    "    \n",
    "    print(root_name)\n",
    "    print(time)"
   ]
  },
  {
   "cell_type": "code",
   "execution_count": null,
   "metadata": {},
   "outputs": [
    {
     "data": {
      "text/plain": [
       "(6365, 16)"
      ]
     },
     "execution_count": 3,
     "metadata": {},
     "output_type": "execute_result"
    }
   ],
   "source": [
    "file_path = r\"D:\\Studying\\UoR\\1. Data Mining\\Final_Project\\data\\global-news.csv\"\n",
    "df = pd.read_csv(file_path)\n",
    "df.shape"
   ]
  },
  {
   "cell_type": "code",
   "execution_count": null,
   "metadata": {},
   "outputs": [
    {
     "data": {
      "text/plain": [
       "2136    2023-09-20 14:12:59\n",
       "4324    2023-06-22 10:07:15\n",
       "6165    2023-06-08 12:55:47\n",
       "3037    2023-08-31 14:00:14\n",
       "2606    2023-09-07 18:21:17\n",
       "724     2023-09-21 12:01:59\n",
       "5187    2023-06-02 12:09:22\n",
       "522     2023-10-09 20:57:33\n",
       "5128    2023-06-30 15:16:41\n",
       "334     2023-10-13 10:00:17\n",
       "Name: date_publish, dtype: object"
      ]
     },
     "execution_count": 4,
     "metadata": {},
     "output_type": "execute_result"
    }
   ],
   "source": [
    "df.date_publish.sample(10)"
   ]
  },
  {
   "cell_type": "code",
   "execution_count": null,
   "metadata": {},
   "outputs": [],
   "source": [
    "df.date_publish.fillna(\"\", inplace=True)"
   ]
  },
  {
   "cell_type": "code",
   "execution_count": null,
   "metadata": {},
   "outputs": [],
   "source": [
    "time = df.date_publish.apply(lambda x: datetime.strptime(x, \"%Y-%m-%d %H:%M:%S\") if x else \"\")"
   ]
  },
  {
   "cell_type": "code",
   "execution_count": null,
   "metadata": {},
   "outputs": [
    {
     "data": {
      "text/plain": [
       "{2017.0: 2023,\n",
       " 2018.0: 1833,\n",
       " 2019.0: 1239,\n",
       " 2021.0: 1066,\n",
       " 2020.0: 921,\n",
       " 2023.0: 861,\n",
       " 2022.0: 770,\n",
       " 2014.0: 1}"
      ]
     },
     "execution_count": 21,
     "metadata": {},
     "output_type": "execute_result"
    }
   ],
   "source": [
    "x = time.apply(lambda x: x.year).value_counts().to_dict()\n",
    "# x.index\n",
    "# x.values\n",
    "x"
   ]
  },
  {
   "cell_type": "code",
   "execution_count": null,
   "metadata": {},
   "outputs": [
    {
     "data": {
      "text/html": [
       "<div>\n",
       "<style scoped>\n",
       "    .dataframe tbody tr th:only-of-type {\n",
       "        vertical-align: middle;\n",
       "    }\n",
       "\n",
       "    .dataframe tbody tr th {\n",
       "        vertical-align: top;\n",
       "    }\n",
       "\n",
       "    .dataframe thead th {\n",
       "        text-align: right;\n",
       "    }\n",
       "</style>\n",
       "<table border=\"1\" class=\"dataframe\">\n",
       "  <thead>\n",
       "    <tr style=\"text-align: right;\">\n",
       "      <th></th>\n",
       "      <th>authors</th>\n",
       "      <th>date_download</th>\n",
       "      <th>date_modify</th>\n",
       "      <th>date_publish</th>\n",
       "      <th>description</th>\n",
       "      <th>filename</th>\n",
       "      <th>image_url</th>\n",
       "      <th>language</th>\n",
       "      <th>localpath</th>\n",
       "      <th>maintext</th>\n",
       "      <th>source_domain</th>\n",
       "      <th>text</th>\n",
       "      <th>title</th>\n",
       "      <th>title_page</th>\n",
       "      <th>title_rss</th>\n",
       "      <th>url</th>\n",
       "    </tr>\n",
       "  </thead>\n",
       "  <tbody>\n",
       "    <tr>\n",
       "      <th>2743</th>\n",
       "      <td>['Alex Cooke', 'Global News']</td>\n",
       "      <td>2023-11-18 22:56:05</td>\n",
       "      <td>NaN</td>\n",
       "      <td>2023-08-01 12:01:38</td>\n",
       "      <td>Tuesday marked the third annual Emancipation D...</td>\n",
       "      <td>https%3A%2F%2Fglobalnews.ca%2Fnews%2F9869530%2...</td>\n",
       "      <td>https://globalnews.ca/wp-content/uploads/2022/...</td>\n",
       "      <td>en</td>\n",
       "      <td>NaN</td>\n",
       "      <td>Send this page to someone via email\\nTuesday m...</td>\n",
       "      <td>globalnews.ca</td>\n",
       "      <td>NaN</td>\n",
       "      <td>Emancipation Day in N.S.: A time to reflect on...</td>\n",
       "      <td>NaN</td>\n",
       "      <td>NaN</td>\n",
       "      <td>https://globalnews.ca/news/9869530/ns-emancipa...</td>\n",
       "    </tr>\n",
       "    <tr>\n",
       "      <th>1039</th>\n",
       "      <td>['Sam Thompson', 'Global News']</td>\n",
       "      <td>2023-11-18 22:18:42</td>\n",
       "      <td>NaN</td>\n",
       "      <td>2023-11-10 11:37:11</td>\n",
       "      <td>Winnipeg police say a 28-year-old woman faces ...</td>\n",
       "      <td>https%3A%2F%2Fglobalnews.ca%2Fnews%2F10084459%...</td>\n",
       "      <td>https://globalnews.ca/wp-content/uploads/2023/...</td>\n",
       "      <td>en</td>\n",
       "      <td>NaN</td>\n",
       "      <td>Send this page to someone via email\\nA 28-year...</td>\n",
       "      <td>globalnews.ca</td>\n",
       "      <td>NaN</td>\n",
       "      <td>Winnipeg hockey coach faces 15 charges in sexu...</td>\n",
       "      <td>NaN</td>\n",
       "      <td>NaN</td>\n",
       "      <td>https://globalnews.ca/news/10084459/winnipeg-c...</td>\n",
       "    </tr>\n",
       "    <tr>\n",
       "      <th>1810</th>\n",
       "      <td>['Greg Davis', 'Global News']</td>\n",
       "      <td>2023-11-18 22:35:22</td>\n",
       "      <td>NaN</td>\n",
       "      <td>2023-09-29 10:50:50</td>\n",
       "      <td>A diesel fuel spill in September 2020 entered ...</td>\n",
       "      <td>https%3A%2F%2Fglobalnews.ca%2Fnews%2F9994362%2...</td>\n",
       "      <td>https://globalnews.ca/wp-content/uploads/2023/...</td>\n",
       "      <td>en</td>\n",
       "      <td>NaN</td>\n",
       "      <td>Send this page to someone via email\\nA tractor...</td>\n",
       "      <td>globalnews.ca</td>\n",
       "      <td>NaN</td>\n",
       "      <td>Walmart, trailer rental company fined $155K fo...</td>\n",
       "      <td>NaN</td>\n",
       "      <td>NaN</td>\n",
       "      <td>https://globalnews.ca/news/9994362/walmart-tra...</td>\n",
       "    </tr>\n",
       "  </tbody>\n",
       "</table>\n",
       "</div>"
      ],
      "text/plain": [
       "                              authors        date_download  date_modify  \\\n",
       "2743    ['Alex Cooke', 'Global News']  2023-11-18 22:56:05          NaN   \n",
       "1039  ['Sam Thompson', 'Global News']  2023-11-18 22:18:42          NaN   \n",
       "1810    ['Greg Davis', 'Global News']  2023-11-18 22:35:22          NaN   \n",
       "\n",
       "             date_publish                                        description  \\\n",
       "2743  2023-08-01 12:01:38  Tuesday marked the third annual Emancipation D...   \n",
       "1039  2023-11-10 11:37:11  Winnipeg police say a 28-year-old woman faces ...   \n",
       "1810  2023-09-29 10:50:50  A diesel fuel spill in September 2020 entered ...   \n",
       "\n",
       "                                               filename  \\\n",
       "2743  https%3A%2F%2Fglobalnews.ca%2Fnews%2F9869530%2...   \n",
       "1039  https%3A%2F%2Fglobalnews.ca%2Fnews%2F10084459%...   \n",
       "1810  https%3A%2F%2Fglobalnews.ca%2Fnews%2F9994362%2...   \n",
       "\n",
       "                                              image_url language  localpath  \\\n",
       "2743  https://globalnews.ca/wp-content/uploads/2022/...       en        NaN   \n",
       "1039  https://globalnews.ca/wp-content/uploads/2023/...       en        NaN   \n",
       "1810  https://globalnews.ca/wp-content/uploads/2023/...       en        NaN   \n",
       "\n",
       "                                               maintext  source_domain  text  \\\n",
       "2743  Send this page to someone via email\\nTuesday m...  globalnews.ca   NaN   \n",
       "1039  Send this page to someone via email\\nA 28-year...  globalnews.ca   NaN   \n",
       "1810  Send this page to someone via email\\nA tractor...  globalnews.ca   NaN   \n",
       "\n",
       "                                                  title  title_page  \\\n",
       "2743  Emancipation Day in N.S.: A time to reflect on...         NaN   \n",
       "1039  Winnipeg hockey coach faces 15 charges in sexu...         NaN   \n",
       "1810  Walmart, trailer rental company fined $155K fo...         NaN   \n",
       "\n",
       "      title_rss                                                url  \n",
       "2743        NaN  https://globalnews.ca/news/9869530/ns-emancipa...  \n",
       "1039        NaN  https://globalnews.ca/news/10084459/winnipeg-c...  \n",
       "1810        NaN  https://globalnews.ca/news/9994362/walmart-tra...  "
      ]
     },
     "execution_count": 7,
     "metadata": {},
     "output_type": "execute_result"
    }
   ],
   "source": [
    "df.sample(3)"
   ]
  },
  {
   "cell_type": "code",
   "execution_count": null,
   "metadata": {},
   "outputs": [],
   "source": []
  }
 ],
 "metadata": {
  "kernelspec": {
   "display_name": "Python 3 (ipykernel)",
   "language": "python",
   "name": "python3"
  },
  "language_info": {
   "codemirror_mode": {
    "name": "ipython",
    "version": 3
   },
   "file_extension": ".py",
   "mimetype": "text/x-python",
   "name": "python",
   "nbconvert_exporter": "python",
   "pygments_lexer": "ipython3",
   "version": "3.7.9"
  }
 },
 "nbformat": 4,
 "nbformat_minor": 2
}
