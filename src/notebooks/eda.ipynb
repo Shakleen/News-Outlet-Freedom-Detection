{
 "cells": [
  {
   "cell_type": "code",
   "execution_count": 1,
   "metadata": {},
   "outputs": [],
   "source": [
    "import os\n",
    "import pandas as pd"
   ]
  },
  {
   "cell_type": "code",
   "execution_count": 2,
   "metadata": {},
   "outputs": [
    {
     "name": "stdout",
     "output_type": "stream",
     "text": [
      "cbc.csv has 1546 examples\n",
      "china_daily.csv has 8728 examples\n",
      "moscow_times.csv has 13572 examples\n",
      "reuters_canada.csv has 4233 examples\n",
      "reuters_china.csv has 5666 examples\n",
      "reuters_russia.csv has 5845 examples\n"
     ]
    }
   ],
   "source": [
    "root_dir = r\"D:\\Studying\\UoR\\1. Data Mining\\Final_Project\\data\"\n",
    "\n",
    "for file_name in os.listdir(root_dir):\n",
    "    file_path = os.path.join(root_dir, file_name)\n",
    "    df = pd.read_csv(file_path)\n",
    "    df.drop_duplicates(\"url\", inplace=True)\n",
    "    df.to_csv(file_path, index=None)\n",
    "    print(f\"{file_name} has {df.shape[0]} examples\")"
   ]
  },
  {
   "cell_type": "code",
   "execution_count": 4,
   "metadata": {},
   "outputs": [],
   "source": [
    "from datetime import datetime\n",
    "from collections import defaultdict\n",
    "from pprint import pprint"
   ]
  },
  {
   "cell_type": "code",
   "execution_count": 5,
   "metadata": {},
   "outputs": [
    {
     "name": "stderr",
     "output_type": "stream",
     "text": [
      "d:\\Studying\\UoR\\1. Data Mining\\Final_Project\\venv\\lib\\site-packages\\ipykernel_launcher.py:9: FutureWarning: Inferring datetime64[ns] from data containing strings is deprecated and will be removed in a future version. To retain the old behavior explicitly pass Series(data, dtype={value.dtype})\n",
      "  if __name__ == \"__main__\":\n"
     ]
    },
    {
     "name": "stdout",
     "output_type": "stream",
     "text": [
      "cbc\n",
      "2023.0    514\n",
      "2021.0    339\n",
      "2022.0    166\n",
      "2019.0    146\n",
      "2020.0     80\n",
      "2015.0     22\n",
      "2017.0     10\n",
      "2016.0      9\n",
      "2018.0      8\n",
      "2014.0      4\n",
      "2013.0      2\n",
      "2011.0      1\n",
      "2007.0      1\n",
      "Name: date_publish, dtype: int64\n",
      "china_daily\n",
      "2017.0    2023\n",
      "2018.0    1833\n",
      "2019.0    1239\n",
      "2021.0    1066\n",
      "2020.0     921\n",
      "2023.0     861\n",
      "2022.0     770\n",
      "2014.0       1\n",
      "Name: date_publish, dtype: int64\n",
      "moscow_times\n",
      "2022    3085\n",
      "2019    2778\n",
      "2020    2632\n",
      "2023    2570\n",
      "2021    2507\n",
      "Name: date_publish, dtype: int64\n",
      "reuters_canada\n",
      "2023.0    3332\n",
      "2022.0     885\n",
      "2012.0       3\n",
      "2021.0       3\n",
      "2015.0       2\n",
      "2016.0       2\n",
      "2020.0       2\n",
      "2013.0       1\n",
      "2014.0       1\n",
      "2017.0       1\n",
      "Name: date_publish, dtype: int64\n",
      "reuters_china\n",
      "2023    5663\n",
      "2022       3\n",
      "Name: date_publish, dtype: int64\n",
      "reuters_russia\n",
      "2023.0    5173\n",
      "2022.0     670\n",
      "Name: date_publish, dtype: int64\n"
     ]
    }
   ],
   "source": [
    "dict = defaultdict(list)\n",
    "\n",
    "for file_name in os.listdir(root_dir):\n",
    "    file_path = os.path.join(root_dir, file_name)\n",
    "    df = pd.read_csv(file_path)\n",
    "    root_name = file_name.split(\".\")[0]\n",
    "    \n",
    "    df.date_publish.fillna(\"\", inplace=True)\n",
    "    time = df.date_publish.apply(lambda x: datetime.strptime(x, \"%Y-%m-%d %H:%M:%S\") if x else \"\")\n",
    "    time = time.apply(lambda x: x.year).value_counts()\n",
    "    \n",
    "    print(root_name)\n",
    "    print(time)"
   ]
  },
  {
   "cell_type": "code",
   "execution_count": 5,
   "metadata": {},
   "outputs": [
    {
     "data": {
      "text/plain": [
       "(8728, 16)"
      ]
     },
     "execution_count": 5,
     "metadata": {},
     "output_type": "execute_result"
    }
   ],
   "source": [
    "file_path = r\"D:\\Studying\\UoR\\1. Data Mining\\Final_Project\\data\\china_daily.csv\"\n",
    "df = pd.read_csv(file_path)\n",
    "df.shape"
   ]
  },
  {
   "cell_type": "code",
   "execution_count": 9,
   "metadata": {},
   "outputs": [
    {
     "data": {
      "text/plain": [
       "3932    2019-09-24 00:00:00\n",
       "6969    2017-12-02 00:00:00\n",
       "8590    2017-04-18 00:00:00\n",
       "4559    2019-03-29 00:00:00\n",
       "1070    2022-10-14 00:00:00\n",
       "8080    2017-06-24 00:00:00\n",
       "2672    2021-01-18 00:00:00\n",
       "5954    2018-04-17 00:00:00\n",
       "5576    2018-07-04 00:00:00\n",
       "5652    2018-06-20 00:00:00\n",
       "Name: date_publish, dtype: object"
      ]
     },
     "execution_count": 9,
     "metadata": {},
     "output_type": "execute_result"
    }
   ],
   "source": [
    "df.date_publish.sample(10)"
   ]
  },
  {
   "cell_type": "code",
   "execution_count": 10,
   "metadata": {},
   "outputs": [],
   "source": [
    "df.date_publish.fillna(\"\", inplace=True)"
   ]
  },
  {
   "cell_type": "code",
   "execution_count": 11,
   "metadata": {},
   "outputs": [
    {
     "name": "stderr",
     "output_type": "stream",
     "text": [
      "d:\\Studying\\UoR\\1. Data Mining\\Final_Project\\venv\\lib\\site-packages\\ipykernel_launcher.py:1: FutureWarning: Inferring datetime64[ns] from data containing strings is deprecated and will be removed in a future version. To retain the old behavior explicitly pass Series(data, dtype={value.dtype})\n",
      "  \"\"\"Entry point for launching an IPython kernel.\n"
     ]
    }
   ],
   "source": [
    "time = df.date_publish.apply(lambda x: datetime.strptime(x, \"%Y-%m-%d %H:%M:%S\") if x else \"\")"
   ]
  },
  {
   "cell_type": "code",
   "execution_count": 21,
   "metadata": {},
   "outputs": [
    {
     "data": {
      "text/plain": [
       "{2017.0: 2023,\n",
       " 2018.0: 1833,\n",
       " 2019.0: 1239,\n",
       " 2021.0: 1066,\n",
       " 2020.0: 921,\n",
       " 2023.0: 861,\n",
       " 2022.0: 770,\n",
       " 2014.0: 1}"
      ]
     },
     "execution_count": 21,
     "metadata": {},
     "output_type": "execute_result"
    }
   ],
   "source": [
    "x = time.apply(lambda x: x.year).value_counts().to_dict()\n",
    "# x.index\n",
    "# x.values\n",
    "x"
   ]
  },
  {
   "cell_type": "code",
   "execution_count": 13,
   "metadata": {},
   "outputs": [
    {
     "data": {
      "text/html": [
       "<div>\n",
       "<style scoped>\n",
       "    .dataframe tbody tr th:only-of-type {\n",
       "        vertical-align: middle;\n",
       "    }\n",
       "\n",
       "    .dataframe tbody tr th {\n",
       "        vertical-align: top;\n",
       "    }\n",
       "\n",
       "    .dataframe thead th {\n",
       "        text-align: right;\n",
       "    }\n",
       "</style>\n",
       "<table border=\"1\" class=\"dataframe\">\n",
       "  <thead>\n",
       "    <tr style=\"text-align: right;\">\n",
       "      <th></th>\n",
       "      <th>authors</th>\n",
       "      <th>date_download</th>\n",
       "      <th>date_modify</th>\n",
       "      <th>date_publish</th>\n",
       "      <th>description</th>\n",
       "      <th>filename</th>\n",
       "      <th>image_url</th>\n",
       "      <th>language</th>\n",
       "      <th>localpath</th>\n",
       "      <th>maintext</th>\n",
       "      <th>source_domain</th>\n",
       "      <th>text</th>\n",
       "      <th>title</th>\n",
       "      <th>title_page</th>\n",
       "      <th>title_rss</th>\n",
       "      <th>url</th>\n",
       "    </tr>\n",
       "  </thead>\n",
       "  <tbody>\n",
       "    <tr>\n",
       "      <th>2832</th>\n",
       "      <td>[]</td>\n",
       "      <td>2023-11-18 14:04:21</td>\n",
       "      <td>NaN</td>\n",
       "      <td>2020-11-11 00:00:00</td>\n",
       "      <td>Measures have been unveiled to bolster the nat...</td>\n",
       "      <td>https%3A%2F%2Fwww.chinadaily.com.cn%2Fa%2F2020...</td>\n",
       "      <td>http://img2.chinadaily.com.cn/images/202011/11...</td>\n",
       "      <td>en</td>\n",
       "      <td>NaN</td>\n",
       "      <td>SHI YU/CHINA DAILY\\nNation to bridge healthcar...</td>\n",
       "      <td>www.chinadaily.com.cn</td>\n",
       "      <td>NaN</td>\n",
       "      <td>Telemedicine expanded to rural areas</td>\n",
       "      <td>NaN</td>\n",
       "      <td>NaN</td>\n",
       "      <td>https://www.chinadaily.com.cn/a/202011/11/WS5f...</td>\n",
       "    </tr>\n",
       "    <tr>\n",
       "      <th>7934</th>\n",
       "      <td>[]</td>\n",
       "      <td>2023-11-18 16:15:53</td>\n",
       "      <td>NaN</td>\n",
       "      <td>2017-07-14 00:00:00</td>\n",
       "      <td>Experts will help create detailed national cri...</td>\n",
       "      <td>https%3A%2F%2Fwww.chinadaily.com.cn%2Fa%2F2017...</td>\n",
       "      <td>https://img2.chinadaily.com.cn/static/common/i...</td>\n",
       "      <td>en</td>\n",
       "      <td>NaN</td>\n",
       "      <td>Experts will help create detailed national cri...</td>\n",
       "      <td>www.chinadaily.com.cn</td>\n",
       "      <td>NaN</td>\n",
       "      <td>National criteria for appraising relics to be ...</td>\n",
       "      <td>NaN</td>\n",
       "      <td>NaN</td>\n",
       "      <td>https://www.chinadaily.com.cn/a/201707/14/WS59...</td>\n",
       "    </tr>\n",
       "    <tr>\n",
       "      <th>4304</th>\n",
       "      <td>[]</td>\n",
       "      <td>2023-11-18 14:43:22</td>\n",
       "      <td>NaN</td>\n",
       "      <td>2019-05-31 00:00:00</td>\n",
       "      <td>A new regulation to improve China's cadre sele...</td>\n",
       "      <td>https%3A%2F%2Fwww.chinadaily.com.cn%2Fa%2F2019...</td>\n",
       "      <td>http://img2.chinadaily.com.cn/images/201905/31...</td>\n",
       "      <td>en</td>\n",
       "      <td>NaN</td>\n",
       "      <td>[Photo/VCG]\\nMeasure aims to enforce accountab...</td>\n",
       "      <td>www.chinadaily.com.cn</td>\n",
       "      <td>NaN</td>\n",
       "      <td>Regulation improves selection of cadres</td>\n",
       "      <td>NaN</td>\n",
       "      <td>NaN</td>\n",
       "      <td>https://www.chinadaily.com.cn/a/201905/31/WS5c...</td>\n",
       "    </tr>\n",
       "  </tbody>\n",
       "</table>\n",
       "</div>"
      ],
      "text/plain": [
       "     authors        date_download  date_modify         date_publish  \\\n",
       "2832      []  2023-11-18 14:04:21          NaN  2020-11-11 00:00:00   \n",
       "7934      []  2023-11-18 16:15:53          NaN  2017-07-14 00:00:00   \n",
       "4304      []  2023-11-18 14:43:22          NaN  2019-05-31 00:00:00   \n",
       "\n",
       "                                            description  \\\n",
       "2832  Measures have been unveiled to bolster the nat...   \n",
       "7934  Experts will help create detailed national cri...   \n",
       "4304  A new regulation to improve China's cadre sele...   \n",
       "\n",
       "                                               filename  \\\n",
       "2832  https%3A%2F%2Fwww.chinadaily.com.cn%2Fa%2F2020...   \n",
       "7934  https%3A%2F%2Fwww.chinadaily.com.cn%2Fa%2F2017...   \n",
       "4304  https%3A%2F%2Fwww.chinadaily.com.cn%2Fa%2F2019...   \n",
       "\n",
       "                                              image_url language  localpath  \\\n",
       "2832  http://img2.chinadaily.com.cn/images/202011/11...       en        NaN   \n",
       "7934  https://img2.chinadaily.com.cn/static/common/i...       en        NaN   \n",
       "4304  http://img2.chinadaily.com.cn/images/201905/31...       en        NaN   \n",
       "\n",
       "                                               maintext  \\\n",
       "2832  SHI YU/CHINA DAILY\\nNation to bridge healthcar...   \n",
       "7934  Experts will help create detailed national cri...   \n",
       "4304  [Photo/VCG]\\nMeasure aims to enforce accountab...   \n",
       "\n",
       "              source_domain  text  \\\n",
       "2832  www.chinadaily.com.cn   NaN   \n",
       "7934  www.chinadaily.com.cn   NaN   \n",
       "4304  www.chinadaily.com.cn   NaN   \n",
       "\n",
       "                                                  title  title_page  \\\n",
       "2832               Telemedicine expanded to rural areas         NaN   \n",
       "7934  National criteria for appraising relics to be ...         NaN   \n",
       "4304            Regulation improves selection of cadres         NaN   \n",
       "\n",
       "      title_rss                                                url  \n",
       "2832        NaN  https://www.chinadaily.com.cn/a/202011/11/WS5f...  \n",
       "7934        NaN  https://www.chinadaily.com.cn/a/201707/14/WS59...  \n",
       "4304        NaN  https://www.chinadaily.com.cn/a/201905/31/WS5c...  "
      ]
     },
     "execution_count": 13,
     "metadata": {},
     "output_type": "execute_result"
    }
   ],
   "source": [
    "df.sample(3)"
   ]
  },
  {
   "cell_type": "code",
   "execution_count": null,
   "metadata": {},
   "outputs": [],
   "source": []
  }
 ],
 "metadata": {
  "kernelspec": {
   "display_name": "Python 3 (ipykernel)",
   "language": "python",
   "name": "python3"
  },
  "language_info": {
   "codemirror_mode": {
    "name": "ipython",
    "version": 3
   },
   "file_extension": ".py",
   "mimetype": "text/x-python",
   "name": "python",
   "nbconvert_exporter": "python",
   "pygments_lexer": "ipython3",
   "version": "3.7.9"
  }
 },
 "nbformat": 4,
 "nbformat_minor": 2
}
