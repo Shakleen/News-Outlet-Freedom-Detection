{
 "cells": [
  {
   "cell_type": "code",
   "execution_count": 1,
   "metadata": {},
   "outputs": [],
   "source": [
    "import os\n",
    "import pandas as pd"
   ]
  },
  {
   "cell_type": "code",
   "execution_count": 2,
   "metadata": {},
   "outputs": [
    {
     "name": "stdout",
     "output_type": "stream",
     "text": [
      "ap_canada.csv has 60 examples\n",
      "cbc.csv has 1546 examples\n",
      "china_daily.csv has 8728 examples\n",
      "global-news.csv has 11072 examples\n",
      "moscow_times.csv has 13572 examples\n",
      "reuters_canada.csv has 4233 examples\n",
      "reuters_china.csv has 5666 examples\n",
      "reuters_russia.csv has 5845 examples\n"
     ]
    }
   ],
   "source": [
    "root_dir = r\"D:\\Studying\\UoR\\1. Data Mining\\Final_Project\\data\"\n",
    "\n",
    "for file_name in os.listdir(root_dir):\n",
    "    file_path = os.path.join(root_dir, file_name)\n",
    "    df = pd.read_csv(file_path)\n",
    "    df.drop_duplicates(\"url\", inplace=True)\n",
    "    df.to_csv(file_path, index=None)\n",
    "    print(f\"{file_name} has {df.shape[0]} examples\")"
   ]
  },
  {
   "cell_type": "code",
   "execution_count": 3,
   "metadata": {},
   "outputs": [],
   "source": [
    "from datetime import datetime\n",
    "from collections import defaultdict\n",
    "from pprint import pprint"
   ]
  },
  {
   "cell_type": "code",
   "execution_count": 4,
   "metadata": {},
   "outputs": [
    {
     "name": "stdout",
     "output_type": "stream",
     "text": [
      "ap_canada\n",
      "2023    60\n",
      "Name: date_publish, dtype: int64\n"
     ]
    },
    {
     "name": "stderr",
     "output_type": "stream",
     "text": [
      "d:\\Studying\\UoR\\1. Data Mining\\Final_Project\\venv\\lib\\site-packages\\ipykernel_launcher.py:9: FutureWarning: Inferring datetime64[ns] from data containing strings is deprecated and will be removed in a future version. To retain the old behavior explicitly pass Series(data, dtype={value.dtype})\n",
      "  if __name__ == \"__main__\":\n"
     ]
    },
    {
     "name": "stdout",
     "output_type": "stream",
     "text": [
      "cbc\n",
      "2023.0    514\n",
      "2021.0    339\n",
      "2022.0    166\n",
      "2019.0    146\n",
      "2020.0     80\n",
      "2015.0     22\n",
      "2017.0     10\n",
      "2016.0      9\n",
      "2018.0      8\n",
      "2014.0      4\n",
      "2013.0      2\n",
      "2011.0      1\n",
      "2007.0      1\n",
      "Name: date_publish, dtype: int64\n",
      "china_daily\n",
      "2017.0    2023\n",
      "2018.0    1833\n",
      "2019.0    1239\n",
      "2021.0    1066\n",
      "2020.0     921\n",
      "2023.0     861\n",
      "2022.0     770\n",
      "2014.0       1\n",
      "Name: date_publish, dtype: int64\n",
      "global-news\n",
      "2023.0    9928\n",
      "2019.0    1140\n",
      "2014.0       3\n",
      "Name: date_publish, dtype: int64\n",
      "moscow_times\n",
      "2022    3085\n",
      "2019    2778\n",
      "2020    2632\n",
      "2023    2570\n",
      "2021    2507\n",
      "Name: date_publish, dtype: int64\n",
      "reuters_canada\n",
      "2023.0    3332\n",
      "2022.0     885\n",
      "2012.0       3\n",
      "2021.0       3\n",
      "2015.0       2\n",
      "2016.0       2\n",
      "2020.0       2\n",
      "2013.0       1\n",
      "2014.0       1\n",
      "2017.0       1\n",
      "Name: date_publish, dtype: int64\n",
      "reuters_china\n",
      "2023    5663\n",
      "2022       3\n",
      "Name: date_publish, dtype: int64\n",
      "reuters_russia\n",
      "2023.0    5173\n",
      "2022.0     670\n",
      "Name: date_publish, dtype: int64\n"
     ]
    }
   ],
   "source": [
    "dict = defaultdict(list)\n",
    "\n",
    "for file_name in os.listdir(root_dir):\n",
    "    file_path = os.path.join(root_dir, file_name)\n",
    "    df = pd.read_csv(file_path)\n",
    "    root_name = file_name.split(\".\")[0]\n",
    "    \n",
    "    df.date_publish.fillna(\"\", inplace=True)\n",
    "    time = df.date_publish.apply(lambda x: datetime.strptime(x, \"%Y-%m-%d %H:%M:%S\") if x else \"\")\n",
    "    time = time.apply(lambda x: x.year).value_counts()\n",
    "    \n",
    "    print(root_name)\n",
    "    print(time)"
   ]
  },
  {
   "cell_type": "code",
   "execution_count": 3,
   "metadata": {},
   "outputs": [
    {
     "data": {
      "text/plain": [
       "(6365, 16)"
      ]
     },
     "execution_count": 3,
     "metadata": {},
     "output_type": "execute_result"
    }
   ],
   "source": [
    "file_path = r\"D:\\Studying\\UoR\\1. Data Mining\\Final_Project\\data\\global-news.csv\"\n",
    "df = pd.read_csv(file_path)\n",
    "df.shape"
   ]
  },
  {
   "cell_type": "code",
   "execution_count": 4,
   "metadata": {},
   "outputs": [
    {
     "data": {
      "text/plain": [
       "2136    2023-09-20 14:12:59\n",
       "4324    2023-06-22 10:07:15\n",
       "6165    2023-06-08 12:55:47\n",
       "3037    2023-08-31 14:00:14\n",
       "2606    2023-09-07 18:21:17\n",
       "724     2023-09-21 12:01:59\n",
       "5187    2023-06-02 12:09:22\n",
       "522     2023-10-09 20:57:33\n",
       "5128    2023-06-30 15:16:41\n",
       "334     2023-10-13 10:00:17\n",
       "Name: date_publish, dtype: object"
      ]
     },
     "execution_count": 4,
     "metadata": {},
     "output_type": "execute_result"
    }
   ],
   "source": [
    "df.date_publish.sample(10)"
   ]
  },
  {
   "cell_type": "code",
   "execution_count": 5,
   "metadata": {},
   "outputs": [],
   "source": [
    "df.date_publish.fillna(\"\", inplace=True)"
   ]
  },
  {
   "cell_type": "code",
   "execution_count": 6,
   "metadata": {},
   "outputs": [],
   "source": [
    "time = df.date_publish.apply(lambda x: datetime.strptime(x, \"%Y-%m-%d %H:%M:%S\") if x else \"\")"
   ]
  },
  {
   "cell_type": "code",
   "execution_count": 21,
   "metadata": {},
   "outputs": [
    {
     "data": {
      "text/plain": [
       "{2017.0: 2023,\n",
       " 2018.0: 1833,\n",
       " 2019.0: 1239,\n",
       " 2021.0: 1066,\n",
       " 2020.0: 921,\n",
       " 2023.0: 861,\n",
       " 2022.0: 770,\n",
       " 2014.0: 1}"
      ]
     },
     "execution_count": 21,
     "metadata": {},
     "output_type": "execute_result"
    }
   ],
   "source": [
    "x = time.apply(lambda x: x.year).value_counts().to_dict()\n",
    "# x.index\n",
    "# x.values\n",
    "x"
   ]
  },
  {
   "cell_type": "code",
   "execution_count": 7,
   "metadata": {},
   "outputs": [
    {
     "data": {
      "text/html": [
       "<div>\n",
       "<style scoped>\n",
       "    .dataframe tbody tr th:only-of-type {\n",
       "        vertical-align: middle;\n",
       "    }\n",
       "\n",
       "    .dataframe tbody tr th {\n",
       "        vertical-align: top;\n",
       "    }\n",
       "\n",
       "    .dataframe thead th {\n",
       "        text-align: right;\n",
       "    }\n",
       "</style>\n",
       "<table border=\"1\" class=\"dataframe\">\n",
       "  <thead>\n",
       "    <tr style=\"text-align: right;\">\n",
       "      <th></th>\n",
       "      <th>authors</th>\n",
       "      <th>date_download</th>\n",
       "      <th>date_modify</th>\n",
       "      <th>date_publish</th>\n",
       "      <th>description</th>\n",
       "      <th>filename</th>\n",
       "      <th>image_url</th>\n",
       "      <th>language</th>\n",
       "      <th>localpath</th>\n",
       "      <th>maintext</th>\n",
       "      <th>source_domain</th>\n",
       "      <th>text</th>\n",
       "      <th>title</th>\n",
       "      <th>title_page</th>\n",
       "      <th>title_rss</th>\n",
       "      <th>url</th>\n",
       "    </tr>\n",
       "  </thead>\n",
       "  <tbody>\n",
       "    <tr>\n",
       "      <th>2743</th>\n",
       "      <td>['Alex Cooke', 'Global News']</td>\n",
       "      <td>2023-11-18 22:56:05</td>\n",
       "      <td>NaN</td>\n",
       "      <td>2023-08-01 12:01:38</td>\n",
       "      <td>Tuesday marked the third annual Emancipation D...</td>\n",
       "      <td>https%3A%2F%2Fglobalnews.ca%2Fnews%2F9869530%2...</td>\n",
       "      <td>https://globalnews.ca/wp-content/uploads/2022/...</td>\n",
       "      <td>en</td>\n",
       "      <td>NaN</td>\n",
       "      <td>Send this page to someone via email\\nTuesday m...</td>\n",
       "      <td>globalnews.ca</td>\n",
       "      <td>NaN</td>\n",
       "      <td>Emancipation Day in N.S.: A time to reflect on...</td>\n",
       "      <td>NaN</td>\n",
       "      <td>NaN</td>\n",
       "      <td>https://globalnews.ca/news/9869530/ns-emancipa...</td>\n",
       "    </tr>\n",
       "    <tr>\n",
       "      <th>1039</th>\n",
       "      <td>['Sam Thompson', 'Global News']</td>\n",
       "      <td>2023-11-18 22:18:42</td>\n",
       "      <td>NaN</td>\n",
       "      <td>2023-11-10 11:37:11</td>\n",
       "      <td>Winnipeg police say a 28-year-old woman faces ...</td>\n",
       "      <td>https%3A%2F%2Fglobalnews.ca%2Fnews%2F10084459%...</td>\n",
       "      <td>https://globalnews.ca/wp-content/uploads/2023/...</td>\n",
       "      <td>en</td>\n",
       "      <td>NaN</td>\n",
       "      <td>Send this page to someone via email\\nA 28-year...</td>\n",
       "      <td>globalnews.ca</td>\n",
       "      <td>NaN</td>\n",
       "      <td>Winnipeg hockey coach faces 15 charges in sexu...</td>\n",
       "      <td>NaN</td>\n",
       "      <td>NaN</td>\n",
       "      <td>https://globalnews.ca/news/10084459/winnipeg-c...</td>\n",
       "    </tr>\n",
       "    <tr>\n",
       "      <th>1810</th>\n",
       "      <td>['Greg Davis', 'Global News']</td>\n",
       "      <td>2023-11-18 22:35:22</td>\n",
       "      <td>NaN</td>\n",
       "      <td>2023-09-29 10:50:50</td>\n",
       "      <td>A diesel fuel spill in September 2020 entered ...</td>\n",
       "      <td>https%3A%2F%2Fglobalnews.ca%2Fnews%2F9994362%2...</td>\n",
       "      <td>https://globalnews.ca/wp-content/uploads/2023/...</td>\n",
       "      <td>en</td>\n",
       "      <td>NaN</td>\n",
       "      <td>Send this page to someone via email\\nA tractor...</td>\n",
       "      <td>globalnews.ca</td>\n",
       "      <td>NaN</td>\n",
       "      <td>Walmart, trailer rental company fined $155K fo...</td>\n",
       "      <td>NaN</td>\n",
       "      <td>NaN</td>\n",
       "      <td>https://globalnews.ca/news/9994362/walmart-tra...</td>\n",
       "    </tr>\n",
       "  </tbody>\n",
       "</table>\n",
       "</div>"
      ],
      "text/plain": [
       "                              authors        date_download  date_modify  \\\n",
       "2743    ['Alex Cooke', 'Global News']  2023-11-18 22:56:05          NaN   \n",
       "1039  ['Sam Thompson', 'Global News']  2023-11-18 22:18:42          NaN   \n",
       "1810    ['Greg Davis', 'Global News']  2023-11-18 22:35:22          NaN   \n",
       "\n",
       "             date_publish                                        description  \\\n",
       "2743  2023-08-01 12:01:38  Tuesday marked the third annual Emancipation D...   \n",
       "1039  2023-11-10 11:37:11  Winnipeg police say a 28-year-old woman faces ...   \n",
       "1810  2023-09-29 10:50:50  A diesel fuel spill in September 2020 entered ...   \n",
       "\n",
       "                                               filename  \\\n",
       "2743  https%3A%2F%2Fglobalnews.ca%2Fnews%2F9869530%2...   \n",
       "1039  https%3A%2F%2Fglobalnews.ca%2Fnews%2F10084459%...   \n",
       "1810  https%3A%2F%2Fglobalnews.ca%2Fnews%2F9994362%2...   \n",
       "\n",
       "                                              image_url language  localpath  \\\n",
       "2743  https://globalnews.ca/wp-content/uploads/2022/...       en        NaN   \n",
       "1039  https://globalnews.ca/wp-content/uploads/2023/...       en        NaN   \n",
       "1810  https://globalnews.ca/wp-content/uploads/2023/...       en        NaN   \n",
       "\n",
       "                                               maintext  source_domain  text  \\\n",
       "2743  Send this page to someone via email\\nTuesday m...  globalnews.ca   NaN   \n",
       "1039  Send this page to someone via email\\nA 28-year...  globalnews.ca   NaN   \n",
       "1810  Send this page to someone via email\\nA tractor...  globalnews.ca   NaN   \n",
       "\n",
       "                                                  title  title_page  \\\n",
       "2743  Emancipation Day in N.S.: A time to reflect on...         NaN   \n",
       "1039  Winnipeg hockey coach faces 15 charges in sexu...         NaN   \n",
       "1810  Walmart, trailer rental company fined $155K fo...         NaN   \n",
       "\n",
       "      title_rss                                                url  \n",
       "2743        NaN  https://globalnews.ca/news/9869530/ns-emancipa...  \n",
       "1039        NaN  https://globalnews.ca/news/10084459/winnipeg-c...  \n",
       "1810        NaN  https://globalnews.ca/news/9994362/walmart-tra...  "
      ]
     },
     "execution_count": 7,
     "metadata": {},
     "output_type": "execute_result"
    }
   ],
   "source": [
    "df.sample(3)"
   ]
  },
  {
   "cell_type": "code",
   "execution_count": null,
   "metadata": {},
   "outputs": [],
   "source": []
  }
 ],
 "metadata": {
  "kernelspec": {
   "display_name": "Python 3 (ipykernel)",
   "language": "python",
   "name": "python3"
  },
  "language_info": {
   "codemirror_mode": {
    "name": "ipython",
    "version": 3
   },
   "file_extension": ".py",
   "mimetype": "text/x-python",
   "name": "python",
   "nbconvert_exporter": "python",
   "pygments_lexer": "ipython3",
   "version": "3.7.9"
  }
 },
 "nbformat": 4,
 "nbformat_minor": 2
}
