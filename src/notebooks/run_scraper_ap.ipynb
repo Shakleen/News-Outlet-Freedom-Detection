{
 "cells": [
  {
   "cell_type": "code",
   "execution_count": 1,
   "metadata": {},
   "outputs": [],
   "source": [
    "import os\n",
    "os.chdir(r\"D:\\Studying\\UoR\\1. Data Mining\\Final_Project\")"
   ]
  },
  {
   "cell_type": "markdown",
   "metadata": {},
   "source": [
    "# CBC Scraper"
   ]
  },
  {
   "cell_type": "code",
   "execution_count": 2,
   "metadata": {},
   "outputs": [],
   "source": [
    "from src.scrapers.ap_scraper import APScraper"
   ]
  },
  {
   "cell_type": "code",
   "execution_count": null,
   "metadata": {},
   "outputs": [
    {
     "name": "stdout",
     "output_type": "stream",
     "text": [
      "[00h 00m 29s] Total saved so far: 30\n",
      "[00h 00m 47s] Total saved so far: 60\n",
      "[00h 01m 04s] Total saved so far: 90\n",
      "[00h 01m 25s] Total saved so far: 120\n",
      "[00h 01m 42s] Total saved so far: 150\n",
      "[00h 02m 02s] Total saved so far: 180\n",
      "[00h 02m 21s] Total saved so far: 210\n",
      "[00h 02m 38s] Total saved so far: 240\n",
      "[00h 02m 56s] Total saved so far: 270\n",
      "[00h 03m 14s] Total saved so far: 300\n",
      "[00h 03m 31s] Total saved so far: 330\n",
      "[00h 03m 52s] Total saved so far: 360\n",
      "[00h 04m 09s] Total saved so far: 390\n",
      "[00h 04m 24s] Total saved so far: 420\n",
      "[00h 04m 41s] Total saved so far: 450\n",
      "[00h 04m 57s] Total saved so far: 480\n"
     ]
    }
   ],
   "source": [
    "url_scraper = APScraper(search_term=\"russia\", pause_min=5, pause_max=10)\n",
    "url_scraper.get_urls()"
   ]
  },
  {
   "cell_type": "code",
   "execution_count": null,
   "metadata": {},
   "outputs": [],
   "source": []
  }
 ],
 "metadata": {
  "kernelspec": {
   "display_name": "Python 3 (ipykernel)",
   "language": "python",
   "name": "python3"
  },
  "language_info": {
   "codemirror_mode": {
    "name": "ipython",
    "version": 3
   },
   "file_extension": ".py",
   "mimetype": "text/x-python",
   "name": "python",
   "nbconvert_exporter": "python",
   "pygments_lexer": "ipython3",
   "version": "3.7.9"
  }
 },
 "nbformat": 4,
 "nbformat_minor": 2
}
