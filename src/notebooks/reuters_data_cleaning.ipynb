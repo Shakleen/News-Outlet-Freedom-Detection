{
 "cells": [
  {
   "cell_type": "code",
   "execution_count": 1,
   "metadata": {},
   "outputs": [],
   "source": [
    "import os\n",
    "os.chdir(\"../../\")"
   ]
  },
  {
   "cell_type": "markdown",
   "metadata": {},
   "source": [
    "# Reuters"
   ]
  },
  {
   "cell_type": "markdown",
   "metadata": {},
   "source": [
    "## Canada"
   ]
  },
  {
   "cell_type": "code",
   "execution_count": 2,
   "metadata": {},
   "outputs": [],
   "source": [
    "from src.data_cleaners.reuters_cleaner import ReutersCanada"
   ]
  },
  {
   "cell_type": "code",
   "execution_count": 3,
   "metadata": {},
   "outputs": [
    {
     "name": "stdout",
     "output_type": "stream",
     "text": [
      "Loaded file: data\\reuters_canada.csv\n",
      "Data shape: (4038, 2)\n",
      "<class 'pandas.core.frame.DataFrame'>\n",
      "RangeIndex: 4038 entries, 0 to 4037\n",
      "Data columns (total 2 columns):\n",
      " #   Column    Non-Null Count  Dtype \n",
      "---  ------    --------------  ----- \n",
      " 0   maintext  4038 non-null   object\n",
      " 1   title     4038 non-null   object\n",
      "dtypes: object(2)\n",
      "memory usage: 63.2+ KB\n",
      "None\n",
      "Started text processing\n",
      "discard_reporting_by done\n",
      "remove_links done\n",
      "remove_read_more done\n",
      "discard_initial_location_and_date done\n",
      "finished text processing\n",
      "Started row processing\n",
      "drop_annual_inflation_rate_news done\n",
      "Data shape: (4038, 2)\n",
      "drop_zero_lengths done\n",
      "Data shape: (4038, 2)\n",
      "drop_unrelated_geo_news done\n",
      "Data shape: (4038, 2)\n",
      "drop_short_news done\n",
      "Data shape: (4038, 2)\n",
      "Finished row processing\n"
     ]
    }
   ],
   "source": [
    "file_path = r\"data\\reuters_canada.csv\"\n",
    "save_path = r\"data\\cleaned\\reuters_canada.csv\"\n",
    "\n",
    "cleaner = ReutersCanada(file_path, save_path, \n",
    "                         usecols=[\"maintext\", \"title\"])\n",
    "cleaner()"
   ]
  },
  {
   "cell_type": "markdown",
   "metadata": {},
   "source": [
    "## China"
   ]
  },
  {
   "cell_type": "code",
   "execution_count": 4,
   "metadata": {},
   "outputs": [],
   "source": [
    "from src.data_cleaners.reuters_cleaner import ReutersChina"
   ]
  },
  {
   "cell_type": "code",
   "execution_count": 5,
   "metadata": {},
   "outputs": [
    {
     "name": "stdout",
     "output_type": "stream",
     "text": [
      "Loaded file: data\\reuters_china.csv\n",
      "Data shape: (5670, 3)\n",
      "<class 'pandas.core.frame.DataFrame'>\n",
      "RangeIndex: 5670 entries, 0 to 5669\n",
      "Data columns (total 3 columns):\n",
      " #   Column        Non-Null Count  Dtype \n",
      "---  ------        --------------  ----- \n",
      " 0   date_publish  5670 non-null   object\n",
      " 1   maintext      5670 non-null   object\n",
      " 2   title         5670 non-null   object\n",
      "dtypes: object(3)\n",
      "memory usage: 133.0+ KB\n",
      "None\n",
      "Started text processing\n",
      "discard_reporting_by done\n",
      "remove_links done\n",
      "remove_read_more done\n",
      "discard_initial_location_and_date done\n",
      "finished text processing\n",
      "Started row processing\n",
      "drop_annual_inflation_rate_news done\n",
      "Data shape: (5670, 3)\n",
      "drop_zero_lengths done\n",
      "Data shape: (5670, 3)\n",
      "drop_unrelated_geo_news done\n",
      "Data shape: (5064, 3)\n",
      "drop_short_news done\n",
      "Data shape: (5039, 3)\n",
      "Finished row processing\n"
     ]
    }
   ],
   "source": [
    "file_path = r\"data\\reuters_china.csv\"\n",
    "save_path = r\"data\\cleaned\\reuters_china.csv\"\n",
    "\n",
    "cleaner = ReutersChina(file_path, save_path,\n",
    "                       usecols=[\"maintext\", \"title\", \"date_publish\"])\n",
    "cleaner()"
   ]
  },
  {
   "cell_type": "markdown",
   "metadata": {},
   "source": [
    "## Russia"
   ]
  },
  {
   "cell_type": "code",
   "execution_count": 6,
   "metadata": {},
   "outputs": [],
   "source": [
    "from src.data_cleaners.reuters_cleaner import ReutersRussia"
   ]
  },
  {
   "cell_type": "code",
   "execution_count": 7,
   "metadata": {},
   "outputs": [
    {
     "name": "stdout",
     "output_type": "stream",
     "text": [
      "Loaded file: data\\reuters_russia.csv\n",
      "Data shape: (5845, 3)\n",
      "<class 'pandas.core.frame.DataFrame'>\n",
      "RangeIndex: 5845 entries, 0 to 5844\n",
      "Data columns (total 3 columns):\n",
      " #   Column        Non-Null Count  Dtype \n",
      "---  ------        --------------  ----- \n",
      " 0   date_publish  5845 non-null   object\n",
      " 1   maintext      5845 non-null   object\n",
      " 2   title         5845 non-null   object\n",
      "dtypes: object(3)\n",
      "memory usage: 137.1+ KB\n",
      "None\n",
      "Started text processing\n",
      "discard_reporting_by done\n",
      "remove_links done\n",
      "remove_read_more done\n",
      "discard_initial_location_and_date done\n",
      "finished text processing\n",
      "Started row processing\n",
      "drop_annual_inflation_rate_news done\n",
      "Data shape: (5845, 3)\n",
      "drop_zero_lengths done\n",
      "Data shape: (5841, 3)\n",
      "drop_unrelated_geo_news done\n",
      "Data shape: (5464, 3)\n",
      "drop_short_news done\n",
      "Data shape: (5411, 3)\n",
      "Finished row processing\n"
     ]
    }
   ],
   "source": [
    "file_path = r\"data\\reuters_russia.csv\"\n",
    "save_path = r\"data\\cleaned\\reuters_russia.csv\"\n",
    "\n",
    "cleaner = ReutersRussia(file_path, save_path,\n",
    "                       usecols=[\"maintext\", \"title\", \"date_publish\"])\n",
    "cleaner()"
   ]
  }
 ],
 "metadata": {
  "kernelspec": {
   "display_name": "venv",
   "language": "python",
   "name": "python3"
  },
  "language_info": {
   "codemirror_mode": {
    "name": "ipython",
    "version": 3
   },
   "file_extension": ".py",
   "mimetype": "text/x-python",
   "name": "python",
   "nbconvert_exporter": "python",
   "pygments_lexer": "ipython3",
   "version": "3.7.9"
  }
 },
 "nbformat": 4,
 "nbformat_minor": 2
}
