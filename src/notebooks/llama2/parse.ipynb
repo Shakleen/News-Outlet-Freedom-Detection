{
 "cells": [
  {
   "cell_type": "code",
   "execution_count": 1,
   "metadata": {},
   "outputs": [],
   "source": [
    "import os\n",
    "os.chdir(\"../../../\")"
   ]
  },
  {
   "cell_type": "code",
   "execution_count": 2,
   "metadata": {},
   "outputs": [],
   "source": [
    "import re"
   ]
  },
  {
   "cell_type": "markdown",
   "metadata": {},
   "source": [
    "# Parsing Answers from LLaMa-2"
   ]
  },
  {
   "cell_type": "code",
   "execution_count": 3,
   "metadata": {},
   "outputs": [],
   "source": [
    "import pandas as pd"
   ]
  },
  {
   "cell_type": "code",
   "execution_count": 4,
   "metadata": {},
   "outputs": [],
   "source": [
    "INPUT_PATH = r\"D:\\Studying\\UoR\\1. Data Mining\\Final_Project\\data\\generated\\answer_russia.csv\""
   ]
  },
  {
   "cell_type": "code",
   "execution_count": 5,
   "metadata": {},
   "outputs": [
    {
     "data": {
      "text/html": [
       "<div>\n",
       "<style scoped>\n",
       "    .dataframe tbody tr th:only-of-type {\n",
       "        vertical-align: middle;\n",
       "    }\n",
       "\n",
       "    .dataframe tbody tr th {\n",
       "        vertical-align: top;\n",
       "    }\n",
       "\n",
       "    .dataframe thead th {\n",
       "        text-align: right;\n",
       "    }\n",
       "</style>\n",
       "<table border=\"1\" class=\"dataframe\">\n",
       "  <thead>\n",
       "    <tr style=\"text-align: right;\">\n",
       "      <th></th>\n",
       "      <th>date_publish</th>\n",
       "      <th>maintext</th>\n",
       "      <th>title</th>\n",
       "      <th>source_type</th>\n",
       "      <th>source_name</th>\n",
       "      <th>country</th>\n",
       "      <th>text</th>\n",
       "      <th>generated_text</th>\n",
       "    </tr>\n",
       "  </thead>\n",
       "  <tbody>\n",
       "    <tr>\n",
       "      <th>1232</th>\n",
       "      <td>2022-08-03 12:07:01</td>\n",
       "      <td>German Chancellor Olaf Scholz on Wednesday rai...</td>\n",
       "      <td>Scholz Opens Door To Extend Nuclear as Russia ...</td>\n",
       "      <td>local</td>\n",
       "      <td>moscow_times</td>\n",
       "      <td>russia</td>\n",
       "      <td>As a neutral news analyst, assess the sentimen...</td>\n",
       "      <td>###Human:\\nAs a neutral news analyst, assess t...</td>\n",
       "    </tr>\n",
       "    <tr>\n",
       "      <th>1538</th>\n",
       "      <td>2022-03-11 05:34:19</td>\n",
       "      <td>The UN Security Council will hold an emergency...</td>\n",
       "      <td>UN Security Council to Meet Friday on Biologic...</td>\n",
       "      <td>local</td>\n",
       "      <td>moscow_times</td>\n",
       "      <td>russia</td>\n",
       "      <td>As a neutral news analyst, assess the sentimen...</td>\n",
       "      <td>###Human:\\nAs a neutral news analyst, assess t...</td>\n",
       "    </tr>\n",
       "    <tr>\n",
       "      <th>110</th>\n",
       "      <td>2023-03-16 16:18:32</td>\n",
       "      <td>Russia's Supreme Court on Thursday granted a m...</td>\n",
       "      <td>Russian Supreme Court Deems Freedom of Russia ...</td>\n",
       "      <td>local</td>\n",
       "      <td>moscow_times</td>\n",
       "      <td>russia</td>\n",
       "      <td>As a neutral news analyst, assess the sentimen...</td>\n",
       "      <td>###Human:\\nAs a neutral news analyst, assess t...</td>\n",
       "    </tr>\n",
       "  </tbody>\n",
       "</table>\n",
       "</div>"
      ],
      "text/plain": [
       "             date_publish                                           maintext  \\\n",
       "1232  2022-08-03 12:07:01  German Chancellor Olaf Scholz on Wednesday rai...   \n",
       "1538  2022-03-11 05:34:19  The UN Security Council will hold an emergency...   \n",
       "110   2023-03-16 16:18:32  Russia's Supreme Court on Thursday granted a m...   \n",
       "\n",
       "                                                  title source_type  \\\n",
       "1232  Scholz Opens Door To Extend Nuclear as Russia ...       local   \n",
       "1538  UN Security Council to Meet Friday on Biologic...       local   \n",
       "110   Russian Supreme Court Deems Freedom of Russia ...       local   \n",
       "\n",
       "       source_name country                                               text  \\\n",
       "1232  moscow_times  russia  As a neutral news analyst, assess the sentimen...   \n",
       "1538  moscow_times  russia  As a neutral news analyst, assess the sentimen...   \n",
       "110   moscow_times  russia  As a neutral news analyst, assess the sentimen...   \n",
       "\n",
       "                                         generated_text  \n",
       "1232  ###Human:\\nAs a neutral news analyst, assess t...  \n",
       "1538  ###Human:\\nAs a neutral news analyst, assess t...  \n",
       "110   ###Human:\\nAs a neutral news analyst, assess t...  "
      ]
     },
     "execution_count": 5,
     "metadata": {},
     "output_type": "execute_result"
    }
   ],
   "source": [
    "df = pd.read_csv(INPUT_PATH)\n",
    "df.sample(3)"
   ]
  },
  {
   "cell_type": "code",
   "execution_count": 6,
   "metadata": {},
   "outputs": [
    {
     "data": {
      "text/plain": [
       "(4000, 8)"
      ]
     },
     "execution_count": 6,
     "metadata": {},
     "output_type": "execute_result"
    }
   ],
   "source": [
    "df.shape"
   ]
  },
  {
   "cell_type": "markdown",
   "metadata": {},
   "source": [
    "How many has answers from LLaMa-2"
   ]
  },
  {
   "cell_type": "code",
   "execution_count": 7,
   "metadata": {},
   "outputs": [
    {
     "data": {
      "text/plain": [
       "4000"
      ]
     },
     "execution_count": 7,
     "metadata": {},
     "output_type": "execute_result"
    }
   ],
   "source": [
    "df.generated_text[df.generated_text != \"\"].count()"
   ]
  },
  {
   "cell_type": "markdown",
   "metadata": {},
   "source": [
    "# Trimming to only Assistance Portion"
   ]
  },
  {
   "cell_type": "code",
   "execution_count": 8,
   "metadata": {},
   "outputs": [],
   "source": [
    "def trim(text):\n",
    "    pattern = \"###Assistant:\\n\"\n",
    "    matches = [match for match in re.finditer(pattern, text)]\n",
    "    \n",
    "    if matches is None:\n",
    "        return \"\"\n",
    "    \n",
    "    try:\n",
    "        return text[matches[0].end():].strip()\n",
    "    except Exception:\n",
    "        return None"
   ]
  },
  {
   "cell_type": "code",
   "execution_count": 9,
   "metadata": {},
   "outputs": [
    {
     "name": "stdout",
     "output_type": "stream",
     "text": [
      "1. Sentiment: Positive\n",
      "    * Score: 0.8\n",
      "    * Reason: The article conveys a positive sentiment, focusing on the progress made by Ukraine in retaking villages and the morale-boosting statements from President Zelensky.\n",
      "2. Stance: Pro-Ukraine\n",
      "    * Score: 0.9\n",
      "    * Reason: The article takes a clear stance in favor of Ukraine, highlighting the courage and determination of its armed forces and their successful counter-offensive against Russian forces.\n"
     ]
    }
   ],
   "source": [
    "print(trim(df.generated_text.iloc[0]))"
   ]
  },
  {
   "cell_type": "code",
   "execution_count": 10,
   "metadata": {},
   "outputs": [],
   "source": [
    "df.generated_text = df.generated_text.map(trim)"
   ]
  },
  {
   "cell_type": "code",
   "execution_count": 11,
   "metadata": {},
   "outputs": [
    {
     "data": {
      "text/html": [
       "<div>\n",
       "<style scoped>\n",
       "    .dataframe tbody tr th:only-of-type {\n",
       "        vertical-align: middle;\n",
       "    }\n",
       "\n",
       "    .dataframe tbody tr th {\n",
       "        vertical-align: top;\n",
       "    }\n",
       "\n",
       "    .dataframe thead th {\n",
       "        text-align: right;\n",
       "    }\n",
       "</style>\n",
       "<table border=\"1\" class=\"dataframe\">\n",
       "  <thead>\n",
       "    <tr style=\"text-align: right;\">\n",
       "      <th></th>\n",
       "      <th>date_publish</th>\n",
       "      <th>maintext</th>\n",
       "      <th>title</th>\n",
       "      <th>source_type</th>\n",
       "      <th>source_name</th>\n",
       "      <th>country</th>\n",
       "      <th>text</th>\n",
       "      <th>generated_text</th>\n",
       "      <th>sentiment_class</th>\n",
       "      <th>stance_class</th>\n",
       "      <th>sentiment_score</th>\n",
       "      <th>stance_score</th>\n",
       "      <th>sentiment_reason</th>\n",
       "      <th>stance_reason</th>\n",
       "    </tr>\n",
       "  </thead>\n",
       "  <tbody>\n",
       "    <tr>\n",
       "      <th>3726</th>\n",
       "      <td>2020-05-08 09:05:51</td>\n",
       "      <td>The bombastic military parade through Moscow's...</td>\n",
       "      <td>Coronavirus Deals 'Powerful Blow' to Putin's G...</td>\n",
       "      <td>local</td>\n",
       "      <td>moscow_times</td>\n",
       "      <td>russia</td>\n",
       "      <td>As a neutral news analyst, assess the sentimen...</td>\n",
       "      <td>1. Sentiment: Negative\\n    * Score: -0.7\\n   ...</td>\n",
       "      <td>negative</td>\n",
       "      <td>impartial</td>\n",
       "      <td>-0.7</td>\n",
       "      <td>0.0</td>\n",
       "      <td>The article presents a negative view of the im...</td>\n",
       "      <td>The article is reporting on the situation in R...</td>\n",
       "    </tr>\n",
       "    <tr>\n",
       "      <th>1000</th>\n",
       "      <td>2023-11-10 19:11:26</td>\n",
       "      <td>Ukrainian and Russian officials on Friday repo...</td>\n",
       "      <td>A teenager taken from occupied Mariupol to Rus...</td>\n",
       "      <td>international</td>\n",
       "      <td>ap</td>\n",
       "      <td>russia</td>\n",
       "      <td>As a neutral news analyst, assess the sentimen...</td>\n",
       "      <td>1. Sentiment: Positive\\n    * Score: 0.9\\n    ...</td>\n",
       "      <td>positive</td>\n",
       "      <td>impartial</td>\n",
       "      <td>0.9</td>\n",
       "      <td>0.1</td>\n",
       "      <td>The article conveys a positive sentiment, as i...</td>\n",
       "      <td>The article presents both sides of the story, ...</td>\n",
       "    </tr>\n",
       "    <tr>\n",
       "      <th>399</th>\n",
       "      <td>2023-10-12 09:42:10</td>\n",
       "      <td>Deputy Prime Minister Alexander Novak said on ...</td>\n",
       "      <td>Novak: Russia's oil exports cuts include oil p...</td>\n",
       "      <td>international</td>\n",
       "      <td>reuters</td>\n",
       "      <td>russia</td>\n",
       "      <td>As a neutral news analyst, assess the sentimen...</td>\n",
       "      <td>1. Sentiment: Negative\\n    * Score: -0.7\\n   ...</td>\n",
       "      <td>negative</td>\n",
       "      <td>impartial</td>\n",
       "      <td>-0.7</td>\n",
       "      <td>0.0</td>\n",
       "      <td>The article presents a negative sentiment, as ...</td>\n",
       "      <td>The article maintains an impartial stance by o...</td>\n",
       "    </tr>\n",
       "  </tbody>\n",
       "</table>\n",
       "</div>"
      ],
      "text/plain": [
       "             date_publish                                           maintext  \\\n",
       "3726  2020-05-08 09:05:51  The bombastic military parade through Moscow's...   \n",
       "1000  2023-11-10 19:11:26  Ukrainian and Russian officials on Friday repo...   \n",
       "399   2023-10-12 09:42:10  Deputy Prime Minister Alexander Novak said on ...   \n",
       "\n",
       "                                                  title    source_type  \\\n",
       "3726  Coronavirus Deals 'Powerful Blow' to Putin's G...          local   \n",
       "1000  A teenager taken from occupied Mariupol to Rus...  international   \n",
       "399   Novak: Russia's oil exports cuts include oil p...  international   \n",
       "\n",
       "       source_name country                                               text  \\\n",
       "3726  moscow_times  russia  As a neutral news analyst, assess the sentimen...   \n",
       "1000            ap  russia  As a neutral news analyst, assess the sentimen...   \n",
       "399        reuters  russia  As a neutral news analyst, assess the sentimen...   \n",
       "\n",
       "                                         generated_text sentiment_class  \\\n",
       "3726  1. Sentiment: Negative\\n    * Score: -0.7\\n   ...        negative   \n",
       "1000  1. Sentiment: Positive\\n    * Score: 0.9\\n    ...        positive   \n",
       "399   1. Sentiment: Negative\\n    * Score: -0.7\\n   ...        negative   \n",
       "\n",
       "     stance_class  sentiment_score  stance_score  \\\n",
       "3726    impartial             -0.7           0.0   \n",
       "1000    impartial              0.9           0.1   \n",
       "399     impartial             -0.7           0.0   \n",
       "\n",
       "                                       sentiment_reason  \\\n",
       "3726  The article presents a negative view of the im...   \n",
       "1000  The article conveys a positive sentiment, as i...   \n",
       "399   The article presents a negative sentiment, as ...   \n",
       "\n",
       "                                          stance_reason  \n",
       "3726  The article is reporting on the situation in R...  \n",
       "1000  The article presents both sides of the story, ...  \n",
       "399   The article maintains an impartial stance by o...  "
      ]
     },
     "execution_count": 11,
     "metadata": {},
     "output_type": "execute_result"
    }
   ],
   "source": [
    "from src.llama2.parse_csv import ParseCSV\n",
    "\n",
    "parser = ParseCSV()\n",
    "df = parser(df)\n",
    "df.sample(3)"
   ]
  },
  {
   "cell_type": "code",
   "execution_count": 12,
   "metadata": {},
   "outputs": [
    {
     "data": {
      "text/plain": [
       "Series([], Name: source_type, dtype: int64)"
      ]
     },
     "execution_count": 12,
     "metadata": {},
     "output_type": "execute_result"
    }
   ],
   "source": [
    "df[(df.country == \"canada\") & (df.generated_text != \"\")].source_type.value_counts()"
   ]
  },
  {
   "cell_type": "code",
   "execution_count": 13,
   "metadata": {},
   "outputs": [
    {
     "data": {
      "text/plain": [
       "Index(['date_publish', 'maintext', 'title', 'source_type', 'source_name',\n",
       "       'country', 'sentiment_class', 'stance_class', 'sentiment_score',\n",
       "       'stance_score', 'sentiment_reason', 'stance_reason'],\n",
       "      dtype='object')"
      ]
     },
     "execution_count": 13,
     "metadata": {},
     "output_type": "execute_result"
    }
   ],
   "source": [
    "df.drop(columns=[\"text\", \"generated_text\"], inplace=True)\n",
    "df.columns"
   ]
  },
  {
   "cell_type": "code",
   "execution_count": 14,
   "metadata": {},
   "outputs": [],
   "source": [
    "df.to_csv(r\"D:\\Studying\\UoR\\1. Data Mining\\Final_Project\\data\\parsed\\russia.csv\", index=False)"
   ]
  }
 ],
 "metadata": {
  "kernelspec": {
   "display_name": "venv",
   "language": "python",
   "name": "python3"
  },
  "language_info": {
   "codemirror_mode": {
    "name": "ipython",
    "version": 3
   },
   "file_extension": ".py",
   "mimetype": "text/x-python",
   "name": "python",
   "nbconvert_exporter": "python",
   "pygments_lexer": "ipython3",
   "version": "3.7.9"
  }
 },
 "nbformat": 4,
 "nbformat_minor": 2
}
