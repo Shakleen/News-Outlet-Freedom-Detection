{
 "cells": [
  {
   "cell_type": "code",
   "execution_count": 29,
   "metadata": {},
   "outputs": [],
   "source": [
    "import os\n",
    "os.chdir(\"../../../\")"
   ]
  },
  {
   "cell_type": "code",
   "execution_count": 30,
   "metadata": {},
   "outputs": [],
   "source": [
    "import re"
   ]
  },
  {
   "cell_type": "markdown",
   "metadata": {},
   "source": [
    "# Parsing Answers from LLaMa-2"
   ]
  },
  {
   "cell_type": "code",
   "execution_count": 31,
   "metadata": {},
   "outputs": [],
   "source": [
    "import pandas as pd"
   ]
  },
  {
   "cell_type": "code",
   "execution_count": 32,
   "metadata": {},
   "outputs": [],
   "source": [
    "INPUT_PATH = r\"D:\\Studying\\UoR\\1. Data Mining\\Final_Project\\data\\generated\\answer_russia.csv\""
   ]
  },
  {
   "cell_type": "code",
   "execution_count": 33,
   "metadata": {},
   "outputs": [
    {
     "data": {
      "text/html": [
       "<div>\n",
       "<style scoped>\n",
       "    .dataframe tbody tr th:only-of-type {\n",
       "        vertical-align: middle;\n",
       "    }\n",
       "\n",
       "    .dataframe tbody tr th {\n",
       "        vertical-align: top;\n",
       "    }\n",
       "\n",
       "    .dataframe thead th {\n",
       "        text-align: right;\n",
       "    }\n",
       "</style>\n",
       "<table border=\"1\" class=\"dataframe\">\n",
       "  <thead>\n",
       "    <tr style=\"text-align: right;\">\n",
       "      <th></th>\n",
       "      <th>date_publish</th>\n",
       "      <th>maintext</th>\n",
       "      <th>title</th>\n",
       "      <th>source_type</th>\n",
       "      <th>source_name</th>\n",
       "      <th>country</th>\n",
       "      <th>text</th>\n",
       "      <th>generated_text</th>\n",
       "      <th>topic</th>\n",
       "    </tr>\n",
       "  </thead>\n",
       "  <tbody>\n",
       "    <tr>\n",
       "      <th>1363</th>\n",
       "      <td>2019-12-06 07:51:25</td>\n",
       "      <td>Residents of Ryrkapiy, population 600, were sa...</td>\n",
       "      <td>Dozens of Polar Bears Descend Upon Russian Town</td>\n",
       "      <td>local</td>\n",
       "      <td>moscow_times</td>\n",
       "      <td>russia</td>\n",
       "      <td>As a neutral news analyst, assess the sentimen...</td>\n",
       "      <td>###Human:\\nAs a neutral news analyst, assess t...</td>\n",
       "      <td>politics</td>\n",
       "    </tr>\n",
       "    <tr>\n",
       "      <th>775</th>\n",
       "      <td>2020-06-22 15:40:53</td>\n",
       "      <td>One of the first wind power stations in Russia...</td>\n",
       "      <td>Russia’s Coronavirus Recovery Plan Has No Spac...</td>\n",
       "      <td>local</td>\n",
       "      <td>moscow_times</td>\n",
       "      <td>russia</td>\n",
       "      <td>As a neutral news analyst, assess the sentimen...</td>\n",
       "      <td>###Human:\\nAs a neutral news analyst, assess t...</td>\n",
       "      <td>politics</td>\n",
       "    </tr>\n",
       "    <tr>\n",
       "      <th>3534</th>\n",
       "      <td>2023-06-27 08:31:46</td>\n",
       "      <td>Russian mercenary chief Yevgeny Prigozhin flew...</td>\n",
       "      <td>Renegade Russian mercenary Prigozhin is in Bel...</td>\n",
       "      <td>international</td>\n",
       "      <td>reuters</td>\n",
       "      <td>russia</td>\n",
       "      <td>As a neutral news analyst, assess the sentimen...</td>\n",
       "      <td>###Human:\\nAs a neutral news analyst, assess t...</td>\n",
       "      <td>conflict</td>\n",
       "    </tr>\n",
       "  </tbody>\n",
       "</table>\n",
       "</div>"
      ],
      "text/plain": [
       "             date_publish                                           maintext  \\\n",
       "1363  2019-12-06 07:51:25  Residents of Ryrkapiy, population 600, were sa...   \n",
       "775   2020-06-22 15:40:53  One of the first wind power stations in Russia...   \n",
       "3534  2023-06-27 08:31:46  Russian mercenary chief Yevgeny Prigozhin flew...   \n",
       "\n",
       "                                                  title    source_type  \\\n",
       "1363    Dozens of Polar Bears Descend Upon Russian Town          local   \n",
       "775   Russia’s Coronavirus Recovery Plan Has No Spac...          local   \n",
       "3534  Renegade Russian mercenary Prigozhin is in Bel...  international   \n",
       "\n",
       "       source_name country                                               text  \\\n",
       "1363  moscow_times  russia  As a neutral news analyst, assess the sentimen...   \n",
       "775   moscow_times  russia  As a neutral news analyst, assess the sentimen...   \n",
       "3534       reuters  russia  As a neutral news analyst, assess the sentimen...   \n",
       "\n",
       "                                         generated_text     topic  \n",
       "1363  ###Human:\\nAs a neutral news analyst, assess t...  politics  \n",
       "775   ###Human:\\nAs a neutral news analyst, assess t...  politics  \n",
       "3534  ###Human:\\nAs a neutral news analyst, assess t...  conflict  "
      ]
     },
     "execution_count": 33,
     "metadata": {},
     "output_type": "execute_result"
    }
   ],
   "source": [
    "df = pd.read_csv(INPUT_PATH)\n",
    "df.sample(3)"
   ]
  },
  {
   "cell_type": "code",
   "execution_count": 34,
   "metadata": {},
   "outputs": [
    {
     "data": {
      "text/plain": [
       "(4000, 9)"
      ]
     },
     "execution_count": 34,
     "metadata": {},
     "output_type": "execute_result"
    }
   ],
   "source": [
    "df.shape"
   ]
  },
  {
   "cell_type": "markdown",
   "metadata": {},
   "source": [
    "How many has answers from LLaMa-2"
   ]
  },
  {
   "cell_type": "code",
   "execution_count": 35,
   "metadata": {},
   "outputs": [
    {
     "data": {
      "text/plain": [
       "4000"
      ]
     },
     "execution_count": 35,
     "metadata": {},
     "output_type": "execute_result"
    }
   ],
   "source": [
    "df.generated_text[df.generated_text != \"\"].count()"
   ]
  },
  {
   "cell_type": "markdown",
   "metadata": {},
   "source": [
    "# Trimming to only Assistance Portion"
   ]
  },
  {
   "cell_type": "code",
   "execution_count": 36,
   "metadata": {},
   "outputs": [],
   "source": [
    "def trim(text):\n",
    "    pattern = \"###Assistant:\\n\"\n",
    "    matches = [match for match in re.finditer(pattern, text)]\n",
    "    \n",
    "    if matches is None:\n",
    "        return \"\"\n",
    "    \n",
    "    try:\n",
    "        return text[matches[0].end():].strip()\n",
    "    except Exception:\n",
    "        return None"
   ]
  },
  {
   "cell_type": "code",
   "execution_count": 37,
   "metadata": {},
   "outputs": [
    {
     "name": "stdout",
     "output_type": "stream",
     "text": [
      "1. Sentiment: Positive\n",
      "    * Score: 0.8\n",
      "    * Reason: The article conveys a positive sentiment, focusing on the progress made by Ukraine in retaking villages and the morale-boosting statements from President Zelensky.\n",
      "2. Stance: Pro-Ukraine\n",
      "    * Score: 0.9\n",
      "    * Reason: The article takes a clear stance in favor of Ukraine, highlighting the courage and determination of its armed forces and their successful counter-offensive against Russian forces.\n"
     ]
    }
   ],
   "source": [
    "print(trim(df.generated_text.iloc[0]))"
   ]
  },
  {
   "cell_type": "code",
   "execution_count": 38,
   "metadata": {},
   "outputs": [],
   "source": [
    "df.generated_text = df.generated_text.map(trim)"
   ]
  },
  {
   "cell_type": "code",
   "execution_count": 39,
   "metadata": {},
   "outputs": [
    {
     "data": {
      "text/html": [
       "<div>\n",
       "<style scoped>\n",
       "    .dataframe tbody tr th:only-of-type {\n",
       "        vertical-align: middle;\n",
       "    }\n",
       "\n",
       "    .dataframe tbody tr th {\n",
       "        vertical-align: top;\n",
       "    }\n",
       "\n",
       "    .dataframe thead th {\n",
       "        text-align: right;\n",
       "    }\n",
       "</style>\n",
       "<table border=\"1\" class=\"dataframe\">\n",
       "  <thead>\n",
       "    <tr style=\"text-align: right;\">\n",
       "      <th></th>\n",
       "      <th>date_publish</th>\n",
       "      <th>maintext</th>\n",
       "      <th>title</th>\n",
       "      <th>source_type</th>\n",
       "      <th>source_name</th>\n",
       "      <th>country</th>\n",
       "      <th>text</th>\n",
       "      <th>generated_text</th>\n",
       "      <th>topic</th>\n",
       "      <th>sentiment_class</th>\n",
       "      <th>stance_class</th>\n",
       "      <th>sentiment_score</th>\n",
       "      <th>stance_score</th>\n",
       "      <th>sentiment_reason</th>\n",
       "      <th>stance_reason</th>\n",
       "    </tr>\n",
       "  </thead>\n",
       "  <tbody>\n",
       "    <tr>\n",
       "      <th>511</th>\n",
       "      <td>2019-08-27 18:18:31</td>\n",
       "      <td>Putin was speaking after talks in Moscow with ...</td>\n",
       "      <td>Russia, Turkey Agree Steps to Tackle Militants...</td>\n",
       "      <td>local</td>\n",
       "      <td>moscow_times</td>\n",
       "      <td>russia</td>\n",
       "      <td>As a neutral news analyst, assess the sentimen...</td>\n",
       "      <td>1. Sentiment: Positive\\n    * Score: 0.8\\n    ...</td>\n",
       "      <td>politics</td>\n",
       "      <td>positive</td>\n",
       "      <td>impartial</td>\n",
       "      <td>0.8</td>\n",
       "      <td>0.2</td>\n",
       "      <td>The article presents a positive sentiment, as ...</td>\n",
       "      <td>The article provides an unbiased report on the...</td>\n",
       "    </tr>\n",
       "    <tr>\n",
       "      <th>2884</th>\n",
       "      <td>2023-04-17 07:49:38</td>\n",
       "      <td>Russia's Gazprombank has expanded its links wi...</td>\n",
       "      <td>Russia's Gazprombank deepens ties with Indian ...</td>\n",
       "      <td>international</td>\n",
       "      <td>reuters</td>\n",
       "      <td>russia</td>\n",
       "      <td>As a neutral news analyst, assess the sentimen...</td>\n",
       "      <td>1. Sentiment: Positive\\n    * Score: 0.7\\n    ...</td>\n",
       "      <td>politics</td>\n",
       "      <td>positive</td>\n",
       "      <td>impartial</td>\n",
       "      <td>0.7</td>\n",
       "      <td>0.0</td>\n",
       "      <td>The article discusses the expansion of ties be...</td>\n",
       "      <td>The article presents both Russia and India in ...</td>\n",
       "    </tr>\n",
       "    <tr>\n",
       "      <th>185</th>\n",
       "      <td>2023-07-12 11:02:36</td>\n",
       "      <td>Elle Solomina is 36, but she says her life tru...</td>\n",
       "      <td>Trans advocates in Russia brace for proposed g...</td>\n",
       "      <td>international</td>\n",
       "      <td>reuters</td>\n",
       "      <td>russia</td>\n",
       "      <td>As a neutral news analyst, assess the sentimen...</td>\n",
       "      <td>1. Sentiment: Negative\\n    * Score: -0.8\\n   ...</td>\n",
       "      <td>politics</td>\n",
       "      <td>negative</td>\n",
       "      <td>against-russia</td>\n",
       "      <td>-0.8</td>\n",
       "      <td>-0.9</td>\n",
       "      <td>The article presents a negative sentiment, foc...</td>\n",
       "      <td>The article portrays the proposed legislation ...</td>\n",
       "    </tr>\n",
       "  </tbody>\n",
       "</table>\n",
       "</div>"
      ],
      "text/plain": [
       "             date_publish                                           maintext  \\\n",
       "511   2019-08-27 18:18:31  Putin was speaking after talks in Moscow with ...   \n",
       "2884  2023-04-17 07:49:38  Russia's Gazprombank has expanded its links wi...   \n",
       "185   2023-07-12 11:02:36  Elle Solomina is 36, but she says her life tru...   \n",
       "\n",
       "                                                  title    source_type  \\\n",
       "511   Russia, Turkey Agree Steps to Tackle Militants...          local   \n",
       "2884  Russia's Gazprombank deepens ties with Indian ...  international   \n",
       "185   Trans advocates in Russia brace for proposed g...  international   \n",
       "\n",
       "       source_name country                                               text  \\\n",
       "511   moscow_times  russia  As a neutral news analyst, assess the sentimen...   \n",
       "2884       reuters  russia  As a neutral news analyst, assess the sentimen...   \n",
       "185        reuters  russia  As a neutral news analyst, assess the sentimen...   \n",
       "\n",
       "                                         generated_text     topic  \\\n",
       "511   1. Sentiment: Positive\\n    * Score: 0.8\\n    ...  politics   \n",
       "2884  1. Sentiment: Positive\\n    * Score: 0.7\\n    ...  politics   \n",
       "185   1. Sentiment: Negative\\n    * Score: -0.8\\n   ...  politics   \n",
       "\n",
       "     sentiment_class    stance_class  sentiment_score  stance_score  \\\n",
       "511         positive       impartial              0.8           0.2   \n",
       "2884        positive       impartial              0.7           0.0   \n",
       "185         negative  against-russia             -0.8          -0.9   \n",
       "\n",
       "                                       sentiment_reason  \\\n",
       "511   The article presents a positive sentiment, as ...   \n",
       "2884  The article discusses the expansion of ties be...   \n",
       "185   The article presents a negative sentiment, foc...   \n",
       "\n",
       "                                          stance_reason  \n",
       "511   The article provides an unbiased report on the...  \n",
       "2884  The article presents both Russia and India in ...  \n",
       "185   The article portrays the proposed legislation ...  "
      ]
     },
     "execution_count": 39,
     "metadata": {},
     "output_type": "execute_result"
    }
   ],
   "source": [
    "from src.llama2.parse_csv import ParseCSV\n",
    "\n",
    "parser = ParseCSV()\n",
    "df = parser(df)\n",
    "df.sample(3)"
   ]
  },
  {
   "cell_type": "code",
   "execution_count": 40,
   "metadata": {},
   "outputs": [
    {
     "data": {
      "text/plain": [
       "Series([], Name: source_type, dtype: int64)"
      ]
     },
     "execution_count": 40,
     "metadata": {},
     "output_type": "execute_result"
    }
   ],
   "source": [
    "df[(df.country == \"canada\") & (df.generated_text != \"\")].source_type.value_counts()"
   ]
  },
  {
   "cell_type": "code",
   "execution_count": 41,
   "metadata": {},
   "outputs": [
    {
     "data": {
      "text/plain": [
       "Index(['date_publish', 'maintext', 'title', 'source_type', 'source_name',\n",
       "       'country', 'topic', 'sentiment_class', 'stance_class',\n",
       "       'sentiment_score', 'stance_score', 'sentiment_reason', 'stance_reason'],\n",
       "      dtype='object')"
      ]
     },
     "execution_count": 41,
     "metadata": {},
     "output_type": "execute_result"
    }
   ],
   "source": [
    "df.drop(columns=[\"text\", \"generated_text\"], inplace=True)\n",
    "df.columns"
   ]
  },
  {
   "cell_type": "code",
   "execution_count": 42,
   "metadata": {},
   "outputs": [],
   "source": [
    "df.to_csv(r\"D:\\Studying\\UoR\\1. Data Mining\\Final_Project\\data\\parsed\\russia.csv\", index=False)"
   ]
  }
 ],
 "metadata": {
  "kernelspec": {
   "display_name": "venv",
   "language": "python",
   "name": "python3"
  },
  "language_info": {
   "codemirror_mode": {
    "name": "ipython",
    "version": 3
   },
   "file_extension": ".py",
   "mimetype": "text/x-python",
   "name": "python",
   "nbconvert_exporter": "python",
   "pygments_lexer": "ipython3",
   "version": "3.7.9"
  }
 },
 "nbformat": 4,
 "nbformat_minor": 2
}
