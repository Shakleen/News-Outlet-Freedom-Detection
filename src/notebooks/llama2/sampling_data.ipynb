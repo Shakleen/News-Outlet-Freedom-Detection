{
 "cells": [
  {
   "cell_type": "markdown",
   "metadata": {},
   "source": [
    "# Sampling Data"
   ]
  },
  {
   "cell_type": "code",
   "execution_count": 1,
   "metadata": {},
   "outputs": [],
   "source": [
    "import os\n",
    "import pandas as pd"
   ]
  },
  {
   "cell_type": "code",
   "execution_count": 2,
   "metadata": {},
   "outputs": [],
   "source": [
    "ROOT_DATA_PATH = r\"D:\\Studying\\UoR\\1. Data Mining\\Final_Project\\data\"\n",
    "CLEANED_DATA_PATH = os.path.join(ROOT_DATA_PATH, \"cleaned\")\n",
    "SAVE_DATA_PATH = os.path.join(ROOT_DATA_PATH, \"llama2_finetune_data\")"
   ]
  },
  {
   "cell_type": "markdown",
   "metadata": {},
   "source": [
    "### Original Prompt"
   ]
  },
  {
   "cell_type": "code",
   "execution_count": 3,
   "metadata": {},
   "outputs": [],
   "source": [
    "# def format(row):\n",
    "#     text_format = \"\"\"As a neutral news analyst, you evaluate articles based on sentiment and stance, each scored from 0.0 (negative/against) to 1.0 (positive/in favor), with 0.5 as neutral/impartial.\n",
    "\n",
    "# Given the article snippet below\n",
    "# Title: \"{title}\"\n",
    "# Content: \"{content}{dot}\"\n",
    "\n",
    "# Provide:\n",
    "# 1. Sentiment \n",
    "#     * Score: <SENTIMENT_SCORE>\n",
    "#     * Reason: <SENTIMENT_REASON>\n",
    "# 2. Stance\n",
    "#     * Score: <STANCE_SCORE>\n",
    "#     * Reason: <STANCE_REASON>\n",
    "\n",
    "# Replace <SENTIMENT_SCORE>/<STANCE_SCORE> with your scores, and <SENTIMENT_REASON>/<STANCE_REASON> with one sentence for your reasoning.\"\"\"\n",
    "#     title = row[1]\n",
    "#     content = row[0][:1024]\n",
    "#     dot = '...' if len(row[0]) > len(content) else ''\n",
    "#     return text_format.format(title=title, content=content, dot=dot)"
   ]
  },
  {
   "cell_type": "markdown",
   "metadata": {},
   "source": [
    "### [Prompt Perfect](https://promptperfect.jina.ai/prompts)"
   ]
  },
  {
   "cell_type": "code",
   "execution_count": 12,
   "metadata": {},
   "outputs": [],
   "source": [
    "def format(row, country):\n",
    "    title = row[1]\n",
    "    content = row[0][:1024]\n",
    "    dot = '...' if len(row[0]) > len(content) else ''\n",
    "    return f\"\"\"As a neutral news analyst, assess the sentiment and stance of the news article excerpt and assign a score between -1.0 (completely negative/against-{country}) and 1.0 (completely positive/pro-{country}) for both sentiment and stance. Provide a single short sentence to justify your scores, drawing on the article's language, tone, and presentation to support your analysis.\n",
    "\n",
    "Article Excerpt:\n",
    "- Title: \"{title}\"\n",
    "- Content: \"{content}{dot}\"\n",
    "\n",
    "Output format: \n",
    "1. Sentiment: [Positive/Neutral/Negative]\n",
    "    * Score: [Your Score]\n",
    "    * Reason: [Your Reason] \n",
    "2. Stance: [Pro-{country}/Impartial/Against-{country}]\n",
    "    * Score: [Your Score]\n",
    "    * Reason: [Your Reason]\"\"\""
   ]
  },
  {
   "cell_type": "markdown",
   "metadata": {},
   "source": [
    "### Example Count Calculations\n",
    "\n",
    "* Local Source: 50\n",
    "* International Source: 50\n",
    "    * Associated Press: 10\n",
    "    * Reuters: 40\n",
    "\n",
    "Total: 100 * 3 = 300"
   ]
  },
  {
   "cell_type": "code",
   "execution_count": 14,
   "metadata": {},
   "outputs": [],
   "source": [
    "# def get_count(file_name):\n",
    "#     if file_name.split(\"_\")[0] == \"ap\":\n",
    "#         count = 10\n",
    "#     elif file_name.split(\"_\")[0] == \"reuters\":\n",
    "#         count = 40\n",
    "#     else:\n",
    "#         count = 50\n",
    "#     return count\n",
    "\n",
    "# def get_country(file_name):\n",
    "#     if file_name.find(\"canada\") != -1:\n",
    "#         country = \"canada\"\n",
    "#     elif file_name.find(\"china\") != -1:\n",
    "#         country = \"china\"\n",
    "#     elif file_name.find(\"russia\") != -1:\n",
    "#         country = \"russia\"\n",
    "#     elif file_name.find(\"cbc\") != -1:\n",
    "#         country = \"canada\"\n",
    "#     elif file_name.find(\"global\") != -1:\n",
    "#         country = \"canada\"\n",
    "#     elif file_name.find(\"moscow\") != -1:\n",
    "#         country = \"russia\"\n",
    "#     return country\n",
    "\n",
    "# def create_sample_df(file_name, df):\n",
    "#     count = get_count(file_name)\n",
    "#     country = get_country(file_name)\n",
    "    \n",
    "#     sample = df.sample(count, random_state=29)\n",
    "#     sample[\"text\"] = [format(row, country) for row in sample.values]\n",
    "#     sample[\"answer\"] = [\"\"] * count\n",
    "#     return sample\n",
    "\n",
    "# for file_name in os.listdir(CLEANED_DATA_PATH):\n",
    "#     input_file_path = os.path.join(CLEANED_DATA_PATH, file_name)\n",
    "#     df = pd.read_csv(input_file_path, usecols=[\"title\", \"maintext\"])\n",
    "\n",
    "#     sample = create_sample_df(file_name, df)\n",
    "    \n",
    "#     output_file_path = os.path.join(SAVE_DATA_PATH, \n",
    "#                                     file_name.split(\".\")[0] + \".txt\")\n",
    "#     output_file_path = os.path.join(SAVE_DATA_PATH, file_name)\n",
    "#     sample.to_csv(output_file_path, columns=[\"text\", \"answer\"], index=None)"
   ]
  },
  {
   "cell_type": "markdown",
   "metadata": {},
   "source": [
    "# Combining "
   ]
  },
  {
   "cell_type": "code",
   "execution_count": 3,
   "metadata": {},
   "outputs": [],
   "source": [
    "OUTPUT_FILE_PATH = os.path.join(SAVE_DATA_PATH, \"fine-tune-data.csv\")"
   ]
  },
  {
   "cell_type": "code",
   "execution_count": 13,
   "metadata": {},
   "outputs": [],
   "source": [
    "for file_name in os.listdir(SAVE_DATA_PATH):\n",
    "    try:\n",
    "        input_file_path = os.path.join(SAVE_DATA_PATH, file_name)\n",
    "        df = pd.read_csv(input_file_path)\n",
    "        df.to_csv(OUTPUT_FILE_PATH, index=None, mode=\"a\")\n",
    "    except:\n",
    "        print(input_file_path)\n",
    "        raise"
   ]
  },
  {
   "cell_type": "code",
   "execution_count": null,
   "metadata": {},
   "outputs": [],
   "source": []
  }
 ],
 "metadata": {
  "kernelspec": {
   "display_name": "venv",
   "language": "python",
   "name": "python3"
  },
  "language_info": {
   "codemirror_mode": {
    "name": "ipython",
    "version": 3
   },
   "file_extension": ".py",
   "mimetype": "text/x-python",
   "name": "python",
   "nbconvert_exporter": "python",
   "pygments_lexer": "ipython3",
   "version": "3.7.9"
  }
 },
 "nbformat": 4,
 "nbformat_minor": 2
}
