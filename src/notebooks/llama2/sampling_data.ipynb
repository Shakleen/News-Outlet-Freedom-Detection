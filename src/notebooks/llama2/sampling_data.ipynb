{
 "cells": [
  {
   "cell_type": "markdown",
   "metadata": {},
   "source": [
    "# Sampling Data"
   ]
  },
  {
   "cell_type": "code",
   "execution_count": 1,
   "metadata": {},
   "outputs": [],
   "source": [
    "import os\n",
    "import pandas as pd"
   ]
  },
  {
   "cell_type": "code",
   "execution_count": 2,
   "metadata": {},
   "outputs": [],
   "source": [
    "ROOT_DATA_PATH = r\"D:\\Studying\\UoR\\1. Data Mining\\Final_Project\\data\"\n",
    "CLEANED_DATA_PATH = os.path.join(ROOT_DATA_PATH, \"cleaned\")\n",
    "SAVE_DATA_PATH = os.path.join(ROOT_DATA_PATH, \"llama2_finetune_data\")"
   ]
  },
  {
   "cell_type": "markdown",
   "metadata": {},
   "source": [
    "### Original Prompt"
   ]
  },
  {
   "cell_type": "code",
   "execution_count": 3,
   "metadata": {},
   "outputs": [],
   "source": [
    "# def format(row):\n",
    "#     text_format = \"\"\"As a neutral news analyst, you evaluate articles based on sentiment and stance, each scored from 0.0 (negative/against) to 1.0 (positive/in favor), with 0.5 as neutral/impartial.\n",
    "\n",
    "# Given the article snippet below\n",
    "# Title: \"{title}\"\n",
    "# Content: \"{content}{dot}\"\n",
    "\n",
    "# Provide:\n",
    "# 1. Sentiment \n",
    "#     * Score: <SENTIMENT_SCORE>\n",
    "#     * Reason: <SENTIMENT_REASON>\n",
    "# 2. Stance\n",
    "#     * Score: <STANCE_SCORE>\n",
    "#     * Reason: <STANCE_REASON>\n",
    "\n",
    "# Replace <SENTIMENT_SCORE>/<STANCE_SCORE> with your scores, and <SENTIMENT_REASON>/<STANCE_REASON> with one sentence for your reasoning.\"\"\"\n",
    "#     title = row[1]\n",
    "#     content = row[0][:1024]\n",
    "#     dot = '...' if len(row[0]) > len(content) else ''\n",
    "#     return text_format.format(title=title, content=content, dot=dot)"
   ]
  },
  {
   "cell_type": "markdown",
   "metadata": {},
   "source": [
    "### [Prompt Perfect](https://promptperfect.jina.ai/prompts)"
   ]
  },
  {
   "cell_type": "code",
   "execution_count": 5,
   "metadata": {},
   "outputs": [],
   "source": [
    "def format(row, country):\n",
    "    title = row[1]\n",
    "    content = row[0][:1024]\n",
    "    dot = '...' if len(row[0]) > len(content) else ''\n",
    "    return f\"\"\"As a neutral news analyst, assess the sentiment and stance of the news article excerpt and assign a score between -1.0 (completely negative/against-{country}) and 1.0 (completely positive/pro-{country}) for both sentiment and stance. Provide a single short sentence to justify your scores, drawing on the article's language, tone, and presentation to support your analysis.\n",
    "\n",
    "Article Excerpt:\n",
    "- Title: \"{title}\"\n",
    "- Content: \"{content}{dot}\"\n",
    "\n",
    "Output format: \n",
    "1. Sentiment: [Positive/Neutral/Negative]\n",
    "    * Score: [Your Score]\n",
    "    * Reason: [Your Reason] \n",
    "2. Stance: [Pro-{country}/Impartial/Against-{country}]\n",
    "    * Score: [Your Score]\n",
    "    * Reason: [Your Reason]\"\"\""
   ]
  },
  {
   "cell_type": "markdown",
   "metadata": {},
   "source": [
    "### Example Count Calculations\n",
    "\n",
    "* Local Source: 50\n",
    "* International Source: 50\n",
    "    * Associated Press: 10\n",
    "    * Reuters: 40\n",
    "\n",
    "Total: 100 * 3 = 300"
   ]
  },
  {
   "cell_type": "code",
   "execution_count": 6,
   "metadata": {},
   "outputs": [],
   "source": [
    "def get_count(file_name):\n",
    "    if file_name.split(\"_\")[0] == \"ap\":\n",
    "        count = 10\n",
    "    elif file_name.split(\"_\")[0] == \"reuters\":\n",
    "        count = 40\n",
    "    else:\n",
    "        count = 50\n",
    "    return count\n",
    "\n",
    "def get_country(file_name):\n",
    "    if file_name.find(\"canada\") != -1:\n",
    "        country = \"canada\"\n",
    "    elif file_name.find(\"china\") != -1:\n",
    "        country = \"china\"\n",
    "    elif file_name.find(\"russia\") != -1:\n",
    "        country = \"russia\"\n",
    "    elif file_name.find(\"cbc\") != -1:\n",
    "        country = \"canada\"\n",
    "    elif file_name.find(\"global\") != -1:\n",
    "        country = \"canada\"\n",
    "    elif file_name.find(\"moscow\") != -1:\n",
    "        country = \"russia\"\n",
    "    return country\n",
    "\n",
    "def create_sample_df(file_name, df):\n",
    "    count = get_count(file_name)\n",
    "    country = get_country(file_name)\n",
    "    \n",
    "    sample = df.sample(count, random_state=29)\n",
    "    sample[\"text\"] = [format(row, country) for row in sample.values]\n",
    "    sample[\"answer\"] = [\"\"] * count\n",
    "    return sample\n",
    "\n",
    "# for file_name in os.listdir(CLEANED_DATA_PATH):\n",
    "#     input_file_path = os.path.join(CLEANED_DATA_PATH, file_name)\n",
    "#     df = pd.read_csv(input_file_path, usecols=[\"title\", \"maintext\"])\n",
    "\n",
    "#     sample = create_sample_df(file_name, df)\n",
    "    \n",
    "#     output_file_path = os.path.join(SAVE_DATA_PATH, \n",
    "#                                     file_name.split(\".\")[0] + \".txt\")\n",
    "#     output_file_path = os.path.join(SAVE_DATA_PATH, file_name)\n",
    "#     sample.to_csv(output_file_path, columns=[\"text\", \"answer\"], index=None)"
   ]
  },
  {
   "cell_type": "markdown",
   "metadata": {},
   "source": [
    "# Fine-tune Data"
   ]
  },
  {
   "cell_type": "code",
   "execution_count": 3,
   "metadata": {},
   "outputs": [],
   "source": [
    "OUTPUT_FILE_PATH = os.path.join(SAVE_DATA_PATH, \"fine-tune-data.csv\")"
   ]
  },
  {
   "cell_type": "code",
   "execution_count": 4,
   "metadata": {},
   "outputs": [],
   "source": [
    "def fine_tune_row(row):\n",
    "    return f\"###Human:\\n{row[0]}\\n\\n###Assistant:\\n{row[1]}\""
   ]
  },
  {
   "cell_type": "code",
   "execution_count": 5,
   "metadata": {},
   "outputs": [],
   "source": [
    "for file_name in os.listdir(SAVE_DATA_PATH):\n",
    "    try:\n",
    "        input_file_path = os.path.join(SAVE_DATA_PATH, file_name)\n",
    "        df = pd.read_csv(input_file_path)\n",
    "        df.rename(columns={\"text\": \"prompt\"}, inplace=True)\n",
    "        df[\"text\"] = [fine_tune_row(row) for row in df.values]\n",
    "        df.to_csv(OUTPUT_FILE_PATH, index=None, mode=\"a\", \n",
    "                  header=not os.path.exists(OUTPUT_FILE_PATH))\n",
    "    except:\n",
    "        print(input_file_path)\n",
    "        raise"
   ]
  },
  {
   "cell_type": "code",
   "execution_count": 6,
   "metadata": {},
   "outputs": [
    {
     "data": {
      "text/plain": [
       "(299, 3)"
      ]
     },
     "execution_count": 6,
     "metadata": {},
     "output_type": "execute_result"
    }
   ],
   "source": [
    "pd.read_csv(OUTPUT_FILE_PATH).shape"
   ]
  },
  {
   "cell_type": "markdown",
   "metadata": {},
   "source": [
    "# Inference Data"
   ]
  },
  {
   "cell_type": "code",
   "execution_count": 3,
   "metadata": {},
   "outputs": [],
   "source": [
    "INPUT_DIR = r\"D:\\Studying\\UoR\\1. Data Mining\\Final_Project\\data\\cleaned\\combined\"\n",
    "ROOT_OUTPUT_PATH = r\"D:\\Studying\\UoR\\1. Data Mining\\Final_Project\\data\\llama2_inference_data\"\n",
    "OUTPUT_FILE_PATH = os.path.join(ROOT_OUTPUT_PATH, \"inference-data.csv\")"
   ]
  },
  {
   "cell_type": "code",
   "execution_count": 7,
   "metadata": {},
   "outputs": [],
   "source": [
    "for file_name in os.listdir(INPUT_DIR):\n",
    "    try:\n",
    "        input_file_path = os.path.join(INPUT_DIR, file_name)\n",
    "        df = pd.read_csv(input_file_path)\n",
    "        \n",
    "        country = get_country(file_name)\n",
    "        df[\"country\"] = [country] * df.shape[0]\n",
    "        df[\"text\"] = [format(row, country) for row in df.loc[:, [\"maintext\", \"title\"]].values]\n",
    "        \n",
    "        df.to_csv(OUTPUT_FILE_PATH, mode=\"a\", index=None,\n",
    "                  header=not os.path.exists(OUTPUT_FILE_PATH))\n",
    "    except:\n",
    "        print(input_file_path)\n",
    "        raise"
   ]
  },
  {
   "cell_type": "code",
   "execution_count": 11,
   "metadata": {},
   "outputs": [],
   "source": [
    "df = pd.read_csv(OUTPUT_FILE_PATH)"
   ]
  },
  {
   "cell_type": "code",
   "execution_count": 12,
   "metadata": {},
   "outputs": [
    {
     "data": {
      "text/plain": [
       "(38622, 7)"
      ]
     },
     "execution_count": 12,
     "metadata": {},
     "output_type": "execute_result"
    }
   ],
   "source": [
    "df.shape"
   ]
  },
  {
   "cell_type": "code",
   "execution_count": 14,
   "metadata": {},
   "outputs": [
    {
     "data": {
      "text/plain": [
       "russia    16072\n",
       "canada    12566\n",
       "china      9984\n",
       "Name: country, dtype: int64"
      ]
     },
     "execution_count": 14,
     "metadata": {},
     "output_type": "execute_result"
    }
   ],
   "source": [
    "df.country.value_counts()"
   ]
  },
  {
   "cell_type": "code",
   "execution_count": 15,
   "metadata": {},
   "outputs": [
    {
     "data": {
      "text/plain": [
       "local            28977\n",
       "international     9645\n",
       "Name: source_type, dtype: int64"
      ]
     },
     "execution_count": 15,
     "metadata": {},
     "output_type": "execute_result"
    }
   ],
   "source": [
    "df.source_type.value_counts()"
   ]
  },
  {
   "cell_type": "code",
   "execution_count": 17,
   "metadata": {},
   "outputs": [
    {
     "data": {
      "text/html": [
       "<div>\n",
       "<style scoped>\n",
       "    .dataframe tbody tr th:only-of-type {\n",
       "        vertical-align: middle;\n",
       "    }\n",
       "\n",
       "    .dataframe tbody tr th {\n",
       "        vertical-align: top;\n",
       "    }\n",
       "\n",
       "    .dataframe thead th {\n",
       "        text-align: right;\n",
       "    }\n",
       "</style>\n",
       "<table border=\"1\" class=\"dataframe\">\n",
       "  <thead>\n",
       "    <tr style=\"text-align: right;\">\n",
       "      <th></th>\n",
       "      <th>date_publish</th>\n",
       "      <th>maintext</th>\n",
       "      <th>title</th>\n",
       "      <th>source_type</th>\n",
       "      <th>source_name</th>\n",
       "      <th>country</th>\n",
       "      <th>text</th>\n",
       "    </tr>\n",
       "  </thead>\n",
       "  <tbody>\n",
       "    <tr>\n",
       "      <th>10521</th>\n",
       "      <td>2023-09-29 07:36:46</td>\n",
       "      <td>TORONTO  Unifor has set Oct. 9 at 11:59 p.m. a...</td>\n",
       "      <td>Unifor sets Oct. 9 deadline for contract talks...</td>\n",
       "      <td>local</td>\n",
       "      <td>global-news</td>\n",
       "      <td>canada</td>\n",
       "      <td>As a neutral news analyst, assess the sentimen...</td>\n",
       "    </tr>\n",
       "    <tr>\n",
       "      <th>11585</th>\n",
       "      <td>2023-10-18 06:58:42</td>\n",
       "      <td>South Korea's Hanwha Ocean (042660.KS) has pit...</td>\n",
       "      <td>Hanwha Ocean eyes submarine exports to Canada,...</td>\n",
       "      <td>international</td>\n",
       "      <td>reuters</td>\n",
       "      <td>canada</td>\n",
       "      <td>As a neutral news analyst, assess the sentimen...</td>\n",
       "    </tr>\n",
       "    <tr>\n",
       "      <th>13336</th>\n",
       "      <td>2021-10-23 00:00:00</td>\n",
       "      <td>Chinese Vice Premier Sun Chunlan, also a membe...</td>\n",
       "      <td>Conference held in China to boost campus safety</td>\n",
       "      <td>local</td>\n",
       "      <td>china_daily</td>\n",
       "      <td>china</td>\n",
       "      <td>As a neutral news analyst, assess the sentimen...</td>\n",
       "    </tr>\n",
       "  </tbody>\n",
       "</table>\n",
       "</div>"
      ],
      "text/plain": [
       "              date_publish                                           maintext  \\\n",
       "10521  2023-09-29 07:36:46  TORONTO  Unifor has set Oct. 9 at 11:59 p.m. a...   \n",
       "11585  2023-10-18 06:58:42  South Korea's Hanwha Ocean (042660.KS) has pit...   \n",
       "13336  2021-10-23 00:00:00  Chinese Vice Premier Sun Chunlan, also a membe...   \n",
       "\n",
       "                                                   title    source_type  \\\n",
       "10521  Unifor sets Oct. 9 deadline for contract talks...          local   \n",
       "11585  Hanwha Ocean eyes submarine exports to Canada,...  international   \n",
       "13336    Conference held in China to boost campus safety          local   \n",
       "\n",
       "       source_name country                                               text  \n",
       "10521  global-news  canada  As a neutral news analyst, assess the sentimen...  \n",
       "11585      reuters  canada  As a neutral news analyst, assess the sentimen...  \n",
       "13336  china_daily   china  As a neutral news analyst, assess the sentimen...  "
      ]
     },
     "execution_count": 17,
     "metadata": {},
     "output_type": "execute_result"
    }
   ],
   "source": [
    "df.sample(3)"
   ]
  }
 ],
 "metadata": {
  "kernelspec": {
   "display_name": "venv",
   "language": "python",
   "name": "python3"
  },
  "language_info": {
   "codemirror_mode": {
    "name": "ipython",
    "version": 3
   },
   "file_extension": ".py",
   "mimetype": "text/x-python",
   "name": "python",
   "nbconvert_exporter": "python",
   "pygments_lexer": "ipython3",
   "version": "3.7.9"
  }
 },
 "nbformat": 4,
 "nbformat_minor": 2
}
