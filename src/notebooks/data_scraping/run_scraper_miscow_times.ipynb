{
 "cells": [
  {
   "cell_type": "code",
   "execution_count": 1,
   "metadata": {},
   "outputs": [],
   "source": [
    "import os\n",
    "os.chdir(r\"../../../\")"
   ]
  },
  {
   "cell_type": "markdown",
   "metadata": {},
   "source": [
    "# Moscow Times Scraper"
   ]
  },
  {
   "cell_type": "code",
   "execution_count": 2,
   "metadata": {},
   "outputs": [],
   "source": [
    "from src.scrapers.moscow_scraper import MoscowTimesScraper"
   ]
  },
  {
   "cell_type": "code",
   "execution_count": null,
   "metadata": {
    "scrolled": true
   },
   "outputs": [
    {
     "name": "stdout",
     "output_type": "stream",
     "text": [
      "[00h 00m 12s] Total saved so far: 5346\n",
      "[00h 00m 19s] Total saved so far: 5346\n",
      "[00h 00m 24s] Total saved so far: 5346\n",
      "[00h 00m 28s] Total saved so far: 5346\n",
      "[00h 00m 32s] Total saved so far: 5346\n",
      "[00h 00m 38s] Total saved so far: 5346\n",
      "[00h 00m 44s] Total saved so far: 5346\n",
      "[00h 00m 48s] Total saved so far: 5346\n",
      "[00h 00m 52s] Total saved so far: 5346\n",
      "[00h 00m 58s] Total saved so far: 5346\n",
      "[00h 01m 02s] Total saved so far: 5346\n",
      "[00h 01m 06s] Total saved so far: 5346\n",
      "[00h 01m 12s] Total saved so far: 5346\n",
      "[00h 01m 17s] Total saved so far: 5346\n",
      "[00h 01m 23s] Total saved so far: 5346\n",
      "[00h 01m 28s] Total saved so far: 5346\n",
      "[00h 01m 33s] Total saved so far: 5346\n",
      "[00h 01m 37s] Total saved so far: 5346\n",
      "[00h 01m 43s] Total saved so far: 5346\n",
      "[00h 01m 47s] Total saved so far: 5346\n",
      "[00h 01m 51s] Total saved so far: 5346\n",
      "[00h 01m 57s] Total saved so far: 5346\n",
      "[00h 02m 02s] Total saved so far: 5346\n",
      "[00h 02m 06s] Total saved so far: 5346\n",
      "[00h 02m 12s] Total saved so far: 5346\n",
      "[00h 02m 18s] Total saved so far: 5346\n",
      "[00h 02m 24s] Total saved so far: 5346\n",
      "[00h 02m 29s] Total saved so far: 5346\n",
      "[00h 02m 33s] Total saved so far: 5346\n",
      "[00h 02m 39s] Total saved so far: 5346\n",
      "[00h 02m 44s] Total saved so far: 5346\n",
      "[00h 02m 50s] Total saved so far: 5346\n",
      "[00h 02m 55s] Total saved so far: 5346\n",
      "[00h 02m 59s] Total saved so far: 5346\n",
      "[00h 03m 03s] Total saved so far: 5346\n",
      "[00h 03m 09s] Total saved so far: 5346\n",
      "[00h 03m 15s] Total saved so far: 5346\n",
      "[00h 03m 19s] Total saved so far: 5346\n",
      "[00h 03m 23s] Total saved so far: 5346\n",
      "[00h 03m 28s] Total saved so far: 5346\n",
      "[00h 03m 33s] Total saved so far: 5346\n",
      "[00h 03m 37s] Total saved so far: 5346\n",
      "[00h 03m 42s] Total saved so far: 5346\n",
      "[00h 03m 48s] Total saved so far: 5346\n",
      "[00h 03m 54s] Total saved so far: 5346\n",
      "[00h 03m 58s] Total saved so far: 5346\n",
      "[00h 04m 04s] Total saved so far: 5346\n",
      "[00h 04m 09s] Total saved so far: 5346\n",
      "[00h 04m 14s] Total saved so far: 5346\n",
      "[00h 04m 19s] Total saved so far: 5346\n",
      "[00h 04m 24s] Total saved so far: 5346\n",
      "[00h 04m 30s] Total saved so far: 5346\n",
      "[00h 04m 35s] Total saved so far: 5346\n",
      "[00h 04m 41s] Total saved so far: 5346\n",
      "[00h 04m 45s] Total saved so far: 5346\n",
      "[00h 04m 51s] Total saved so far: 5346\n",
      "[00h 04m 56s] Total saved so far: 5346\n",
      "[00h 05m 02s] Total saved so far: 5346\n",
      "[00h 05m 08s] Total saved so far: 5346\n",
      "[00h 05m 12s] Total saved so far: 5346\n",
      "[00h 05m 19s] Total saved so far: 5346\n",
      "[00h 05m 23s] Total saved so far: 5346\n",
      "[00h 05m 27s] Total saved so far: 5346\n",
      "[00h 05m 31s] Total saved so far: 5346\n",
      "[00h 05m 37s] Total saved so far: 5346\n",
      "[00h 05m 43s] Total saved so far: 5346\n",
      "[00h 05m 47s] Total saved so far: 5346\n",
      "[00h 05m 51s] Total saved so far: 5346\n",
      "[00h 05m 55s] Total saved so far: 5346\n",
      "[00h 05m 59s] Total saved so far: 5346\n",
      "[00h 06m 05s] Total saved so far: 5346\n",
      "[00h 06m 10s] Total saved so far: 5346\n",
      "[00h 06m 16s] Total saved so far: 5346\n",
      "[00h 06m 20s] Total saved so far: 5346\n",
      "[00h 06m 25s] Total saved so far: 5346\n",
      "[00h 06m 31s] Total saved so far: 5346\n",
      "[00h 06m 37s] Total saved so far: 5346\n",
      "[00h 06m 41s] Total saved so far: 5346\n",
      "[00h 06m 46s] Total saved so far: 5346\n",
      "[00h 06m 52s] Total saved so far: 5346\n",
      "[00h 06m 56s] Total saved so far: 5346\n",
      "[00h 07m 00s] Total saved so far: 5346\n",
      "[00h 07m 05s] Total saved so far: 5346\n",
      "[00h 07m 11s] Total saved so far: 5346\n",
      "[00h 07m 17s] Total saved so far: 5346\n",
      "[00h 07m 21s] Total saved so far: 5346\n",
      "[00h 07m 25s] Total saved so far: 5346\n",
      "[00h 07m 29s] Total saved so far: 5346\n",
      "[00h 07m 35s] Total saved so far: 5346\n",
      "[00h 07m 41s] Total saved so far: 5346\n",
      "[00h 07m 45s] Total saved so far: 5346\n",
      "[00h 07m 49s] Total saved so far: 5346\n",
      "[00h 07m 54s] Total saved so far: 5346\n",
      "[00h 07m 59s] Total saved so far: 5346\n",
      "[00h 08m 04s] Total saved so far: 5346\n",
      "[00h 08m 09s] Total saved so far: 5346\n",
      "[00h 08m 15s] Total saved so far: 5346\n",
      "[00h 08m 21s] Total saved so far: 5346\n",
      "[00h 08m 25s] Total saved so far: 5346\n",
      "[00h 08m 30s] Total saved so far: 5346\n",
      "[00h 08m 35s] Total saved so far: 5346\n",
      "[00h 08m 40s] Total saved so far: 5346\n",
      "[00h 08m 45s] Total saved so far: 5346\n",
      "[00h 08m 49s] Total saved so far: 5346\n",
      "[00h 08m 55s] Total saved so far: 5346\n",
      "[00h 08m 59s] Total saved so far: 5346\n",
      "[00h 09m 05s] Total saved so far: 5346\n",
      "[00h 09m 09s] Total saved so far: 5346\n",
      "[00h 09m 13s] Total saved so far: 5346\n",
      "[00h 09m 18s] Total saved so far: 5346\n",
      "[00h 09m 23s] Total saved so far: 5346\n",
      "[00h 09m 29s] Total saved so far: 5346\n",
      "[00h 09m 34s] Total saved so far: 5346\n",
      "[00h 09m 39s] Total saved so far: 5346\n",
      "[00h 09m 45s] Total saved so far: 5346\n",
      "[00h 09m 50s] Total saved so far: 5346\n",
      "[00h 09m 54s] Total saved so far: 5346\n",
      "[00h 09m 58s] Total saved so far: 5346\n",
      "[00h 10m 02s] Total saved so far: 5346\n",
      "[00h 10m 07s] Total saved so far: 5346\n",
      "[00h 10m 12s] Total saved so far: 5346\n",
      "[00h 10m 17s] Total saved so far: 5346\n",
      "[00h 10m 21s] Total saved so far: 5346\n",
      "[00h 10m 25s] Total saved so far: 5346\n",
      "[00h 10m 29s] Total saved so far: 5346\n",
      "[00h 10m 35s] Total saved so far: 5346\n",
      "[00h 10m 40s] Total saved so far: 5346\n",
      "[00h 10m 46s] Total saved so far: 5346\n",
      "[00h 10m 53s] Total saved so far: 5346\n",
      "[00h 10m 57s] Total saved so far: 5346\n",
      "[00h 11m 03s] Total saved so far: 5346\n",
      "[00h 11m 09s] Total saved so far: 5346\n",
      "[00h 11m 14s] Total saved so far: 5346\n",
      "[00h 11m 20s] Total saved so far: 5346\n",
      "[00h 11m 26s] Total saved so far: 5346\n",
      "[00h 11m 33s] Total saved so far: 5346\n",
      "[00h 11m 39s] Total saved so far: 5346\n",
      "[00h 11m 45s] Total saved so far: 5346\n",
      "[00h 11m 49s] Total saved so far: 5346\n",
      "[00h 11m 55s] Total saved so far: 5346\n",
      "[00h 12m 00s] Total saved so far: 5346\n",
      "[00h 12m 06s] Total saved so far: 5346\n",
      "[00h 12m 12s] Total saved so far: 5346\n",
      "[00h 12m 17s] Total saved so far: 5346\n",
      "[00h 12m 24s] Total saved so far: 5346\n",
      "[00h 12m 28s] Total saved so far: 5346\n",
      "[00h 12m 33s] Total saved so far: 5346\n",
      "[00h 12m 38s] Total saved so far: 5346\n",
      "[00h 12m 44s] Total saved so far: 5346\n",
      "[00h 12m 48s] Total saved so far: 5346\n",
      "[00h 12m 52s] Total saved so far: 5346\n",
      "[00h 12m 58s] Total saved so far: 5346\n",
      "[00h 13m 02s] Total saved so far: 5346\n",
      "[00h 13m 08s] Total saved so far: 5346\n",
      "[00h 13m 14s] Total saved so far: 5346\n",
      "[00h 13m 18s] Total saved so far: 5346\n",
      "[00h 13m 22s] Total saved so far: 5346\n",
      "[00h 13m 27s] Total saved so far: 5346\n",
      "[00h 13m 31s] Total saved so far: 5346\n",
      "[00h 13m 36s] Total saved so far: 5346\n",
      "[00h 13m 42s] Total saved so far: 5346\n",
      "[00h 13m 49s] Total saved so far: 5346\n",
      "[00h 13m 54s] Total saved so far: 5346\n",
      "[00h 13m 59s] Total saved so far: 5346\n",
      "[00h 14m 05s] Total saved so far: 5346\n",
      "[00h 14m 11s] Total saved so far: 5346\n",
      "[00h 14m 16s] Total saved so far: 5346\n",
      "[00h 14m 20s] Total saved so far: 5346\n",
      "[00h 14m 24s] Total saved so far: 5346\n",
      "[00h 14m 28s] Total saved so far: 5346\n",
      "[00h 14m 32s] Total saved so far: 5346\n",
      "[00h 14m 36s] Total saved so far: 5346\n",
      "[00h 14m 40s] Total saved so far: 5346\n",
      "[00h 14m 45s] Total saved so far: 5346\n",
      "[00h 14m 50s] Total saved so far: 5346\n",
      "[00h 14m 56s] Total saved so far: 5346\n",
      "[00h 15m 02s] Total saved so far: 5346\n",
      "[00h 15m 07s] Total saved so far: 5346\n",
      "[00h 15m 12s] Total saved so far: 5346\n",
      "[00h 15m 16s] Total saved so far: 5346\n",
      "[00h 15m 21s] Total saved so far: 5346\n",
      "[00h 15m 26s] Total saved so far: 5346\n",
      "[00h 15m 30s] Total saved so far: 5346\n",
      "[00h 15m 36s] Total saved so far: 5346\n",
      "[00h 15m 40s] Total saved so far: 5346\n",
      "[00h 15m 46s] Total saved so far: 5346\n",
      "[00h 15m 51s] Total saved so far: 5346\n",
      "[00h 15m 57s] Total saved so far: 5346\n",
      "[00h 16m 01s] Total saved so far: 5346\n",
      "[00h 16m 05s] Total saved so far: 5346\n",
      "[00h 16m 11s] Total saved so far: 5346\n",
      "[00h 16m 16s] Total saved so far: 5346\n",
      "[00h 16m 20s] Total saved so far: 5346\n",
      "[00h 16m 26s] Total saved so far: 5346\n",
      "[00h 16m 31s] Total saved so far: 5346\n",
      "[00h 16m 36s] Total saved so far: 5346\n",
      "[00h 16m 41s] Total saved so far: 5346\n",
      "[00h 16m 45s] Total saved so far: 5346\n",
      "[00h 16m 51s] Total saved so far: 5346\n",
      "[00h 16m 55s] Total saved so far: 5346\n",
      "[00h 16m 59s] Total saved so far: 5346\n",
      "[00h 17m 03s] Total saved so far: 5346\n",
      "[00h 17m 08s] Total saved so far: 5346\n",
      "[00h 17m 14s] Total saved so far: 5346\n",
      "[00h 17m 19s] Total saved so far: 5346\n",
      "[00h 17m 25s] Total saved so far: 5346\n",
      "[00h 17m 30s] Total saved so far: 5346\n",
      "[00h 17m 36s] Total saved so far: 5346\n",
      "[00h 17m 41s] Total saved so far: 5346\n",
      "[00h 17m 47s] Total saved so far: 5346\n",
      "[00h 17m 51s] Total saved so far: 5346\n"
     ]
    },
    {
     "name": "stdout",
     "output_type": "stream",
     "text": [
      "[00h 17m 58s] Total saved so far: 5346\n",
      "[00h 18m 02s] Total saved so far: 5346\n",
      "[00h 18m 06s] Total saved so far: 5346\n",
      "[00h 18m 11s] Total saved so far: 5346\n",
      "[00h 18m 15s] Total saved so far: 5346\n",
      "[00h 18m 19s] Total saved so far: 5346\n",
      "[00h 18m 24s] Total saved so far: 5346\n",
      "[00h 18m 28s] Total saved so far: 5346\n",
      "[00h 18m 32s] Total saved so far: 5346\n",
      "[00h 18m 36s] Total saved so far: 5346\n",
      "[00h 18m 40s] Total saved so far: 5346\n",
      "[00h 18m 45s] Total saved so far: 5346\n",
      "[00h 18m 50s] Total saved so far: 5346\n",
      "[00h 18m 54s] Total saved so far: 5346\n",
      "[00h 18m 59s] Total saved so far: 5346\n",
      "[00h 19m 05s] Total saved so far: 5346\n",
      "[00h 19m 10s] Total saved so far: 5346\n",
      "[00h 19m 16s] Total saved so far: 5346\n",
      "[00h 19m 22s] Total saved so far: 5346\n",
      "[00h 19m 27s] Total saved so far: 5346\n",
      "[00h 19m 32s] Total saved so far: 5346\n",
      "[00h 19m 37s] Total saved so far: 5346\n",
      "[00h 19m 41s] Total saved so far: 5346\n",
      "[00h 19m 47s] Total saved so far: 5346\n",
      "[00h 19m 53s] Total saved so far: 5346\n",
      "[00h 19m 59s] Total saved so far: 5346\n",
      "[00h 20m 05s] Total saved so far: 5346\n",
      "[00h 20m 10s] Total saved so far: 5346\n",
      "[00h 20m 15s] Total saved so far: 5346\n",
      "[00h 20m 20s] Total saved so far: 5346\n",
      "[00h 20m 24s] Total saved so far: 5346\n",
      "[00h 20m 29s] Total saved so far: 5346\n",
      "[00h 20m 35s] Total saved so far: 5346\n",
      "[00h 20m 41s] Total saved so far: 5346\n",
      "[00h 20m 46s] Total saved so far: 5346\n",
      "[00h 20m 50s] Total saved so far: 5346\n",
      "[00h 20m 54s] Total saved so far: 5346\n",
      "[00h 20m 58s] Total saved so far: 5346\n",
      "[00h 21m 04s] Total saved so far: 5346\n",
      "[00h 21m 10s] Total saved so far: 5346\n",
      "[00h 21m 15s] Total saved so far: 5346\n",
      "[00h 21m 20s] Total saved so far: 5346\n",
      "[00h 21m 24s] Total saved so far: 5346\n",
      "[00h 21m 29s] Total saved so far: 5346\n",
      "[00h 21m 34s] Total saved so far: 5346\n",
      "[00h 21m 39s] Total saved so far: 5346\n",
      "[00h 21m 43s] Total saved so far: 5346\n",
      "[00h 21m 49s] Total saved so far: 5346\n",
      "[00h 21m 54s] Total saved so far: 5346\n",
      "[00h 21m 59s] Total saved so far: 5346\n",
      "[00h 22m 03s] Total saved so far: 5346\n",
      "[00h 22m 08s] Total saved so far: 5346\n",
      "[00h 22m 12s] Total saved so far: 5346\n",
      "[00h 22m 16s] Total saved so far: 5346\n",
      "[00h 22m 20s] Total saved so far: 5346\n",
      "[00h 22m 24s] Total saved so far: 5346\n",
      "[00h 22m 30s] Total saved so far: 5346\n",
      "[00h 22m 34s] Total saved so far: 5346\n",
      "[00h 22m 40s] Total saved so far: 5346\n",
      "[00h 22m 44s] Total saved so far: 5346\n",
      "[00h 22m 49s] Total saved so far: 5346\n",
      "[00h 22m 55s] Total saved so far: 5346\n",
      "[00h 23m 01s] Total saved so far: 5346\n",
      "[00h 23m 06s] Total saved so far: 5346\n",
      "[00h 23m 12s] Total saved so far: 5346\n",
      "[00h 23m 17s] Total saved so far: 5346\n",
      "[00h 23m 21s] Total saved so far: 5346\n",
      "[00h 23m 27s] Total saved so far: 5346\n",
      "[00h 23m 33s] Total saved so far: 5346\n",
      "[00h 23m 40s] Total saved so far: 5346\n",
      "[00h 23m 46s] Total saved so far: 5346\n",
      "[00h 23m 50s] Total saved so far: 5346\n",
      "[00h 23m 56s] Total saved so far: 5346\n",
      "[00h 24m 00s] Total saved so far: 5346\n",
      "[00h 24m 05s] Total saved so far: 5346\n",
      "[00h 24m 11s] Total saved so far: 5346\n",
      "[00h 24m 15s] Total saved so far: 5346\n",
      "[00h 24m 19s] Total saved so far: 5346\n",
      "[00h 24m 24s] Total saved so far: 5346\n",
      "[00h 24m 28s] Total saved so far: 5346\n",
      "[00h 24m 33s] Total saved so far: 5346\n",
      "[00h 24m 37s] Total saved so far: 5346\n",
      "[00h 24m 43s] Total saved so far: 5346\n",
      "[00h 24m 49s] Total saved so far: 5346\n",
      "[00h 24m 56s] Total saved so far: 5346\n",
      "[00h 25m 01s] Total saved so far: 5346\n",
      "[00h 25m 07s] Total saved so far: 5346\n",
      "[00h 25m 15s] Total saved so far: 5364\n",
      "[00h 25m 26s] Total saved so far: 5382\n",
      "[00h 25m 34s] Total saved so far: 5400\n",
      "[00h 25m 45s] Total saved so far: 5418\n",
      "[00h 25m 54s] Total saved so far: 5436\n",
      "[00h 26m 05s] Total saved so far: 5454\n",
      "[00h 26m 14s] Total saved so far: 5472\n",
      "[00h 26m 24s] Total saved so far: 5490\n",
      "[00h 26m 34s] Total saved so far: 5508\n",
      "[00h 26m 44s] Total saved so far: 5526\n",
      "[00h 26m 53s] Total saved so far: 5544\n",
      "[00h 27m 03s] Total saved so far: 5562\n",
      "[00h 27m 11s] Total saved so far: 5580\n",
      "[00h 27m 21s] Total saved so far: 5598\n",
      "[00h 27m 29s] Total saved so far: 5616\n",
      "[00h 27m 40s] Total saved so far: 5634\n",
      "[00h 27m 48s] Total saved so far: 5652\n",
      "[00h 27m 57s] Total saved so far: 5670\n",
      "[00h 28m 06s] Total saved so far: 5688\n",
      "[00h 28m 14s] Total saved so far: 5706\n",
      "[00h 28m 24s] Total saved so far: 5724\n",
      "[00h 28m 34s] Total saved so far: 5742\n",
      "[00h 28m 43s] Total saved so far: 5760\n",
      "[00h 28m 51s] Total saved so far: 5778\n",
      "[00h 29m 00s] Total saved so far: 5796\n",
      "[00h 29m 11s] Total saved so far: 5814\n",
      "[00h 29m 21s] Total saved so far: 5832\n",
      "[00h 29m 29s] Total saved so far: 5850\n",
      "[00h 29m 39s] Total saved so far: 5868\n",
      "[00h 29m 48s] Total saved so far: 5886\n",
      "[00h 29m 58s] Total saved so far: 5904\n",
      "[00h 30m 08s] Total saved so far: 5922\n",
      "[00h 30m 18s] Total saved so far: 5940\n",
      "[00h 30m 27s] Total saved so far: 5958\n",
      "[00h 30m 36s] Total saved so far: 5976\n",
      "[00h 30m 45s] Total saved so far: 5994\n",
      "[00h 30m 55s] Total saved so far: 6012\n",
      "[00h 31m 05s] Total saved so far: 6030\n",
      "[00h 31m 14s] Total saved so far: 6048\n",
      "[00h 31m 24s] Total saved so far: 6066\n",
      "[00h 31m 34s] Total saved so far: 6084\n",
      "[00h 31m 44s] Total saved so far: 6102\n",
      "[00h 31m 53s] Total saved so far: 6120\n",
      "[00h 32m 02s] Total saved so far: 6138\n",
      "[00h 32m 13s] Total saved so far: 6156\n",
      "[00h 32m 22s] Total saved so far: 6174\n",
      "[00h 32m 30s] Total saved so far: 6192\n",
      "[00h 32m 40s] Total saved so far: 6210\n",
      "[00h 32m 51s] Total saved so far: 6228\n",
      "[00h 32m 59s] Total saved so far: 6246\n",
      "[00h 33m 10s] Total saved so far: 6264\n",
      "[00h 33m 19s] Total saved so far: 6282\n",
      "[00h 33m 28s] Total saved so far: 6300\n",
      "[00h 33m 37s] Total saved so far: 6318\n",
      "[00h 33m 48s] Total saved so far: 6336\n",
      "[00h 33m 59s] Total saved so far: 6354\n",
      "[00h 34m 08s] Total saved so far: 6372\n",
      "[00h 34m 18s] Total saved so far: 6390\n",
      "[00h 34m 26s] Total saved so far: 6408\n",
      "[00h 34m 36s] Total saved so far: 6426\n",
      "[00h 34m 45s] Total saved so far: 6444\n",
      "[00h 34m 53s] Total saved so far: 6462\n",
      "[00h 35m 04s] Total saved so far: 6480\n",
      "[00h 35m 13s] Total saved so far: 6498\n",
      "[00h 35m 23s] Total saved so far: 6516\n",
      "[00h 35m 33s] Total saved so far: 6534\n",
      "[00h 35m 44s] Total saved so far: 6552\n",
      "[00h 35m 53s] Total saved so far: 6570\n",
      "[00h 36m 03s] Total saved so far: 6588\n",
      "[00h 36m 14s] Total saved so far: 6606\n",
      "[00h 36m 23s] Total saved so far: 6624\n",
      "[00h 36m 34s] Total saved so far: 6642\n",
      "[00h 36m 44s] Total saved so far: 6660\n",
      "[00h 36m 54s] Total saved so far: 6678\n",
      "[00h 37m 05s] Total saved so far: 6696\n",
      "[00h 37m 16s] Total saved so far: 6714\n",
      "[00h 37m 26s] Total saved so far: 6732\n",
      "[00h 37m 36s] Total saved so far: 6750\n",
      "[00h 37m 47s] Total saved so far: 6768\n",
      "[00h 37m 56s] Total saved so far: 6786\n",
      "[00h 38m 06s] Total saved so far: 6804\n",
      "[00h 38m 17s] Total saved so far: 6822\n",
      "[00h 38m 27s] Total saved so far: 6840\n",
      "[00h 38m 36s] Total saved so far: 6858\n",
      "[00h 38m 45s] Total saved so far: 6876\n",
      "[00h 38m 54s] Total saved so far: 6894\n",
      "[00h 39m 04s] Total saved so far: 6912\n",
      "[00h 39m 14s] Total saved so far: 6930\n",
      "[00h 39m 25s] Total saved so far: 6948\n",
      "[00h 39m 35s] Total saved so far: 6966\n",
      "[00h 39m 45s] Total saved so far: 6984\n",
      "[00h 39m 55s] Total saved so far: 7002\n",
      "[00h 40m 04s] Total saved so far: 7020\n",
      "[00h 40m 13s] Total saved so far: 7038\n",
      "[00h 40m 24s] Total saved so far: 7056\n",
      "[00h 40m 35s] Total saved so far: 7074\n",
      "[00h 40m 44s] Total saved so far: 7092\n",
      "[00h 40m 53s] Total saved so far: 7110\n",
      "[00h 41m 03s] Total saved so far: 7128\n",
      "[00h 41m 11s] Total saved so far: 7146\n",
      "[00h 41m 20s] Total saved so far: 7164\n",
      "[00h 41m 31s] Total saved so far: 7182\n",
      "[00h 41m 39s] Total saved so far: 7200\n",
      "[00h 41m 48s] Total saved so far: 7218\n",
      "[00h 41m 57s] Total saved so far: 7236\n",
      "[00h 42m 07s] Total saved so far: 7254\n",
      "[00h 42m 18s] Total saved so far: 7272\n",
      "[00h 42m 27s] Total saved so far: 7290\n",
      "[00h 42m 38s] Total saved so far: 7308\n",
      "[00h 42m 47s] Total saved so far: 7326\n",
      "[00h 42m 56s] Total saved so far: 7344\n",
      "[00h 43m 06s] Total saved so far: 7362\n",
      "[00h 43m 16s] Total saved so far: 7380\n",
      "[00h 43m 25s] Total saved so far: 7398\n",
      "[00h 43m 34s] Total saved so far: 7416\n",
      "[00h 43m 45s] Total saved so far: 7434\n",
      "[00h 43m 53s] Total saved so far: 7452\n",
      "[00h 44m 03s] Total saved so far: 7470\n",
      "[00h 44m 14s] Total saved so far: 7488\n",
      "[00h 44m 23s] Total saved so far: 7506\n",
      "[00h 44m 34s] Total saved so far: 7524\n",
      "[00h 44m 42s] Total saved so far: 7542\n",
      "[00h 44m 52s] Total saved so far: 7560\n",
      "[00h 45m 03s] Total saved so far: 7578\n"
     ]
    },
    {
     "name": "stdout",
     "output_type": "stream",
     "text": [
      "[00h 45m 12s] Total saved so far: 7596\n",
      "[00h 45m 22s] Total saved so far: 7614\n",
      "[00h 45m 32s] Total saved so far: 7632\n",
      "[00h 45m 43s] Total saved so far: 7650\n",
      "[00h 45m 51s] Total saved so far: 7668\n",
      "[00h 46m 00s] Total saved so far: 7686\n",
      "[00h 46m 11s] Total saved so far: 7704\n",
      "[00h 46m 22s] Total saved so far: 7722\n",
      "[00h 46m 31s] Total saved so far: 7740\n",
      "[00h 46m 40s] Total saved so far: 7758\n",
      "[00h 46m 51s] Total saved so far: 7776\n",
      "[00h 47m 01s] Total saved so far: 7794\n",
      "[00h 47m 12s] Total saved so far: 7812\n",
      "[00h 47m 23s] Total saved so far: 7830\n",
      "[00h 47m 34s] Total saved so far: 7848\n",
      "[00h 47m 42s] Total saved so far: 7866\n",
      "[00h 47m 53s] Total saved so far: 7884\n",
      "[00h 48m 03s] Total saved so far: 7902\n",
      "[00h 48m 11s] Total saved so far: 7920\n",
      "[00h 48m 20s] Total saved so far: 7938\n",
      "[00h 48m 29s] Total saved so far: 7956\n",
      "[00h 48m 37s] Total saved so far: 7974\n",
      "[00h 48m 48s] Total saved so far: 7992\n",
      "[00h 48m 59s] Total saved so far: 8010\n",
      "[00h 49m 09s] Total saved so far: 8028\n",
      "[00h 49m 17s] Total saved so far: 8046\n",
      "[00h 49m 26s] Total saved so far: 8064\n",
      "[00h 49m 36s] Total saved so far: 8082\n",
      "[00h 49m 47s] Total saved so far: 8100\n",
      "[00h 49m 57s] Total saved so far: 8118\n",
      "[00h 50m 07s] Total saved so far: 8136\n",
      "[00h 50m 17s] Total saved so far: 8154\n",
      "[00h 50m 28s] Total saved so far: 8172\n",
      "[00h 50m 37s] Total saved so far: 8190\n",
      "[00h 50m 47s] Total saved so far: 8208\n",
      "[00h 50m 57s] Total saved so far: 8226\n",
      "[00h 51m 08s] Total saved so far: 8244\n",
      "[00h 51m 18s] Total saved so far: 8262\n",
      "[00h 51m 27s] Total saved so far: 8280\n",
      "[00h 51m 38s] Total saved so far: 8298\n",
      "[00h 51m 48s] Total saved so far: 8316\n",
      "[00h 51m 58s] Total saved so far: 8334\n",
      "[00h 52m 09s] Total saved so far: 8352\n",
      "[00h 52m 20s] Total saved so far: 8370\n",
      "[00h 52m 30s] Total saved so far: 8388\n",
      "[00h 52m 39s] Total saved so far: 8406\n",
      "[00h 52m 49s] Total saved so far: 8424\n",
      "[00h 52m 58s] Total saved so far: 8442\n",
      "[00h 53m 09s] Total saved so far: 8460\n",
      "[00h 53m 18s] Total saved so far: 8478\n",
      "[00h 53m 27s] Total saved so far: 8496\n",
      "[00h 53m 36s] Total saved so far: 8514\n",
      "[00h 53m 48s] Total saved so far: 8532\n",
      "[00h 53m 58s] Total saved so far: 8550\n",
      "[00h 54m 09s] Total saved so far: 8568\n",
      "[00h 54m 19s] Total saved so far: 8586\n",
      "[00h 54m 27s] Total saved so far: 8604\n",
      "[00h 54m 38s] Total saved so far: 8622\n",
      "[00h 54m 47s] Total saved so far: 8640\n",
      "[00h 54m 55s] Total saved so far: 8658\n",
      "[00h 55m 04s] Total saved so far: 8676\n",
      "[00h 55m 15s] Total saved so far: 8694\n",
      "[00h 55m 24s] Total saved so far: 8712\n",
      "[00h 55m 34s] Total saved so far: 8730\n",
      "[00h 55m 44s] Total saved so far: 8748\n",
      "[00h 55m 54s] Total saved so far: 8766\n",
      "[00h 56m 02s] Total saved so far: 8784\n",
      "[00h 56m 12s] Total saved so far: 8802\n",
      "[00h 56m 23s] Total saved so far: 8820\n",
      "[00h 56m 31s] Total saved so far: 8838\n",
      "[00h 56m 42s] Total saved so far: 8856\n",
      "[00h 56m 53s] Total saved so far: 8874\n",
      "[00h 57m 02s] Total saved so far: 8892\n",
      "[00h 57m 13s] Total saved so far: 8910\n",
      "[00h 57m 23s] Total saved so far: 8928\n",
      "[00h 57m 33s] Total saved so far: 8946\n",
      "[00h 57m 44s] Total saved so far: 8964\n",
      "[00h 57m 55s] Total saved so far: 8982\n",
      "[00h 58m 06s] Total saved so far: 9000\n",
      "[00h 58m 15s] Total saved so far: 9018\n",
      "[00h 58m 24s] Total saved so far: 9036\n",
      "[00h 58m 32s] Total saved so far: 9054\n",
      "[00h 58m 41s] Total saved so far: 9072\n",
      "[00h 58m 51s] Total saved so far: 9090\n",
      "[00h 59m 01s] Total saved so far: 9108\n",
      "[00h 59m 09s] Total saved so far: 9126\n",
      "[00h 59m 18s] Total saved so far: 9144\n",
      "[00h 59m 29s] Total saved so far: 9162\n",
      "[00h 59m 39s] Total saved so far: 9180\n",
      "[00h 59m 50s] Total saved so far: 9198\n",
      "[00h 59m 59s] Total saved so far: 9216\n",
      "[01h 00m 08s] Total saved so far: 9234\n",
      "[01h 00m 19s] Total saved so far: 9252\n",
      "[01h 00m 29s] Total saved so far: 9270\n",
      "[01h 00m 40s] Total saved so far: 9288\n",
      "[01h 00m 50s] Total saved so far: 9306\n",
      "[01h 01m 00s] Total saved so far: 9324\n",
      "[01h 01m 08s] Total saved so far: 9342\n",
      "[01h 01m 18s] Total saved so far: 9360\n",
      "[01h 01m 28s] Total saved so far: 9378\n",
      "[01h 01m 38s] Total saved so far: 9396\n",
      "[01h 01m 49s] Total saved so far: 9414\n",
      "[01h 02m 00s] Total saved so far: 9432\n",
      "[01h 02m 09s] Total saved so far: 9450\n",
      "[01h 02m 17s] Total saved so far: 9468\n",
      "[01h 02m 28s] Total saved so far: 9486\n",
      "[01h 02m 38s] Total saved so far: 9504\n",
      "[01h 02m 47s] Total saved so far: 9522\n",
      "[01h 02m 57s] Total saved so far: 9540\n",
      "[01h 03m 08s] Total saved so far: 9558\n",
      "[01h 03m 19s] Total saved so far: 9576\n",
      "[01h 03m 30s] Total saved so far: 9594\n",
      "[01h 03m 39s] Total saved so far: 9612\n",
      "[01h 03m 48s] Total saved so far: 9630\n",
      "[01h 03m 57s] Total saved so far: 9648\n",
      "[01h 04m 08s] Total saved so far: 9666\n",
      "[01h 04m 16s] Total saved so far: 9684\n",
      "[01h 04m 27s] Total saved so far: 9702\n",
      "[01h 04m 37s] Total saved so far: 9720\n",
      "[01h 04m 47s] Total saved so far: 9738\n",
      "[01h 04m 57s] Total saved so far: 9756\n",
      "[01h 05m 06s] Total saved so far: 9774\n",
      "[01h 05m 16s] Total saved so far: 9792\n",
      "[01h 05m 26s] Total saved so far: 9810\n",
      "[01h 05m 35s] Total saved so far: 9828\n",
      "[01h 05m 45s] Total saved so far: 9846\n",
      "[01h 05m 54s] Total saved so far: 9864\n",
      "[01h 06m 03s] Total saved so far: 9882\n",
      "[01h 06m 14s] Total saved so far: 9900\n",
      "[01h 06m 22s] Total saved so far: 9918\n",
      "[01h 06m 33s] Total saved so far: 9936\n",
      "[01h 06m 43s] Total saved so far: 9954\n",
      "[01h 06m 52s] Total saved so far: 9972\n",
      "[01h 07m 01s] Total saved so far: 9990\n",
      "[01h 07m 12s] Total saved so far: 10008\n",
      "[01h 07m 20s] Total saved so far: 10026\n",
      "[01h 07m 31s] Total saved so far: 10044\n",
      "[01h 07m 40s] Total saved so far: 10062\n",
      "[01h 07m 49s] Total saved so far: 10080\n",
      "[01h 07m 58s] Total saved so far: 10098\n",
      "[01h 08m 08s] Total saved so far: 10116\n",
      "[01h 08m 19s] Total saved so far: 10134\n",
      "[01h 08m 28s] Total saved so far: 10152\n",
      "[01h 08m 37s] Total saved so far: 10170\n",
      "[01h 08m 48s] Total saved so far: 10188\n",
      "[01h 08m 57s] Total saved so far: 10206\n",
      "[01h 09m 06s] Total saved so far: 10224\n",
      "[01h 09m 16s] Total saved so far: 10242\n",
      "[01h 09m 26s] Total saved so far: 10260\n",
      "[01h 09m 35s] Total saved so far: 10278\n",
      "[01h 09m 44s] Total saved so far: 10296\n",
      "[01h 09m 53s] Total saved so far: 10314\n",
      "[01h 10m 04s] Total saved so far: 10332\n",
      "[01h 10m 13s] Total saved so far: 10350\n",
      "[01h 10m 22s] Total saved so far: 10368\n",
      "[01h 10m 33s] Total saved so far: 10386\n",
      "[01h 10m 42s] Total saved so far: 10404\n",
      "[01h 10m 52s] Total saved so far: 10422\n",
      "[01h 11m 01s] Total saved so far: 10440\n",
      "[01h 11m 10s] Total saved so far: 10458\n",
      "[01h 11m 21s] Total saved so far: 10476\n",
      "[01h 11m 31s] Total saved so far: 10494\n",
      "[01h 11m 39s] Total saved so far: 10512\n",
      "[01h 11m 49s] Total saved so far: 10530\n",
      "[01h 11m 58s] Total saved so far: 10548\n",
      "[01h 12m 08s] Total saved so far: 10566\n",
      "[01h 12m 16s] Total saved so far: 10584\n",
      "[01h 12m 25s] Total saved so far: 10602\n",
      "[01h 12m 35s] Total saved so far: 10620\n",
      "[01h 12m 44s] Total saved so far: 10638\n",
      "[01h 12m 54s] Total saved so far: 10656\n",
      "[01h 13m 05s] Total saved so far: 10674\n",
      "[01h 13m 15s] Total saved so far: 10692\n",
      "[01h 13m 25s] Total saved so far: 10710\n",
      "[01h 13m 33s] Total saved so far: 10728\n",
      "[01h 13m 43s] Total saved so far: 10746\n",
      "[01h 13m 53s] Total saved so far: 10764\n",
      "[01h 14m 03s] Total saved so far: 10782\n",
      "[01h 14m 12s] Total saved so far: 10800\n",
      "[01h 14m 23s] Total saved so far: 10818\n",
      "[01h 14m 33s] Total saved so far: 10836\n",
      "[01h 14m 42s] Total saved so far: 10854\n",
      "[01h 14m 52s] Total saved so far: 10872\n",
      "[01h 15m 01s] Total saved so far: 10890\n",
      "[01h 15m 10s] Total saved so far: 10908\n",
      "[01h 15m 21s] Total saved so far: 10926\n",
      "[01h 15m 30s] Total saved so far: 10944\n",
      "[01h 15m 40s] Total saved so far: 10962\n",
      "[01h 15m 48s] Total saved so far: 10980\n",
      "[01h 15m 58s] Total saved so far: 10998\n",
      "[01h 16m 09s] Total saved so far: 11016\n",
      "[01h 16m 18s] Total saved so far: 11034\n",
      "[01h 16m 27s] Total saved so far: 11052\n",
      "[01h 16m 36s] Total saved so far: 11070\n",
      "[01h 16m 46s] Total saved so far: 11088\n",
      "[01h 16m 56s] Total saved so far: 11106\n",
      "[01h 17m 05s] Total saved so far: 11124\n",
      "[01h 17m 14s] Total saved so far: 11142\n",
      "[01h 17m 23s] Total saved so far: 11160\n",
      "[01h 17m 32s] Total saved so far: 11178\n",
      "[01h 17m 43s] Total saved so far: 11196\n",
      "[01h 17m 52s] Total saved so far: 11214\n",
      "[01h 18m 01s] Total saved so far: 11232\n",
      "[01h 18m 12s] Total saved so far: 11250\n",
      "[01h 18m 22s] Total saved so far: 11268\n",
      "[01h 18m 31s] Total saved so far: 11286\n",
      "[01h 18m 42s] Total saved so far: 11304\n",
      "[01h 18m 52s] Total saved so far: 11322\n",
      "[01h 19m 02s] Total saved so far: 11340\n"
     ]
    },
    {
     "name": "stdout",
     "output_type": "stream",
     "text": [
      "[01h 19m 10s] Total saved so far: 11358\n",
      "[01h 19m 20s] Total saved so far: 11376\n",
      "[01h 19m 29s] Total saved so far: 11394\n",
      "[01h 19m 38s] Total saved so far: 11412\n",
      "[01h 19m 47s] Total saved so far: 11430\n",
      "[01h 19m 57s] Total saved so far: 11448\n",
      "[01h 20m 05s] Total saved so far: 11466\n",
      "[01h 20m 16s] Total saved so far: 11484\n",
      "[01h 20m 26s] Total saved so far: 11502\n",
      "[01h 20m 35s] Total saved so far: 11520\n",
      "[01h 20m 44s] Total saved so far: 11538\n",
      "[01h 20m 54s] Total saved so far: 11556\n",
      "[01h 21m 03s] Total saved so far: 11574\n",
      "[01h 21m 13s] Total saved so far: 11592\n",
      "[01h 21m 22s] Total saved so far: 11610\n",
      "[01h 21m 31s] Total saved so far: 11628\n",
      "[01h 21m 40s] Total saved so far: 11646\n",
      "[01h 21m 51s] Total saved so far: 11664\n",
      "[01h 22m 00s] Total saved so far: 11682\n",
      "[01h 22m 09s] Total saved so far: 11700\n",
      "[01h 22m 18s] Total saved so far: 11718\n",
      "[01h 22m 27s] Total saved so far: 11736\n",
      "[01h 22m 37s] Total saved so far: 11754\n",
      "[01h 22m 48s] Total saved so far: 11772\n",
      "[01h 22m 56s] Total saved so far: 11790\n",
      "[01h 23m 06s] Total saved so far: 11808\n",
      "[01h 23m 17s] Total saved so far: 11826\n",
      "[01h 23m 28s] Total saved so far: 11844\n",
      "[01h 23m 37s] Total saved so far: 11862\n",
      "[01h 23m 47s] Total saved so far: 11880\n",
      "[01h 23m 56s] Total saved so far: 11898\n",
      "[01h 24m 05s] Total saved so far: 11916\n",
      "[01h 24m 16s] Total saved so far: 11934\n",
      "[01h 24m 26s] Total saved so far: 11952\n",
      "[01h 24m 35s] Total saved so far: 11970\n",
      "[01h 24m 45s] Total saved so far: 11988\n",
      "[01h 24m 56s] Total saved so far: 12006\n",
      "[01h 25m 06s] Total saved so far: 12024\n",
      "[01h 25m 17s] Total saved so far: 12042\n",
      "[01h 25m 26s] Total saved so far: 12060\n",
      "[01h 25m 37s] Total saved so far: 12078\n",
      "[01h 25m 47s] Total saved so far: 12096\n",
      "[01h 25m 57s] Total saved so far: 12114\n",
      "[01h 26m 07s] Total saved so far: 12132\n",
      "[01h 26m 18s] Total saved so far: 12150\n",
      "[01h 26m 28s] Total saved so far: 12168\n",
      "[01h 26m 38s] Total saved so far: 12186\n",
      "[01h 26m 47s] Total saved so far: 12204\n",
      "[01h 26m 57s] Total saved so far: 12222\n",
      "[01h 27m 06s] Total saved so far: 12240\n",
      "[01h 27m 17s] Total saved so far: 12258\n",
      "[01h 27m 26s] Total saved so far: 12276\n",
      "[01h 27m 36s] Total saved so far: 12294\n",
      "[01h 27m 46s] Total saved so far: 12312\n",
      "[01h 27m 56s] Total saved so far: 12330\n",
      "[01h 28m 07s] Total saved so far: 12348\n",
      "[01h 28m 17s] Total saved so far: 12366\n",
      "[01h 28m 26s] Total saved so far: 12384\n",
      "[01h 28m 37s] Total saved so far: 12402\n",
      "[01h 28m 47s] Total saved so far: 12420\n",
      "[01h 28m 55s] Total saved so far: 12438\n",
      "[01h 29m 06s] Total saved so far: 12456\n",
      "[01h 29m 15s] Total saved so far: 12474\n",
      "[01h 29m 24s] Total saved so far: 12492\n",
      "[01h 29m 32s] Total saved so far: 12510\n",
      "[01h 29m 43s] Total saved so far: 12528\n",
      "[01h 29m 54s] Total saved so far: 12546\n",
      "[01h 30m 05s] Total saved so far: 12564\n",
      "[01h 30m 14s] Total saved so far: 12582\n",
      "[01h 30m 24s] Total saved so far: 12600\n",
      "[01h 30m 33s] Total saved so far: 12618\n",
      "[01h 30m 42s] Total saved so far: 12636\n",
      "[01h 30m 52s] Total saved so far: 12654\n",
      "[01h 31m 02s] Total saved so far: 12672\n",
      "[01h 31m 12s] Total saved so far: 12690\n",
      "[01h 31m 22s] Total saved so far: 12708\n",
      "[01h 31m 31s] Total saved so far: 12726\n",
      "[01h 31m 42s] Total saved so far: 12744\n",
      "[01h 31m 51s] Total saved so far: 12762\n",
      "[01h 32m 02s] Total saved so far: 12780\n",
      "[01h 32m 10s] Total saved so far: 12798\n",
      "[01h 32m 20s] Total saved so far: 12816\n",
      "[01h 32m 30s] Total saved so far: 12834\n",
      "[01h 32m 39s] Total saved so far: 12852\n",
      "[01h 32m 48s] Total saved so far: 12870\n",
      "[01h 32m 57s] Total saved so far: 12888\n",
      "[01h 33m 06s] Total saved so far: 12906\n",
      "[01h 33m 17s] Total saved so far: 12924\n",
      "[01h 33m 27s] Total saved so far: 12942\n",
      "[01h 33m 36s] Total saved so far: 12960\n",
      "[01h 33m 47s] Total saved so far: 12978\n",
      "[01h 33m 55s] Total saved so far: 12996\n",
      "[01h 34m 04s] Total saved so far: 13014\n",
      "[01h 34m 14s] Total saved so far: 13032\n",
      "[01h 34m 24s] Total saved so far: 13050\n",
      "[01h 34m 34s] Total saved so far: 13068\n",
      "[01h 34m 42s] Total saved so far: 13086\n",
      "[01h 34m 51s] Total saved so far: 13104\n",
      "[01h 35m 02s] Total saved so far: 13122\n",
      "[01h 35m 12s] Total saved so far: 13140\n",
      "[01h 35m 20s] Total saved so far: 13158\n",
      "[01h 35m 29s] Total saved so far: 13176\n",
      "[01h 35m 40s] Total saved so far: 13194\n",
      "[01h 35m 50s] Total saved so far: 13212\n",
      "[01h 36m 00s] Total saved so far: 13230\n",
      "[01h 36m 09s] Total saved so far: 13248\n",
      "[01h 36m 17s] Total saved so far: 13266\n",
      "[01h 36m 27s] Total saved so far: 13284\n",
      "[01h 36m 38s] Total saved so far: 13302\n",
      "[01h 36m 48s] Total saved so far: 13320\n",
      "[01h 36m 59s] Total saved so far: 13338\n",
      "[01h 37m 08s] Total saved so far: 13356\n",
      "[01h 37m 17s] Total saved so far: 13374\n",
      "[01h 37m 26s] Total saved so far: 13392\n",
      "[01h 37m 35s] Total saved so far: 13410\n",
      "[01h 37m 43s] Total saved so far: 13428\n",
      "[01h 37m 54s] Total saved so far: 13446\n",
      "[01h 38m 05s] Total saved so far: 13464\n",
      "[01h 38m 14s] Total saved so far: 13482\n",
      "[01h 38m 25s] Total saved so far: 13500\n",
      "[01h 38m 37s] Total saved so far: 13518\n",
      "[01h 38m 47s] Total saved so far: 13536\n",
      "[01h 38m 55s] Total saved so far: 13554\n",
      "[01h 39m 05s] Total saved so far: 13572\n"
     ]
    },
    {
     "name": "stderr",
     "output_type": "stream",
     "text": [
      "not a 200 response: 500\n"
     ]
    },
    {
     "name": "stdout",
     "output_type": "stream",
     "text": [
      "[01h 39m 14s] Total saved so far: 13572\n"
     ]
    },
    {
     "name": "stderr",
     "output_type": "stream",
     "text": [
      "not a 200 response: 500\n"
     ]
    },
    {
     "name": "stdout",
     "output_type": "stream",
     "text": [
      "[01h 39m 25s] Total saved so far: 13572\n"
     ]
    },
    {
     "name": "stderr",
     "output_type": "stream",
     "text": [
      "not a 200 response: 500\n"
     ]
    },
    {
     "name": "stdout",
     "output_type": "stream",
     "text": [
      "[01h 39m 38s] Total saved so far: 13572\n"
     ]
    },
    {
     "name": "stderr",
     "output_type": "stream",
     "text": [
      "not a 200 response: 500\n"
     ]
    },
    {
     "name": "stdout",
     "output_type": "stream",
     "text": [
      "[01h 39m 50s] Total saved so far: 13572\n"
     ]
    },
    {
     "name": "stderr",
     "output_type": "stream",
     "text": [
      "not a 200 response: 500\n"
     ]
    },
    {
     "name": "stdout",
     "output_type": "stream",
     "text": [
      "[01h 40m 02s] Total saved so far: 13572\n"
     ]
    },
    {
     "name": "stderr",
     "output_type": "stream",
     "text": [
      "not a 200 response: 500\n"
     ]
    },
    {
     "name": "stdout",
     "output_type": "stream",
     "text": [
      "[01h 40m 16s] Total saved so far: 13572\n"
     ]
    },
    {
     "name": "stderr",
     "output_type": "stream",
     "text": [
      "not a 200 response: 500\n"
     ]
    },
    {
     "name": "stdout",
     "output_type": "stream",
     "text": [
      "[01h 40m 28s] Total saved so far: 13572\n"
     ]
    },
    {
     "name": "stderr",
     "output_type": "stream",
     "text": [
      "not a 200 response: 500\n"
     ]
    },
    {
     "name": "stdout",
     "output_type": "stream",
     "text": [
      "[01h 40m 41s] Total saved so far: 13572\n"
     ]
    },
    {
     "name": "stderr",
     "output_type": "stream",
     "text": [
      "not a 200 response: 500\n"
     ]
    },
    {
     "name": "stdout",
     "output_type": "stream",
     "text": [
      "[01h 40m 54s] Total saved so far: 13572\n"
     ]
    },
    {
     "name": "stderr",
     "output_type": "stream",
     "text": [
      "not a 200 response: 500\n"
     ]
    },
    {
     "name": "stdout",
     "output_type": "stream",
     "text": [
      "[01h 41m 09s] Total saved so far: 13572\n"
     ]
    },
    {
     "name": "stderr",
     "output_type": "stream",
     "text": [
      "not a 200 response: 500\n"
     ]
    },
    {
     "name": "stdout",
     "output_type": "stream",
     "text": [
      "[01h 41m 22s] Total saved so far: 13572\n"
     ]
    },
    {
     "name": "stderr",
     "output_type": "stream",
     "text": [
      "not a 200 response: 500\n"
     ]
    },
    {
     "name": "stdout",
     "output_type": "stream",
     "text": [
      "[01h 41m 37s] Total saved so far: 13572\n"
     ]
    },
    {
     "name": "stderr",
     "output_type": "stream",
     "text": [
      "not a 200 response: 500\n"
     ]
    },
    {
     "name": "stdout",
     "output_type": "stream",
     "text": [
      "[01h 41m 54s] Total saved so far: 13572\n"
     ]
    },
    {
     "name": "stderr",
     "output_type": "stream",
     "text": [
      "not a 200 response: 500\n"
     ]
    },
    {
     "name": "stdout",
     "output_type": "stream",
     "text": [
      "[01h 42m 09s] Total saved so far: 13572\n"
     ]
    },
    {
     "name": "stderr",
     "output_type": "stream",
     "text": [
      "not a 200 response: 500\n"
     ]
    },
    {
     "name": "stdout",
     "output_type": "stream",
     "text": [
      "[01h 42m 26s] Total saved so far: 13572\n"
     ]
    },
    {
     "name": "stderr",
     "output_type": "stream",
     "text": [
      "not a 200 response: 500\n"
     ]
    },
    {
     "name": "stdout",
     "output_type": "stream",
     "text": [
      "[01h 42m 45s] Total saved so far: 13572\n"
     ]
    },
    {
     "name": "stderr",
     "output_type": "stream",
     "text": [
      "not a 200 response: 500\n"
     ]
    },
    {
     "name": "stdout",
     "output_type": "stream",
     "text": [
      "[01h 43m 01s] Total saved so far: 13572\n"
     ]
    },
    {
     "name": "stderr",
     "output_type": "stream",
     "text": [
      "not a 200 response: 500\n"
     ]
    },
    {
     "name": "stdout",
     "output_type": "stream",
     "text": [
      "[01h 43m 18s] Total saved so far: 13572\n"
     ]
    },
    {
     "name": "stderr",
     "output_type": "stream",
     "text": [
      "not a 200 response: 500\n"
     ]
    },
    {
     "name": "stdout",
     "output_type": "stream",
     "text": [
      "[01h 43m 37s] Total saved so far: 13572\n"
     ]
    },
    {
     "name": "stderr",
     "output_type": "stream",
     "text": [
      "not a 200 response: 500\n"
     ]
    },
    {
     "name": "stdout",
     "output_type": "stream",
     "text": [
      "[01h 43m 56s] Total saved so far: 13572\n"
     ]
    },
    {
     "name": "stderr",
     "output_type": "stream",
     "text": [
      "not a 200 response: 500\n"
     ]
    },
    {
     "name": "stdout",
     "output_type": "stream",
     "text": [
      "[01h 44m 16s] Total saved so far: 13572\n"
     ]
    },
    {
     "name": "stderr",
     "output_type": "stream",
     "text": [
      "not a 200 response: 500\n"
     ]
    },
    {
     "name": "stdout",
     "output_type": "stream",
     "text": [
      "[01h 44m 37s] Total saved so far: 13572\n"
     ]
    },
    {
     "name": "stderr",
     "output_type": "stream",
     "text": [
      "not a 200 response: 500\n"
     ]
    },
    {
     "name": "stdout",
     "output_type": "stream",
     "text": [
      "[01h 44m 56s] Total saved so far: 13572\n"
     ]
    },
    {
     "name": "stderr",
     "output_type": "stream",
     "text": [
      "not a 200 response: 500\n"
     ]
    },
    {
     "name": "stdout",
     "output_type": "stream",
     "text": [
      "[01h 45m 18s] Total saved so far: 13572\n"
     ]
    },
    {
     "name": "stderr",
     "output_type": "stream",
     "text": [
      "not a 200 response: 500\n"
     ]
    },
    {
     "name": "stdout",
     "output_type": "stream",
     "text": [
      "[01h 45m 41s] Total saved so far: 13572\n"
     ]
    },
    {
     "name": "stderr",
     "output_type": "stream",
     "text": [
      "not a 200 response: 500\n"
     ]
    },
    {
     "name": "stdout",
     "output_type": "stream",
     "text": [
      "[01h 46m 01s] Total saved so far: 13572\n"
     ]
    },
    {
     "name": "stderr",
     "output_type": "stream",
     "text": [
      "not a 200 response: 500\n"
     ]
    },
    {
     "name": "stdout",
     "output_type": "stream",
     "text": [
      "[01h 46m 24s] Total saved so far: 13572\n"
     ]
    },
    {
     "name": "stderr",
     "output_type": "stream",
     "text": [
      "not a 200 response: 500\n"
     ]
    },
    {
     "name": "stdout",
     "output_type": "stream",
     "text": [
      "[01h 46m 46s] Total saved so far: 13572\n"
     ]
    },
    {
     "name": "stderr",
     "output_type": "stream",
     "text": [
      "not a 200 response: 500\n"
     ]
    },
    {
     "name": "stdout",
     "output_type": "stream",
     "text": [
      "[01h 47m 10s] Total saved so far: 13572\n"
     ]
    },
    {
     "name": "stderr",
     "output_type": "stream",
     "text": [
      "not a 200 response: 500\n"
     ]
    },
    {
     "name": "stdout",
     "output_type": "stream",
     "text": [
      "[01h 47m 32s] Total saved so far: 13572\n"
     ]
    },
    {
     "name": "stderr",
     "output_type": "stream",
     "text": [
      "not a 200 response: 500\n"
     ]
    },
    {
     "name": "stdout",
     "output_type": "stream",
     "text": [
      "[01h 47m 57s] Total saved so far: 13572\n"
     ]
    },
    {
     "name": "stderr",
     "output_type": "stream",
     "text": [
      "not a 200 response: 500\n"
     ]
    },
    {
     "name": "stdout",
     "output_type": "stream",
     "text": [
      "[01h 48m 20s] Total saved so far: 13572\n"
     ]
    },
    {
     "name": "stderr",
     "output_type": "stream",
     "text": [
      "not a 200 response: 500\n"
     ]
    },
    {
     "name": "stdout",
     "output_type": "stream",
     "text": [
      "[01h 48m 45s] Total saved so far: 13572\n"
     ]
    },
    {
     "name": "stderr",
     "output_type": "stream",
     "text": [
      "not a 200 response: 500\n"
     ]
    },
    {
     "name": "stdout",
     "output_type": "stream",
     "text": [
      "[01h 49m 10s] Total saved so far: 13572\n"
     ]
    },
    {
     "name": "stderr",
     "output_type": "stream",
     "text": [
      "not a 200 response: 500\n"
     ]
    },
    {
     "name": "stdout",
     "output_type": "stream",
     "text": [
      "[01h 49m 37s] Total saved so far: 13572\n"
     ]
    },
    {
     "name": "stderr",
     "output_type": "stream",
     "text": [
      "not a 200 response: 500\n"
     ]
    },
    {
     "name": "stdout",
     "output_type": "stream",
     "text": [
      "[01h 50m 05s] Total saved so far: 13572\n"
     ]
    },
    {
     "name": "stderr",
     "output_type": "stream",
     "text": [
      "not a 200 response: 500\n"
     ]
    },
    {
     "name": "stdout",
     "output_type": "stream",
     "text": [
      "[01h 50m 32s] Total saved so far: 13572\n"
     ]
    },
    {
     "name": "stderr",
     "output_type": "stream",
     "text": [
      "not a 200 response: 500\n"
     ]
    },
    {
     "name": "stdout",
     "output_type": "stream",
     "text": [
      "[01h 51m 01s] Total saved so far: 13572\n"
     ]
    },
    {
     "name": "stderr",
     "output_type": "stream",
     "text": [
      "not a 200 response: 500\n"
     ]
    },
    {
     "name": "stdout",
     "output_type": "stream",
     "text": [
      "[01h 51m 28s] Total saved so far: 13572\n"
     ]
    },
    {
     "name": "stderr",
     "output_type": "stream",
     "text": [
      "not a 200 response: 500\n"
     ]
    },
    {
     "name": "stdout",
     "output_type": "stream",
     "text": [
      "[01h 51m 56s] Total saved so far: 13572\n"
     ]
    },
    {
     "name": "stderr",
     "output_type": "stream",
     "text": [
      "not a 200 response: 500\n"
     ]
    },
    {
     "name": "stdout",
     "output_type": "stream",
     "text": [
      "[01h 52m 25s] Total saved so far: 13572\n"
     ]
    },
    {
     "name": "stderr",
     "output_type": "stream",
     "text": [
      "not a 200 response: 500\n"
     ]
    },
    {
     "name": "stdout",
     "output_type": "stream",
     "text": [
      "[01h 52m 53s] Total saved so far: 13572\n"
     ]
    },
    {
     "name": "stderr",
     "output_type": "stream",
     "text": [
      "not a 200 response: 500\n"
     ]
    },
    {
     "name": "stdout",
     "output_type": "stream",
     "text": [
      "[01h 53m 24s] Total saved so far: 13572\n"
     ]
    },
    {
     "name": "stderr",
     "output_type": "stream",
     "text": [
      "not a 200 response: 500\n"
     ]
    },
    {
     "name": "stdout",
     "output_type": "stream",
     "text": [
      "[01h 53m 54s] Total saved so far: 13572\n"
     ]
    },
    {
     "name": "stderr",
     "output_type": "stream",
     "text": [
      "not a 200 response: 500\n"
     ]
    },
    {
     "name": "stdout",
     "output_type": "stream",
     "text": [
      "[01h 54m 25s] Total saved so far: 13572\n"
     ]
    },
    {
     "name": "stderr",
     "output_type": "stream",
     "text": [
      "not a 200 response: 500\n"
     ]
    },
    {
     "name": "stdout",
     "output_type": "stream",
     "text": [
      "[01h 54m 58s] Total saved so far: 13572\n"
     ]
    },
    {
     "name": "stderr",
     "output_type": "stream",
     "text": [
      "not a 200 response: 500\n"
     ]
    },
    {
     "name": "stdout",
     "output_type": "stream",
     "text": [
      "[01h 55m 29s] Total saved so far: 13572\n"
     ]
    },
    {
     "name": "stderr",
     "output_type": "stream",
     "text": [
      "not a 200 response: 500\n"
     ]
    },
    {
     "name": "stdout",
     "output_type": "stream",
     "text": [
      "[01h 56m 01s] Total saved so far: 13572\n"
     ]
    },
    {
     "name": "stderr",
     "output_type": "stream",
     "text": [
      "not a 200 response: 500\n"
     ]
    },
    {
     "name": "stdout",
     "output_type": "stream",
     "text": [
      "[01h 56m 33s] Total saved so far: 13572\n"
     ]
    },
    {
     "name": "stderr",
     "output_type": "stream",
     "text": [
      "not a 200 response: 500\n"
     ]
    },
    {
     "name": "stdout",
     "output_type": "stream",
     "text": [
      "[01h 57m 08s] Total saved so far: 13572\n"
     ]
    },
    {
     "name": "stderr",
     "output_type": "stream",
     "text": [
      "not a 200 response: 500\n"
     ]
    },
    {
     "name": "stdout",
     "output_type": "stream",
     "text": [
      "[01h 57m 42s] Total saved so far: 13572\n"
     ]
    },
    {
     "name": "stderr",
     "output_type": "stream",
     "text": [
      "not a 200 response: 500\n"
     ]
    },
    {
     "name": "stdout",
     "output_type": "stream",
     "text": [
      "[01h 58m 17s] Total saved so far: 13572\n"
     ]
    },
    {
     "name": "stderr",
     "output_type": "stream",
     "text": [
      "not a 200 response: 500\n"
     ]
    },
    {
     "name": "stdout",
     "output_type": "stream",
     "text": [
      "[01h 58m 52s] Total saved so far: 13572\n"
     ]
    },
    {
     "name": "stderr",
     "output_type": "stream",
     "text": [
      "not a 200 response: 500\n"
     ]
    },
    {
     "name": "stdout",
     "output_type": "stream",
     "text": [
      "[01h 59m 28s] Total saved so far: 13572\n"
     ]
    },
    {
     "name": "stderr",
     "output_type": "stream",
     "text": [
      "not a 200 response: 500\n"
     ]
    },
    {
     "name": "stdout",
     "output_type": "stream",
     "text": [
      "[02h 00m 05s] Total saved so far: 13572\n"
     ]
    },
    {
     "name": "stderr",
     "output_type": "stream",
     "text": [
      "not a 200 response: 500\n"
     ]
    },
    {
     "name": "stdout",
     "output_type": "stream",
     "text": [
      "[02h 00m 40s] Total saved so far: 13572\n"
     ]
    },
    {
     "name": "stderr",
     "output_type": "stream",
     "text": [
      "not a 200 response: 500\n"
     ]
    },
    {
     "name": "stdout",
     "output_type": "stream",
     "text": [
      "[02h 01m 17s] Total saved so far: 13572\n"
     ]
    },
    {
     "name": "stderr",
     "output_type": "stream",
     "text": [
      "not a 200 response: 500\n"
     ]
    },
    {
     "name": "stdout",
     "output_type": "stream",
     "text": [
      "[02h 01m 55s] Total saved so far: 13572\n"
     ]
    },
    {
     "name": "stderr",
     "output_type": "stream",
     "text": [
      "not a 200 response: 500\n"
     ]
    },
    {
     "name": "stdout",
     "output_type": "stream",
     "text": [
      "[02h 02m 34s] Total saved so far: 13572\n"
     ]
    },
    {
     "name": "stderr",
     "output_type": "stream",
     "text": [
      "not a 200 response: 500\n"
     ]
    },
    {
     "name": "stdout",
     "output_type": "stream",
     "text": [
      "[02h 03m 13s] Total saved so far: 13572\n"
     ]
    },
    {
     "name": "stderr",
     "output_type": "stream",
     "text": [
      "not a 200 response: 500\n"
     ]
    },
    {
     "name": "stdout",
     "output_type": "stream",
     "text": [
      "[02h 03m 52s] Total saved so far: 13572\n"
     ]
    },
    {
     "name": "stderr",
     "output_type": "stream",
     "text": [
      "not a 200 response: 500\n"
     ]
    },
    {
     "name": "stdout",
     "output_type": "stream",
     "text": [
      "[02h 04m 32s] Total saved so far: 13572\n"
     ]
    },
    {
     "name": "stderr",
     "output_type": "stream",
     "text": [
      "not a 200 response: 500\n"
     ]
    },
    {
     "name": "stdout",
     "output_type": "stream",
     "text": [
      "[02h 05m 13s] Total saved so far: 13572\n"
     ]
    },
    {
     "name": "stderr",
     "output_type": "stream",
     "text": [
      "not a 200 response: 500\n"
     ]
    },
    {
     "name": "stdout",
     "output_type": "stream",
     "text": [
      "[02h 05m 52s] Total saved so far: 13572\n"
     ]
    },
    {
     "name": "stderr",
     "output_type": "stream",
     "text": [
      "not a 200 response: 500\n"
     ]
    },
    {
     "name": "stdout",
     "output_type": "stream",
     "text": [
      "[02h 06m 34s] Total saved so far: 13572\n"
     ]
    },
    {
     "name": "stderr",
     "output_type": "stream",
     "text": [
      "not a 200 response: 500\n"
     ]
    },
    {
     "name": "stdout",
     "output_type": "stream",
     "text": [
      "[02h 07m 17s] Total saved so far: 13572\n"
     ]
    },
    {
     "name": "stderr",
     "output_type": "stream",
     "text": [
      "not a 200 response: 500\n"
     ]
    },
    {
     "name": "stdout",
     "output_type": "stream",
     "text": [
      "[02h 07m 59s] Total saved so far: 13572\n"
     ]
    },
    {
     "name": "stderr",
     "output_type": "stream",
     "text": [
      "not a 200 response: 500\n"
     ]
    },
    {
     "name": "stdout",
     "output_type": "stream",
     "text": [
      "[02h 08m 41s] Total saved so far: 13572\n"
     ]
    },
    {
     "name": "stderr",
     "output_type": "stream",
     "text": [
      "not a 200 response: 500\n"
     ]
    },
    {
     "name": "stdout",
     "output_type": "stream",
     "text": [
      "[02h 09m 25s] Total saved so far: 13572\n"
     ]
    },
    {
     "name": "stderr",
     "output_type": "stream",
     "text": [
      "not a 200 response: 500\n"
     ]
    },
    {
     "name": "stdout",
     "output_type": "stream",
     "text": [
      "[02h 10m 08s] Total saved so far: 13572\n"
     ]
    },
    {
     "name": "stderr",
     "output_type": "stream",
     "text": [
      "not a 200 response: 500\n"
     ]
    },
    {
     "name": "stdout",
     "output_type": "stream",
     "text": [
      "[02h 10m 51s] Total saved so far: 13572\n"
     ]
    },
    {
     "name": "stderr",
     "output_type": "stream",
     "text": [
      "not a 200 response: 500\n"
     ]
    },
    {
     "name": "stdout",
     "output_type": "stream",
     "text": [
      "[02h 11m 37s] Total saved so far: 13572\n"
     ]
    },
    {
     "name": "stderr",
     "output_type": "stream",
     "text": [
      "not a 200 response: 500\n"
     ]
    },
    {
     "name": "stdout",
     "output_type": "stream",
     "text": [
      "[02h 12m 21s] Total saved so far: 13572\n"
     ]
    },
    {
     "name": "stderr",
     "output_type": "stream",
     "text": [
      "not a 200 response: 500\n"
     ]
    },
    {
     "name": "stdout",
     "output_type": "stream",
     "text": [
      "[02h 13m 06s] Total saved so far: 13572\n"
     ]
    },
    {
     "name": "stderr",
     "output_type": "stream",
     "text": [
      "not a 200 response: 500\n"
     ]
    },
    {
     "name": "stdout",
     "output_type": "stream",
     "text": [
      "[02h 13m 53s] Total saved so far: 13572\n"
     ]
    },
    {
     "name": "stderr",
     "output_type": "stream",
     "text": [
      "not a 200 response: 500\n"
     ]
    },
    {
     "name": "stdout",
     "output_type": "stream",
     "text": [
      "[02h 14m 38s] Total saved so far: 13572\n"
     ]
    },
    {
     "name": "stderr",
     "output_type": "stream",
     "text": [
      "not a 200 response: 500\n"
     ]
    },
    {
     "name": "stdout",
     "output_type": "stream",
     "text": [
      "[02h 15m 24s] Total saved so far: 13572\n"
     ]
    },
    {
     "name": "stderr",
     "output_type": "stream",
     "text": [
      "not a 200 response: 500\n"
     ]
    },
    {
     "name": "stdout",
     "output_type": "stream",
     "text": [
      "[02h 16m 13s] Total saved so far: 13572\n"
     ]
    },
    {
     "name": "stderr",
     "output_type": "stream",
     "text": [
      "not a 200 response: 500\n"
     ]
    },
    {
     "name": "stdout",
     "output_type": "stream",
     "text": [
      "[02h 17m 02s] Total saved so far: 13572\n"
     ]
    },
    {
     "name": "stderr",
     "output_type": "stream",
     "text": [
      "not a 200 response: 500\n"
     ]
    }
   ],
   "source": [
    "url_scraper = MoscowTimesScraper(pause_min=3, pause_max=5)\n",
    "url_scraper.get_urls()"
   ]
  }
 ],
 "metadata": {
  "kernelspec": {
   "display_name": "Python 3 (ipykernel)",
   "language": "python",
   "name": "python3"
  },
  "language_info": {
   "codemirror_mode": {
    "name": "ipython",
    "version": 3
   },
   "file_extension": ".py",
   "mimetype": "text/x-python",
   "name": "python",
   "nbconvert_exporter": "python",
   "pygments_lexer": "ipython3",
   "version": "3.7.9"
  }
 },
 "nbformat": 4,
 "nbformat_minor": 2
}
