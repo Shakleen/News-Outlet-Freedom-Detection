{
 "cells": [
  {
   "cell_type": "code",
   "execution_count": 1,
   "metadata": {},
   "outputs": [],
   "source": [
    "import os\n",
    "os.chdir(r\"../../../\")"
   ]
  },
  {
   "cell_type": "markdown",
   "metadata": {},
   "source": [
    "# CBC Scraper"
   ]
  },
  {
   "cell_type": "code",
   "execution_count": 2,
   "metadata": {},
   "outputs": [],
   "source": [
    "from src.scrapers.cbc_scraper import CBCScraper"
   ]
  },
  {
   "cell_type": "code",
   "execution_count": null,
   "metadata": {},
   "outputs": [
    {
     "name": "stdout",
     "output_type": "stream",
     "text": [
      "[00h 00m 17s] Total saved so far: 1521\n",
      "[00h 00m 34s] Total saved so far: 1521\n",
      "[00h 00m 46s] Total saved so far: 1521\n",
      "[00h 00m 59s] Total saved so far: 1521\n",
      "[00h 01m 15s] Total saved so far: 1521\n",
      "[00h 01m 30s] Total saved so far: 1521\n",
      "[00h 01m 49s] Total saved so far: 1521\n",
      "[00h 02m 03s] Total saved so far: 1521\n",
      "[00h 02m 20s] Total saved so far: 1521\n",
      "[00h 02m 41s] Total saved so far: 1521\n",
      "[00h 02m 56s] Total saved so far: 1521\n",
      "[00h 03m 12s] Total saved so far: 1521\n",
      "[00h 03m 27s] Total saved so far: 1521\n",
      "[00h 03m 40s] Total saved so far: 1521\n",
      "[00h 03m 58s] Total saved so far: 1521\n",
      "[00h 04m 15s] Total saved so far: 1521\n",
      "[00h 04m 30s] Total saved so far: 1521\n",
      "[00h 04m 43s] Total saved so far: 1521\n",
      "[00h 04m 58s] Total saved so far: 1521\n",
      "[00h 05m 18s] Total saved so far: 1521\n",
      "[00h 05m 36s] Total saved so far: 1521\n",
      "[00h 05m 49s] Total saved so far: 1521\n",
      "[00h 06m 03s] Total saved so far: 1521\n",
      "[00h 06m 19s] Total saved so far: 1521\n",
      "[00h 06m 38s] Total saved so far: 1521\n",
      "[00h 06m 53s] Total saved so far: 1521\n",
      "[00h 07m 08s] Total saved so far: 1521\n",
      "[00h 07m 22s] Total saved so far: 1521\n",
      "[00h 07m 40s] Total saved so far: 1521\n",
      "[00h 07m 58s] Total saved so far: 1521\n",
      "[00h 08m 11s] Total saved so far: 1521\n",
      "[00h 08m 24s] Total saved so far: 1521\n",
      "[00h 08m 39s] Total saved so far: 1521\n",
      "[00h 08m 57s] Total saved so far: 1521\n",
      "[00h 09m 09s] Total saved so far: 1521\n",
      "[00h 09m 27s] Total saved so far: 1521\n",
      "[00h 09m 39s] Total saved so far: 1521\n",
      "[00h 09m 54s] Total saved so far: 1521\n",
      "[00h 10m 09s] Total saved so far: 1521\n",
      "[00h 10m 24s] Total saved so far: 1521\n",
      "[00h 10m 42s] Total saved so far: 1521\n",
      "[00h 10m 57s] Total saved so far: 1521\n",
      "[00h 11m 16s] Total saved so far: 1521\n",
      "[00h 11m 35s] Total saved so far: 1521\n",
      "[00h 11m 46s] Total saved so far: 1521\n",
      "[00h 12m 02s] Total saved so far: 1521\n",
      "[00h 12m 17s] Total saved so far: 1521\n",
      "[00h 12m 34s] Total saved so far: 1521\n",
      "[00h 12m 52s] Total saved so far: 1521\n",
      "[00h 13m 09s] Total saved so far: 1521\n",
      "[00h 13m 23s] Total saved so far: 1521\n",
      "[00h 13m 40s] Total saved so far: 1521\n",
      "[00h 14m 01s] Total saved so far: 1521\n",
      "[00h 14m 18s] Total saved so far: 1521\n",
      "[00h 14m 34s] Total saved so far: 1521\n",
      "[00h 14m 50s] Total saved so far: 1521\n",
      "[00h 15m 06s] Total saved so far: 1521\n",
      "[00h 15m 23s] Total saved so far: 1521\n",
      "[00h 15m 38s] Total saved so far: 1521\n",
      "[00h 15m 54s] Total saved so far: 1521\n",
      "[00h 16m 14s] Total saved so far: 1521\n",
      "[00h 16m 35s] Total saved so far: 1521\n",
      "[00h 16m 47s] Total saved so far: 1521\n",
      "[00h 17m 05s] Total saved so far: 1521\n",
      "[00h 17m 24s] Total saved so far: 1521\n",
      "[00h 17m 37s] Total saved so far: 1521\n",
      "[00h 17m 53s] Total saved so far: 1521\n",
      "[00h 18m 07s] Total saved so far: 1521\n",
      "[00h 18m 22s] Total saved so far: 1521\n",
      "[00h 18m 43s] Total saved so far: 1521\n",
      "[00h 19m 00s] Total saved so far: 1521\n",
      "[00h 19m 15s] Total saved so far: 1521\n",
      "[00h 19m 34s] Total saved so far: 1521\n",
      "[00h 19m 51s] Total saved so far: 1521\n",
      "[00h 20m 07s] Total saved so far: 1521\n",
      "[00h 20m 23s] Total saved so far: 1521\n",
      "[00h 20m 37s] Total saved so far: 1521\n",
      "[00h 20m 52s] Total saved so far: 1521\n",
      "[00h 21m 04s] Total saved so far: 1521\n",
      "[00h 21m 19s] Total saved so far: 1521\n",
      "[00h 21m 34s] Total saved so far: 1521\n",
      "[00h 21m 52s] Total saved so far: 1521\n",
      "[00h 22m 11s] Total saved so far: 1521\n",
      "[00h 22m 29s] Total saved so far: 1521\n",
      "[00h 22m 49s] Total saved so far: 1521\n",
      "[00h 23m 03s] Total saved so far: 1521\n",
      "[00h 23m 19s] Total saved so far: 1521\n",
      "[00h 23m 31s] Total saved so far: 1521\n",
      "[00h 23m 47s] Total saved so far: 1521\n",
      "[00h 24m 06s] Total saved so far: 1521\n",
      "[00h 24m 20s] Total saved so far: 1521\n",
      "[00h 24m 35s] Total saved so far: 1521\n",
      "[00h 24m 46s] Total saved so far: 1521\n",
      "[00h 25m 01s] Total saved so far: 1521\n",
      "[00h 25m 22s] Total saved so far: 1521\n",
      "[00h 25m 42s] Total saved so far: 1521\n",
      "[00h 26m 00s] Total saved so far: 1521\n",
      "[00h 26m 20s] Total saved so far: 1521\n",
      "[00h 26m 35s] Total saved so far: 1521\n",
      "[00h 26m 46s] Total saved so far: 1521\n",
      "[00h 27m 02s] Total saved so far: 1521\n",
      "[00h 27m 23s] Total saved so far: 1521\n",
      "[00h 27m 40s] Total saved so far: 1521\n",
      "[00h 27m 54s] Total saved so far: 1521\n",
      "[00h 28m 10s] Total saved so far: 1521\n",
      "[00h 28m 28s] Total saved so far: 1521\n",
      "[00h 28m 46s] Total saved so far: 1521\n",
      "[00h 29m 03s] Total saved so far: 1521\n",
      "[00h 29m 20s] Total saved so far: 1521\n",
      "[00h 29m 38s] Total saved so far: 1521\n",
      "[00h 29m 55s] Total saved so far: 1521\n",
      "[00h 30m 12s] Total saved so far: 1521\n",
      "[00h 30m 26s] Total saved so far: 1521\n",
      "[00h 30m 45s] Total saved so far: 1521\n",
      "[00h 30m 57s] Total saved so far: 1521\n",
      "[00h 31m 14s] Total saved so far: 1521\n",
      "[00h 31m 31s] Total saved so far: 1521\n",
      "[00h 31m 50s] Total saved so far: 1521\n",
      "[00h 32m 04s] Total saved so far: 1521\n",
      "[00h 32m 25s] Total saved so far: 1521\n",
      "[00h 32m 44s] Total saved so far: 1521\n",
      "[00h 32m 59s] Total saved so far: 1521\n",
      "[00h 33m 16s] Total saved so far: 1521\n",
      "[00h 33m 32s] Total saved so far: 1521\n",
      "[00h 33m 47s] Total saved so far: 1521\n",
      "[00h 33m 59s] Total saved so far: 1521\n",
      "[00h 34m 18s] Total saved so far: 1521\n",
      "[00h 34m 38s] Total saved so far: 1521\n",
      "[00h 34m 52s] Total saved so far: 1521\n",
      "[00h 35m 07s] Total saved so far: 1521\n",
      "[00h 35m 24s] Total saved so far: 1521\n",
      "[00h 35m 39s] Total saved so far: 1521\n",
      "[00h 35m 55s] Total saved so far: 1521\n",
      "[00h 36m 07s] Total saved so far: 1521\n",
      "[00h 36m 27s] Total saved so far: 1521\n",
      "[00h 36m 41s] Total saved so far: 1521\n",
      "[00h 36m 57s] Total saved so far: 1521\n",
      "[00h 37m 13s] Total saved so far: 1521\n",
      "[00h 37m 33s] Total saved so far: 1521\n",
      "[00h 37m 47s] Total saved so far: 1521\n",
      "[00h 38m 04s] Total saved so far: 1521\n",
      "[00h 38m 16s] Total saved so far: 1521\n",
      "[00h 38m 34s] Total saved so far: 1521\n",
      "[00h 38m 48s] Total saved so far: 1521\n",
      "[00h 39m 05s] Total saved so far: 1521\n",
      "[00h 39m 23s] Total saved so far: 1521\n",
      "[00h 39m 40s] Total saved so far: 1521\n",
      "[00h 39m 56s] Total saved so far: 1521\n",
      "[00h 40m 11s] Total saved so far: 1521\n",
      "[00h 40m 31s] Total saved so far: 1521\n",
      "[00h 40m 46s] Total saved so far: 1521\n",
      "[00h 41m 01s] Total saved so far: 1521\n",
      "[00h 41m 21s] Total saved so far: 1521\n",
      "[00h 41m 37s] Total saved so far: 1521\n",
      "[00h 41m 58s] Total saved so far: 1523\n",
      "[00h 42m 19s] Total saved so far: 1524\n",
      "[00h 42m 45s] Total saved so far: 1524\n",
      "[00h 43m 10s] Total saved so far: 1533\n",
      "[00h 43m 39s] Total saved so far: 1533\n",
      "[00h 44m 02s] Total saved so far: 1533\n",
      "[00h 44m 26s] Total saved so far: 1533\n",
      "[00h 44m 50s] Total saved so far: 1535\n",
      "[00h 45m 13s] Total saved so far: 1537\n",
      "[00h 45m 38s] Total saved so far: 1537\n",
      "[00h 46m 04s] Total saved so far: 1545\n",
      "[00h 46m 28s] Total saved so far: 1546\n"
     ]
    },
    {
     "name": "stderr",
     "output_type": "stream",
     "text": [
      "not a 200 response: 404\n"
     ]
    },
    {
     "name": "stdout",
     "output_type": "stream",
     "text": [
      "[00h 46m 52s] Total saved so far: 1546\n"
     ]
    },
    {
     "name": "stderr",
     "output_type": "stream",
     "text": [
      "not a 200 response: 404\n"
     ]
    },
    {
     "name": "stdout",
     "output_type": "stream",
     "text": [
      "[00h 47m 16s] Total saved so far: 1546\n"
     ]
    },
    {
     "name": "stderr",
     "output_type": "stream",
     "text": [
      "not a 200 response: 404\n"
     ]
    },
    {
     "name": "stdout",
     "output_type": "stream",
     "text": [
      "[00h 47m 44s] Total saved so far: 1546\n"
     ]
    },
    {
     "name": "stderr",
     "output_type": "stream",
     "text": [
      "not a 200 response: 404\n"
     ]
    },
    {
     "name": "stdout",
     "output_type": "stream",
     "text": [
      "[00h 48m 10s] Total saved so far: 1546\n"
     ]
    },
    {
     "name": "stderr",
     "output_type": "stream",
     "text": [
      "not a 200 response: 404\n"
     ]
    },
    {
     "name": "stdout",
     "output_type": "stream",
     "text": [
      "[00h 48m 38s] Total saved so far: 1546\n"
     ]
    },
    {
     "name": "stderr",
     "output_type": "stream",
     "text": [
      "not a 200 response: 404\n"
     ]
    },
    {
     "name": "stdout",
     "output_type": "stream",
     "text": [
      "[00h 49m 02s] Total saved so far: 1546\n"
     ]
    },
    {
     "name": "stderr",
     "output_type": "stream",
     "text": [
      "not a 200 response: 404\n"
     ]
    },
    {
     "name": "stdout",
     "output_type": "stream",
     "text": [
      "[00h 49m 30s] Total saved so far: 1546\n"
     ]
    },
    {
     "name": "stderr",
     "output_type": "stream",
     "text": [
      "not a 200 response: 404\n"
     ]
    },
    {
     "name": "stdout",
     "output_type": "stream",
     "text": [
      "[00h 49m 57s] Total saved so far: 1546\n"
     ]
    },
    {
     "name": "stderr",
     "output_type": "stream",
     "text": [
      "not a 200 response: 404\n"
     ]
    },
    {
     "name": "stdout",
     "output_type": "stream",
     "text": [
      "[00h 50m 25s] Total saved so far: 1546\n"
     ]
    },
    {
     "name": "stderr",
     "output_type": "stream",
     "text": [
      "not a 200 response: 404\n"
     ]
    },
    {
     "name": "stdout",
     "output_type": "stream",
     "text": [
      "[00h 50m 52s] Total saved so far: 1546\n"
     ]
    },
    {
     "name": "stderr",
     "output_type": "stream",
     "text": [
      "not a 200 response: 404\n"
     ]
    },
    {
     "name": "stdout",
     "output_type": "stream",
     "text": [
      "[00h 51m 19s] Total saved so far: 1546\n"
     ]
    },
    {
     "name": "stderr",
     "output_type": "stream",
     "text": [
      "not a 200 response: 404\n"
     ]
    },
    {
     "name": "stdout",
     "output_type": "stream",
     "text": [
      "[00h 51m 52s] Total saved so far: 1546\n"
     ]
    },
    {
     "name": "stderr",
     "output_type": "stream",
     "text": [
      "not a 200 response: 404\n"
     ]
    },
    {
     "name": "stdout",
     "output_type": "stream",
     "text": [
      "[00h 52m 20s] Total saved so far: 1546\n"
     ]
    },
    {
     "name": "stderr",
     "output_type": "stream",
     "text": [
      "not a 200 response: 404\n"
     ]
    }
   ],
   "source": [
    "url_scraper = CBCScraper(pause_min=5, pause_max=10)\n",
    "url_scraper.get_urls()"
   ]
  },
  {
   "cell_type": "code",
   "execution_count": null,
   "metadata": {},
   "outputs": [],
   "source": []
  }
 ],
 "metadata": {
  "kernelspec": {
   "display_name": "Python 3 (ipykernel)",
   "language": "python",
   "name": "python3"
  },
  "language_info": {
   "codemirror_mode": {
    "name": "ipython",
    "version": 3
   },
   "file_extension": ".py",
   "mimetype": "text/x-python",
   "name": "python",
   "nbconvert_exporter": "python",
   "pygments_lexer": "ipython3",
   "version": "3.7.9"
  }
 },
 "nbformat": 4,
 "nbformat_minor": 2
}
